{
 "cells": [
  {
   "cell_type": "code",
   "execution_count": 53,
   "metadata": {
    "colab": {
     "base_uri": "https://localhost:8080/"
    },
    "id": "sYwKwmqKzZ4c",
    "outputId": "107751da-6442-4e19-96fc-dddcfb60911d"
   },
   "outputs": [
    {
     "name": "stdout",
     "output_type": "stream",
     "text": [
      "Drive already mounted at /content/drive; to attempt to forcibly remount, call drive.mount(\"/content/drive\", force_remount=True).\n"
     ]
    }
   ],
   "source": [
    "from google.colab import drive\n",
    "drive.mount('/content/drive')"
   ]
  },
  {
   "cell_type": "code",
   "execution_count": 54,
   "metadata": {
    "id": "2rg3NeZQCKQS"
   },
   "outputs": [],
   "source": [
    "# importing essential libraries and modules \n",
    "import numpy as np\n",
    "import pandas as pd\n",
    "import matplotlib.pyplot as plt\n",
    "%matplotlib inline\n",
    "import seaborn as sns\n",
    "\n",
    "from imblearn.over_sampling import SMOTE\n",
    "\n",
    "from sklearn.model_selection import  train_test_split\n",
    "\n",
    "from sklearn.preprocessing import StandardScaler\n",
    "from sklearn.linear_model import LogisticRegressionCV\n",
    "from sklearn.ensemble import RandomForestClassifier\n",
    "import xgboost as xgb\n",
    "from lightgbm import LGBMClassifier"
   ]
  },
  {
   "cell_type": "markdown",
   "metadata": {
    "id": "xcWH7icIzTqJ"
   },
   "source": [
    "## Analysing Training Set :"
   ]
  },
  {
   "cell_type": "code",
   "execution_count": 55,
   "metadata": {
    "colab": {
     "base_uri": "https://localhost:8080/"
    },
    "id": "eYOM9j4uCYIF",
    "outputId": "4f78b942-9957-4b6f-f4cf-32722451b779"
   },
   "outputs": [
    {
     "name": "stderr",
     "output_type": "stream",
     "text": [
      "/usr/local/lib/python3.6/dist-packages/IPython/core/interactiveshell.py:2718: DtypeWarning: Columns (3,4,5,6,7,14,16,17,18,19,20) have mixed types.Specify dtype option on import or set low_memory=False.\n",
      "  interactivity=interactivity, compiler=compiler, result=result)\n"
     ]
    },
    {
     "data": {
      "text/plain": [
       "(218586, 21)"
      ]
     },
     "execution_count": 55,
     "metadata": {
      "tags": []
     },
     "output_type": "execute_result"
    }
   ],
   "source": [
    "# load training set \n",
    "train = pd.read_csv(\"/content/drive/MyDrive/spotify_dataset.csv\")\n",
    "train.shape"
   ]
  },
  {
   "cell_type": "markdown",
   "metadata": {
    "id": "gIneyCKRzTqL"
   },
   "source": [
    "- It has 218586 rows and 21 attributes "
   ]
  },
  {
   "cell_type": "code",
   "execution_count": 56,
   "metadata": {
    "colab": {
     "base_uri": "https://localhost:8080/",
     "height": 479
    },
    "id": "OamigDZLCxOu",
    "outputId": "54640a8e-5b5a-414d-8420-a728a222a528"
   },
   "outputs": [
    {
     "data": {
      "text/html": [
       "<div>\n",
       "<style scoped>\n",
       "    .dataframe tbody tr th:only-of-type {\n",
       "        vertical-align: middle;\n",
       "    }\n",
       "\n",
       "    .dataframe tbody tr th {\n",
       "        vertical-align: top;\n",
       "    }\n",
       "\n",
       "    .dataframe thead th {\n",
       "        text-align: right;\n",
       "    }\n",
       "</style>\n",
       "<table border=\"1\" class=\"dataframe\">\n",
       "  <thead>\n",
       "    <tr style=\"text-align: right;\">\n",
       "      <th></th>\n",
       "      <th>session_id</th>\n",
       "      <th>session_position</th>\n",
       "      <th>session_length</th>\n",
       "      <th>track_id_clean</th>\n",
       "      <th>skip_1</th>\n",
       "      <th>skip_2</th>\n",
       "      <th>skip_3</th>\n",
       "      <th>not_skipped</th>\n",
       "      <th>context_switch</th>\n",
       "      <th>no_pause_before_play</th>\n",
       "      <th>short_pause_before_play</th>\n",
       "      <th>long_pause_before_play</th>\n",
       "      <th>hist_user_behavior_n_seekfwd</th>\n",
       "      <th>hist_user_behavior_n_seekback</th>\n",
       "      <th>hist_user_behavior_is_shuffle</th>\n",
       "      <th>hour_of_day</th>\n",
       "      <th>date</th>\n",
       "      <th>premium</th>\n",
       "      <th>context_type</th>\n",
       "      <th>hist_user_behavior_reason_start</th>\n",
       "      <th>hist_user_behavior_reason_end</th>\n",
       "    </tr>\n",
       "  </thead>\n",
       "  <tbody>\n",
       "    <tr>\n",
       "      <th>0</th>\n",
       "      <td>0_00006f66-33e5-4de7-a324-2d18e439fc1e</td>\n",
       "      <td>1.0</td>\n",
       "      <td>20.0</td>\n",
       "      <td>t_0479f24c-27d2-46d6-a00c-7ec928f2b539</td>\n",
       "      <td>False</td>\n",
       "      <td>False</td>\n",
       "      <td>False</td>\n",
       "      <td>True</td>\n",
       "      <td>0.0</td>\n",
       "      <td>0.0</td>\n",
       "      <td>0.0</td>\n",
       "      <td>0.0</td>\n",
       "      <td>0.0</td>\n",
       "      <td>0.0</td>\n",
       "      <td>True</td>\n",
       "      <td>16.0</td>\n",
       "      <td>7/15/2018</td>\n",
       "      <td>True</td>\n",
       "      <td>editorial_playlist</td>\n",
       "      <td>trackdone</td>\n",
       "      <td>trackdone</td>\n",
       "    </tr>\n",
       "    <tr>\n",
       "      <th>1</th>\n",
       "      <td>0_00006f66-33e5-4de7-a324-2d18e439fc1e</td>\n",
       "      <td>2.0</td>\n",
       "      <td>20.0</td>\n",
       "      <td>t_9099cd7b-c238-47b7-9381-f23f2c1d1043</td>\n",
       "      <td>False</td>\n",
       "      <td>False</td>\n",
       "      <td>False</td>\n",
       "      <td>True</td>\n",
       "      <td>0.0</td>\n",
       "      <td>1.0</td>\n",
       "      <td>0.0</td>\n",
       "      <td>0.0</td>\n",
       "      <td>0.0</td>\n",
       "      <td>0.0</td>\n",
       "      <td>True</td>\n",
       "      <td>16.0</td>\n",
       "      <td>7/15/2018</td>\n",
       "      <td>True</td>\n",
       "      <td>editorial_playlist</td>\n",
       "      <td>trackdone</td>\n",
       "      <td>trackdone</td>\n",
       "    </tr>\n",
       "    <tr>\n",
       "      <th>2</th>\n",
       "      <td>0_00006f66-33e5-4de7-a324-2d18e439fc1e</td>\n",
       "      <td>3.0</td>\n",
       "      <td>20.0</td>\n",
       "      <td>t_fc5df5ba-5396-49a7-8b29-35d0d28249e0</td>\n",
       "      <td>False</td>\n",
       "      <td>False</td>\n",
       "      <td>False</td>\n",
       "      <td>True</td>\n",
       "      <td>0.0</td>\n",
       "      <td>1.0</td>\n",
       "      <td>0.0</td>\n",
       "      <td>0.0</td>\n",
       "      <td>0.0</td>\n",
       "      <td>0.0</td>\n",
       "      <td>True</td>\n",
       "      <td>16.0</td>\n",
       "      <td>7/15/2018</td>\n",
       "      <td>True</td>\n",
       "      <td>editorial_playlist</td>\n",
       "      <td>trackdone</td>\n",
       "      <td>trackdone</td>\n",
       "    </tr>\n",
       "    <tr>\n",
       "      <th>3</th>\n",
       "      <td>0_00006f66-33e5-4de7-a324-2d18e439fc1e</td>\n",
       "      <td>4.0</td>\n",
       "      <td>20.0</td>\n",
       "      <td>t_23cff8d6-d874-4b20-83dc-94e450e8aa20</td>\n",
       "      <td>False</td>\n",
       "      <td>False</td>\n",
       "      <td>False</td>\n",
       "      <td>True</td>\n",
       "      <td>0.0</td>\n",
       "      <td>1.0</td>\n",
       "      <td>0.0</td>\n",
       "      <td>0.0</td>\n",
       "      <td>0.0</td>\n",
       "      <td>0.0</td>\n",
       "      <td>True</td>\n",
       "      <td>16.0</td>\n",
       "      <td>7/15/2018</td>\n",
       "      <td>True</td>\n",
       "      <td>editorial_playlist</td>\n",
       "      <td>trackdone</td>\n",
       "      <td>trackdone</td>\n",
       "    </tr>\n",
       "    <tr>\n",
       "      <th>4</th>\n",
       "      <td>0_00006f66-33e5-4de7-a324-2d18e439fc1e</td>\n",
       "      <td>5.0</td>\n",
       "      <td>20.0</td>\n",
       "      <td>t_64f3743c-f624-46bb-a579-0f3f9a07a123</td>\n",
       "      <td>False</td>\n",
       "      <td>False</td>\n",
       "      <td>False</td>\n",
       "      <td>True</td>\n",
       "      <td>0.0</td>\n",
       "      <td>1.0</td>\n",
       "      <td>0.0</td>\n",
       "      <td>0.0</td>\n",
       "      <td>0.0</td>\n",
       "      <td>0.0</td>\n",
       "      <td>True</td>\n",
       "      <td>16.0</td>\n",
       "      <td>7/15/2018</td>\n",
       "      <td>True</td>\n",
       "      <td>editorial_playlist</td>\n",
       "      <td>trackdone</td>\n",
       "      <td>trackdone</td>\n",
       "    </tr>\n",
       "  </tbody>\n",
       "</table>\n",
       "</div>"
      ],
      "text/plain": [
       "                               session_id  ...  hist_user_behavior_reason_end\n",
       "0  0_00006f66-33e5-4de7-a324-2d18e439fc1e  ...                      trackdone\n",
       "1  0_00006f66-33e5-4de7-a324-2d18e439fc1e  ...                      trackdone\n",
       "2  0_00006f66-33e5-4de7-a324-2d18e439fc1e  ...                      trackdone\n",
       "3  0_00006f66-33e5-4de7-a324-2d18e439fc1e  ...                      trackdone\n",
       "4  0_00006f66-33e5-4de7-a324-2d18e439fc1e  ...                      trackdone\n",
       "\n",
       "[5 rows x 21 columns]"
      ]
     },
     "execution_count": 56,
     "metadata": {
      "tags": []
     },
     "output_type": "execute_result"
    }
   ],
   "source": [
    "train.head()"
   ]
  },
  {
   "cell_type": "code",
   "execution_count": 57,
   "metadata": {
    "colab": {
     "base_uri": "https://localhost:8080/"
    },
    "id": "q9FEmz95GsQ8",
    "outputId": "3875ea28-a249-4b01-d7fe-e620e69cef15"
   },
   "outputs": [
    {
     "name": "stdout",
     "output_type": "stream",
     "text": [
      "<class 'pandas.core.frame.DataFrame'>\n",
      "RangeIndex: 218586 entries, 0 to 218585\n",
      "Data columns (total 21 columns):\n",
      " #   Column                           Non-Null Count   Dtype  \n",
      "---  ------                           --------------   -----  \n",
      " 0   session_id                       167881 non-null  object \n",
      " 1   session_position                 167880 non-null  float64\n",
      " 2   session_length                   167880 non-null  float64\n",
      " 3   track_id_clean                   167880 non-null  object \n",
      " 4   skip_1                           167880 non-null  object \n",
      " 5   skip_2                           167880 non-null  object \n",
      " 6   skip_3                           167880 non-null  object \n",
      " 7   not_skipped                      167880 non-null  object \n",
      " 8   context_switch                   167880 non-null  float64\n",
      " 9   no_pause_before_play             167880 non-null  float64\n",
      " 10  short_pause_before_play          167880 non-null  float64\n",
      " 11  long_pause_before_play           167880 non-null  float64\n",
      " 12  hist_user_behavior_n_seekfwd     167880 non-null  float64\n",
      " 13  hist_user_behavior_n_seekback    167880 non-null  float64\n",
      " 14  hist_user_behavior_is_shuffle    167880 non-null  object \n",
      " 15  hour_of_day                      167880 non-null  float64\n",
      " 16  date                             167880 non-null  object \n",
      " 17  premium                          167880 non-null  object \n",
      " 18  context_type                     167880 non-null  object \n",
      " 19  hist_user_behavior_reason_start  167880 non-null  object \n",
      " 20  hist_user_behavior_reason_end    167880 non-null  object \n",
      "dtypes: float64(9), object(12)\n",
      "memory usage: 35.0+ MB\n"
     ]
    }
   ],
   "source": [
    "# Information of training set\n",
    "train.info()"
   ]
  },
  {
   "cell_type": "markdown",
   "metadata": {
    "id": "VsrMR_hczTqM"
   },
   "source": [
    "- There are 9 float atttributes and 12 object attributes\n",
    "- As from the data we can see, skip_1, skip_2 and some more coulmns are in  boolean(True or False) but it is counting as object so in pre-processing step we weill change the datatype \n",
    "- There are many null values "
   ]
  },
  {
   "cell_type": "markdown",
   "metadata": {
    "id": "4JmCDGsuzTqN"
   },
   "source": [
    "### Statistical summary "
   ]
  },
  {
   "cell_type": "code",
   "execution_count": 58,
   "metadata": {
    "colab": {
     "base_uri": "https://localhost:8080/",
     "height": 317
    },
    "id": "s6UeBjK2F-if",
    "outputId": "c4e8c18e-92ed-4e80-894a-9a1fddb26e77"
   },
   "outputs": [
    {
     "data": {
      "text/html": [
       "<div>\n",
       "<style scoped>\n",
       "    .dataframe tbody tr th:only-of-type {\n",
       "        vertical-align: middle;\n",
       "    }\n",
       "\n",
       "    .dataframe tbody tr th {\n",
       "        vertical-align: top;\n",
       "    }\n",
       "\n",
       "    .dataframe thead th {\n",
       "        text-align: right;\n",
       "    }\n",
       "</style>\n",
       "<table border=\"1\" class=\"dataframe\">\n",
       "  <thead>\n",
       "    <tr style=\"text-align: right;\">\n",
       "      <th></th>\n",
       "      <th>session_position</th>\n",
       "      <th>session_length</th>\n",
       "      <th>context_switch</th>\n",
       "      <th>no_pause_before_play</th>\n",
       "      <th>short_pause_before_play</th>\n",
       "      <th>long_pause_before_play</th>\n",
       "      <th>hist_user_behavior_n_seekfwd</th>\n",
       "      <th>hist_user_behavior_n_seekback</th>\n",
       "      <th>hour_of_day</th>\n",
       "    </tr>\n",
       "  </thead>\n",
       "  <tbody>\n",
       "    <tr>\n",
       "      <th>count</th>\n",
       "      <td>167880.000000</td>\n",
       "      <td>167880.000000</td>\n",
       "      <td>167880.000000</td>\n",
       "      <td>167880.000000</td>\n",
       "      <td>167880.000000</td>\n",
       "      <td>167880.000000</td>\n",
       "      <td>167880.000000</td>\n",
       "      <td>167880.000000</td>\n",
       "      <td>167880.000000</td>\n",
       "    </tr>\n",
       "    <tr>\n",
       "      <th>mean</th>\n",
       "      <td>9.325911</td>\n",
       "      <td>17.651823</td>\n",
       "      <td>0.040904</td>\n",
       "      <td>0.767602</td>\n",
       "      <td>0.146635</td>\n",
       "      <td>0.172832</td>\n",
       "      <td>0.038909</td>\n",
       "      <td>0.046259</td>\n",
       "      <td>14.193084</td>\n",
       "    </tr>\n",
       "    <tr>\n",
       "      <th>std</th>\n",
       "      <td>5.457638</td>\n",
       "      <td>3.422025</td>\n",
       "      <td>0.198069</td>\n",
       "      <td>0.422363</td>\n",
       "      <td>0.353742</td>\n",
       "      <td>0.378103</td>\n",
       "      <td>0.367295</td>\n",
       "      <td>0.606558</td>\n",
       "      <td>5.996243</td>\n",
       "    </tr>\n",
       "    <tr>\n",
       "      <th>min</th>\n",
       "      <td>1.000000</td>\n",
       "      <td>10.000000</td>\n",
       "      <td>0.000000</td>\n",
       "      <td>0.000000</td>\n",
       "      <td>0.000000</td>\n",
       "      <td>0.000000</td>\n",
       "      <td>0.000000</td>\n",
       "      <td>0.000000</td>\n",
       "      <td>0.000000</td>\n",
       "    </tr>\n",
       "    <tr>\n",
       "      <th>25%</th>\n",
       "      <td>5.000000</td>\n",
       "      <td>15.000000</td>\n",
       "      <td>0.000000</td>\n",
       "      <td>1.000000</td>\n",
       "      <td>0.000000</td>\n",
       "      <td>0.000000</td>\n",
       "      <td>0.000000</td>\n",
       "      <td>0.000000</td>\n",
       "      <td>11.000000</td>\n",
       "    </tr>\n",
       "    <tr>\n",
       "      <th>50%</th>\n",
       "      <td>9.000000</td>\n",
       "      <td>20.000000</td>\n",
       "      <td>0.000000</td>\n",
       "      <td>1.000000</td>\n",
       "      <td>0.000000</td>\n",
       "      <td>0.000000</td>\n",
       "      <td>0.000000</td>\n",
       "      <td>0.000000</td>\n",
       "      <td>15.000000</td>\n",
       "    </tr>\n",
       "    <tr>\n",
       "      <th>75%</th>\n",
       "      <td>14.000000</td>\n",
       "      <td>20.000000</td>\n",
       "      <td>0.000000</td>\n",
       "      <td>1.000000</td>\n",
       "      <td>0.000000</td>\n",
       "      <td>0.000000</td>\n",
       "      <td>0.000000</td>\n",
       "      <td>0.000000</td>\n",
       "      <td>19.000000</td>\n",
       "    </tr>\n",
       "    <tr>\n",
       "      <th>max</th>\n",
       "      <td>20.000000</td>\n",
       "      <td>20.000000</td>\n",
       "      <td>1.000000</td>\n",
       "      <td>1.000000</td>\n",
       "      <td>1.000000</td>\n",
       "      <td>1.000000</td>\n",
       "      <td>60.000000</td>\n",
       "      <td>151.000000</td>\n",
       "      <td>23.000000</td>\n",
       "    </tr>\n",
       "  </tbody>\n",
       "</table>\n",
       "</div>"
      ],
      "text/plain": [
       "       session_position  ...    hour_of_day\n",
       "count     167880.000000  ...  167880.000000\n",
       "mean           9.325911  ...      14.193084\n",
       "std            5.457638  ...       5.996243\n",
       "min            1.000000  ...       0.000000\n",
       "25%            5.000000  ...      11.000000\n",
       "50%            9.000000  ...      15.000000\n",
       "75%           14.000000  ...      19.000000\n",
       "max           20.000000  ...      23.000000\n",
       "\n",
       "[8 rows x 9 columns]"
      ]
     },
     "execution_count": 58,
     "metadata": {
      "tags": []
     },
     "output_type": "execute_result"
    }
   ],
   "source": [
    "train.describe()"
   ]
  },
  {
   "cell_type": "code",
   "execution_count": 59,
   "metadata": {
    "colab": {
     "base_uri": "https://localhost:8080/",
     "height": 244
    },
    "id": "Umcs3eNvKHgJ",
    "outputId": "8f4b9b19-d284-4969-a36c-2760f8fb9b51"
   },
   "outputs": [
    {
     "data": {
      "text/html": [
       "<div>\n",
       "<style scoped>\n",
       "    .dataframe tbody tr th:only-of-type {\n",
       "        vertical-align: middle;\n",
       "    }\n",
       "\n",
       "    .dataframe tbody tr th {\n",
       "        vertical-align: top;\n",
       "    }\n",
       "\n",
       "    .dataframe thead th {\n",
       "        text-align: right;\n",
       "    }\n",
       "</style>\n",
       "<table border=\"1\" class=\"dataframe\">\n",
       "  <thead>\n",
       "    <tr style=\"text-align: right;\">\n",
       "      <th></th>\n",
       "      <th>session_id</th>\n",
       "      <th>track_id_clean</th>\n",
       "      <th>skip_1</th>\n",
       "      <th>skip_2</th>\n",
       "      <th>skip_3</th>\n",
       "      <th>not_skipped</th>\n",
       "      <th>hist_user_behavior_is_shuffle</th>\n",
       "      <th>date</th>\n",
       "      <th>premium</th>\n",
       "      <th>context_type</th>\n",
       "      <th>hist_user_behavior_reason_start</th>\n",
       "      <th>hist_user_behavior_reason_end</th>\n",
       "    </tr>\n",
       "  </thead>\n",
       "  <tbody>\n",
       "    <tr>\n",
       "      <th>count</th>\n",
       "      <td>167881</td>\n",
       "      <td>167880</td>\n",
       "      <td>167880</td>\n",
       "      <td>167880</td>\n",
       "      <td>167880</td>\n",
       "      <td>167880</td>\n",
       "      <td>167880</td>\n",
       "      <td>167880</td>\n",
       "      <td>167880</td>\n",
       "      <td>167880</td>\n",
       "      <td>167880</td>\n",
       "      <td>167880</td>\n",
       "    </tr>\n",
       "    <tr>\n",
       "      <th>unique</th>\n",
       "      <td>10001</td>\n",
       "      <td>50704</td>\n",
       "      <td>2</td>\n",
       "      <td>2</td>\n",
       "      <td>2</td>\n",
       "      <td>2</td>\n",
       "      <td>2</td>\n",
       "      <td>18</td>\n",
       "      <td>2</td>\n",
       "      <td>6</td>\n",
       "      <td>9</td>\n",
       "      <td>7</td>\n",
       "    </tr>\n",
       "    <tr>\n",
       "      <th>top</th>\n",
       "      <td>0_09fd07ff-577c-4499-8d87-74ada734f106</td>\n",
       "      <td>t_bacf06d3-9185-4183-84ea-ff0db51475ce</td>\n",
       "      <td>False</td>\n",
       "      <td>True</td>\n",
       "      <td>True</td>\n",
       "      <td>False</td>\n",
       "      <td>False</td>\n",
       "      <td>7/15/2018</td>\n",
       "      <td>True</td>\n",
       "      <td>user_collection</td>\n",
       "      <td>fwdbtn</td>\n",
       "      <td>fwdbtn</td>\n",
       "    </tr>\n",
       "    <tr>\n",
       "      <th>freq</th>\n",
       "      <td>20</td>\n",
       "      <td>1427</td>\n",
       "      <td>97118</td>\n",
       "      <td>86824</td>\n",
       "      <td>108850</td>\n",
       "      <td>111996</td>\n",
       "      <td>116050</td>\n",
       "      <td>119639</td>\n",
       "      <td>136053</td>\n",
       "      <td>67430</td>\n",
       "      <td>79912</td>\n",
       "      <td>81389</td>\n",
       "    </tr>\n",
       "  </tbody>\n",
       "</table>\n",
       "</div>"
      ],
      "text/plain": [
       "                                    session_id  ... hist_user_behavior_reason_end\n",
       "count                                   167881  ...                        167880\n",
       "unique                                   10001  ...                             7\n",
       "top     0_09fd07ff-577c-4499-8d87-74ada734f106  ...                        fwdbtn\n",
       "freq                                        20  ...                         81389\n",
       "\n",
       "[4 rows x 12 columns]"
      ]
     },
     "execution_count": 59,
     "metadata": {
      "tags": []
     },
     "output_type": "execute_result"
    }
   ],
   "source": [
    "# summary for objects columns\n",
    "train.describe(include=['O'])"
   ]
  },
  {
   "cell_type": "markdown",
   "metadata": {
    "id": "krnFrDFlzTqO"
   },
   "source": [
    "### Data-preprocessing and EDA"
   ]
  },
  {
   "cell_type": "code",
   "execution_count": 60,
   "metadata": {
    "colab": {
     "base_uri": "https://localhost:8080/"
    },
    "id": "CQZ-XX62HSAx",
    "outputId": "24eacd9b-3651-4aa6-c4de-abe2f20de599"
   },
   "outputs": [
    {
     "data": {
      "text/plain": [
       "(167880, 21)"
      ]
     },
     "execution_count": 60,
     "metadata": {
      "tags": []
     },
     "output_type": "execute_result"
    }
   ],
   "source": [
    "# droping duplicates and null values : \n",
    "train.drop_duplicates(inplace=True)\n",
    "train.dropna(inplace=True)\n",
    "train.shape"
   ]
  },
  {
   "cell_type": "code",
   "execution_count": 61,
   "metadata": {
    "id": "0jyTVZT5F-uV"
   },
   "outputs": [],
   "source": [
    "# changing the type of columns \n",
    "for colname in ['skip_1','skip_2','skip_3','not_skipped','hist_user_behavior_is_shuffle','premium']:\n",
    "    train[colname] = train[colname].astype(int, copy=False)"
   ]
  },
  {
   "cell_type": "markdown",
   "metadata": {
    "id": "lJQbtZiXzTqP"
   },
   "source": [
    "### Creating target column"
   ]
  },
  {
   "cell_type": "code",
   "execution_count": 62,
   "metadata": {
    "id": "ypPTUrBxF_B3"
   },
   "outputs": [],
   "source": [
    "train['skip'] = train['not_skipped'].replace({ 0 : 1, 1 : 0 })"
   ]
  },
  {
   "cell_type": "code",
   "execution_count": 63,
   "metadata": {
    "colab": {
     "base_uri": "https://localhost:8080/"
    },
    "id": "0eZxEsBcF_Ey",
    "outputId": "80ccf298-040a-4060-ad9b-46a32a61adb3"
   },
   "outputs": [
    {
     "data": {
      "text/plain": [
       "1    111996\n",
       "0     55884\n",
       "Name: skip, dtype: int64"
      ]
     },
     "execution_count": 63,
     "metadata": {
      "tags": []
     },
     "output_type": "execute_result"
    }
   ],
   "source": [
    "train['skip'].value_counts()"
   ]
  },
  {
   "cell_type": "code",
   "execution_count": 64,
   "metadata": {
    "colab": {
     "base_uri": "https://localhost:8080/",
     "height": 265
    },
    "id": "q9LXL6d0F_KO",
    "outputId": "6c7933e5-1db5-467d-c609-9d4568f20c0c"
   },
   "outputs": [
    {
     "data": {
      "text/plain": [
       "<matplotlib.axes._subplots.AxesSubplot at 0x7f4e31f234a8>"
      ]
     },
     "execution_count": 64,
     "metadata": {
      "tags": []
     },
     "output_type": "execute_result"
    },
    {
     "data": {
      "image/png": "[encoded data removed]",
      "text/plain": [
       "<Figure size 432x288 with 1 Axes>"
      ]
     },
     "metadata": {
      "tags": []
     },
     "output_type": "display_data"
    }
   ],
   "source": [
    "train['skip'].value_counts().plot(kind='pie', autopct = \"%1.0f%%\")"
   ]
  },
  {
   "cell_type": "markdown",
   "metadata": {
    "id": "dVZ3oisLzTqQ"
   },
   "source": [
    "### Analysing categorical data"
   ]
  },
  {
   "cell_type": "code",
   "execution_count": 65,
   "metadata": {
    "colab": {
     "base_uri": "https://localhost:8080/",
     "height": 1000
    },
    "id": "xaradiUiJ_H9",
    "outputId": "cf3ee15d-b443-47a5-f478-d8d48a6a3659"
   },
   "outputs": [
    {
     "data": {
      "image/png": "[encoded data removed]",
      "text/plain": [
       "<Figure size 1440x1800 with 13 Axes>"
      ]
     },
     "metadata": {
      "needs_background": "light",
      "tags": []
     },
     "output_type": "display_data"
    }
   ],
   "source": [
    "col = ['skip_1','skip_2','skip_3',\n",
    "       'not_skipped','context_switch','no_pause_before_play',\n",
    "       'short_pause_before_play','long_pause_before_play','hist_user_behavior_is_shuffle',\n",
    "       'premium','context_type','hist_user_behavior_reason_start',\n",
    "       'hist_user_behavior_reason_end']\n",
    "\n",
    "plt.figure(figsize=(20,25))\n",
    "n = 1\n",
    "for colname in col:\n",
    "    plt.subplot(5,3,n)\n",
    "    train[colname].value_counts().plot(kind='bar')\n",
    "    plt.xlabel(colname)\n",
    "    n +=1"
   ]
  },
  {
   "cell_type": "code",
   "execution_count": 66,
   "metadata": {
    "colab": {
     "base_uri": "https://localhost:8080/"
    },
    "id": "pcHDIfxDaJ-U",
    "outputId": "8459da67-9de5-4386-c07c-38b947b2810d"
   },
   "outputs": [
    {
     "data": {
      "text/plain": [
       "(167880, 22)"
      ]
     },
     "execution_count": 66,
     "metadata": {
      "tags": []
     },
     "output_type": "execute_result"
    }
   ],
   "source": [
    "# creating copy of the train data \n",
    "df = train.copy()\n",
    "df.shape"
   ]
  },
  {
   "cell_type": "code",
   "execution_count": 67,
   "metadata": {
    "id": "i52m1VvvPnrf"
   },
   "outputs": [],
   "source": [
    "# df.date = df.date.apply(pd.to_datetime)\n",
    "# df.info()"
   ]
  },
  {
   "cell_type": "markdown",
   "metadata": {
    "id": "tzmmdCnlzTqS"
   },
   "source": [
    "### Dropping Irrelevent columns"
   ]
  },
  {
   "cell_type": "code",
   "execution_count": 68,
   "metadata": {
    "colab": {
     "base_uri": "https://localhost:8080/"
    },
    "id": "ae_2psEtmC-K",
    "outputId": "ac087169-d103-4243-8beb-b3105fadce74"
   },
   "outputs": [
    {
     "data": {
      "text/plain": [
       "(167880, 17)"
      ]
     },
     "execution_count": 68,
     "metadata": {
      "tags": []
     },
     "output_type": "execute_result"
    }
   ],
   "source": [
    "df = df.drop(columns=['skip_1','skip_2','skip_3','not_skipped','date'])\n",
    "df.shape"
   ]
  },
  {
   "cell_type": "code",
   "execution_count": 69,
   "metadata": {
    "colab": {
     "base_uri": "https://localhost:8080/",
     "height": 479
    },
    "id": "L6LaVjvEmMdi",
    "outputId": "cf036e7a-f0b4-40d4-90c2-e587f8e8d696"
   },
   "outputs": [
    {
     "data": {
      "text/html": [
       "<div>\n",
       "<style scoped>\n",
       "    .dataframe tbody tr th:only-of-type {\n",
       "        vertical-align: middle;\n",
       "    }\n",
       "\n",
       "    .dataframe tbody tr th {\n",
       "        vertical-align: top;\n",
       "    }\n",
       "\n",
       "    .dataframe thead th {\n",
       "        text-align: right;\n",
       "    }\n",
       "</style>\n",
       "<table border=\"1\" class=\"dataframe\">\n",
       "  <thead>\n",
       "    <tr style=\"text-align: right;\">\n",
       "      <th></th>\n",
       "      <th>session_id</th>\n",
       "      <th>session_position</th>\n",
       "      <th>session_length</th>\n",
       "      <th>track_id_clean</th>\n",
       "      <th>context_switch</th>\n",
       "      <th>no_pause_before_play</th>\n",
       "      <th>short_pause_before_play</th>\n",
       "      <th>long_pause_before_play</th>\n",
       "      <th>hist_user_behavior_n_seekfwd</th>\n",
       "      <th>hist_user_behavior_n_seekback</th>\n",
       "      <th>hist_user_behavior_is_shuffle</th>\n",
       "      <th>hour_of_day</th>\n",
       "      <th>premium</th>\n",
       "      <th>context_type</th>\n",
       "      <th>hist_user_behavior_reason_start</th>\n",
       "      <th>hist_user_behavior_reason_end</th>\n",
       "      <th>skip</th>\n",
       "    </tr>\n",
       "  </thead>\n",
       "  <tbody>\n",
       "    <tr>\n",
       "      <th>0</th>\n",
       "      <td>0_00006f66-33e5-4de7-a324-2d18e439fc1e</td>\n",
       "      <td>1.0</td>\n",
       "      <td>20.0</td>\n",
       "      <td>t_0479f24c-27d2-46d6-a00c-7ec928f2b539</td>\n",
       "      <td>0.0</td>\n",
       "      <td>0.0</td>\n",
       "      <td>0.0</td>\n",
       "      <td>0.0</td>\n",
       "      <td>0.0</td>\n",
       "      <td>0.0</td>\n",
       "      <td>1</td>\n",
       "      <td>16.0</td>\n",
       "      <td>1</td>\n",
       "      <td>editorial_playlist</td>\n",
       "      <td>trackdone</td>\n",
       "      <td>trackdone</td>\n",
       "      <td>0</td>\n",
       "    </tr>\n",
       "    <tr>\n",
       "      <th>1</th>\n",
       "      <td>0_00006f66-33e5-4de7-a324-2d18e439fc1e</td>\n",
       "      <td>2.0</td>\n",
       "      <td>20.0</td>\n",
       "      <td>t_9099cd7b-c238-47b7-9381-f23f2c1d1043</td>\n",
       "      <td>0.0</td>\n",
       "      <td>1.0</td>\n",
       "      <td>0.0</td>\n",
       "      <td>0.0</td>\n",
       "      <td>0.0</td>\n",
       "      <td>0.0</td>\n",
       "      <td>1</td>\n",
       "      <td>16.0</td>\n",
       "      <td>1</td>\n",
       "      <td>editorial_playlist</td>\n",
       "      <td>trackdone</td>\n",
       "      <td>trackdone</td>\n",
       "      <td>0</td>\n",
       "    </tr>\n",
       "    <tr>\n",
       "      <th>2</th>\n",
       "      <td>0_00006f66-33e5-4de7-a324-2d18e439fc1e</td>\n",
       "      <td>3.0</td>\n",
       "      <td>20.0</td>\n",
       "      <td>t_fc5df5ba-5396-49a7-8b29-35d0d28249e0</td>\n",
       "      <td>0.0</td>\n",
       "      <td>1.0</td>\n",
       "      <td>0.0</td>\n",
       "      <td>0.0</td>\n",
       "      <td>0.0</td>\n",
       "      <td>0.0</td>\n",
       "      <td>1</td>\n",
       "      <td>16.0</td>\n",
       "      <td>1</td>\n",
       "      <td>editorial_playlist</td>\n",
       "      <td>trackdone</td>\n",
       "      <td>trackdone</td>\n",
       "      <td>0</td>\n",
       "    </tr>\n",
       "    <tr>\n",
       "      <th>3</th>\n",
       "      <td>0_00006f66-33e5-4de7-a324-2d18e439fc1e</td>\n",
       "      <td>4.0</td>\n",
       "      <td>20.0</td>\n",
       "      <td>t_23cff8d6-d874-4b20-83dc-94e450e8aa20</td>\n",
       "      <td>0.0</td>\n",
       "      <td>1.0</td>\n",
       "      <td>0.0</td>\n",
       "      <td>0.0</td>\n",
       "      <td>0.0</td>\n",
       "      <td>0.0</td>\n",
       "      <td>1</td>\n",
       "      <td>16.0</td>\n",
       "      <td>1</td>\n",
       "      <td>editorial_playlist</td>\n",
       "      <td>trackdone</td>\n",
       "      <td>trackdone</td>\n",
       "      <td>0</td>\n",
       "    </tr>\n",
       "    <tr>\n",
       "      <th>4</th>\n",
       "      <td>0_00006f66-33e5-4de7-a324-2d18e439fc1e</td>\n",
       "      <td>5.0</td>\n",
       "      <td>20.0</td>\n",
       "      <td>t_64f3743c-f624-46bb-a579-0f3f9a07a123</td>\n",
       "      <td>0.0</td>\n",
       "      <td>1.0</td>\n",
       "      <td>0.0</td>\n",
       "      <td>0.0</td>\n",
       "      <td>0.0</td>\n",
       "      <td>0.0</td>\n",
       "      <td>1</td>\n",
       "      <td>16.0</td>\n",
       "      <td>1</td>\n",
       "      <td>editorial_playlist</td>\n",
       "      <td>trackdone</td>\n",
       "      <td>trackdone</td>\n",
       "      <td>0</td>\n",
       "    </tr>\n",
       "  </tbody>\n",
       "</table>\n",
       "</div>"
      ],
      "text/plain": [
       "                               session_id  ...  skip\n",
       "0  0_00006f66-33e5-4de7-a324-2d18e439fc1e  ...     0\n",
       "1  0_00006f66-33e5-4de7-a324-2d18e439fc1e  ...     0\n",
       "2  0_00006f66-33e5-4de7-a324-2d18e439fc1e  ...     0\n",
       "3  0_00006f66-33e5-4de7-a324-2d18e439fc1e  ...     0\n",
       "4  0_00006f66-33e5-4de7-a324-2d18e439fc1e  ...     0\n",
       "\n",
       "[5 rows x 17 columns]"
      ]
     },
     "execution_count": 69,
     "metadata": {
      "tags": []
     },
     "output_type": "execute_result"
    }
   ],
   "source": [
    "df.head()"
   ]
  },
  {
   "cell_type": "markdown",
   "metadata": {
    "id": "raKpB08czTqT"
   },
   "source": [
    "### One-hot Encoding on Train data"
   ]
  },
  {
   "cell_type": "code",
   "execution_count": 70,
   "metadata": {
    "colab": {
     "base_uri": "https://localhost:8080/"
    },
    "id": "pv05o372J_jb",
    "outputId": "3dfdc398-e336-44bb-93dc-f01d149c6aae"
   },
   "outputs": [
    {
     "data": {
      "text/plain": [
       "(167880, 15)"
      ]
     },
     "execution_count": 70,
     "metadata": {
      "tags": []
     },
     "output_type": "execute_result"
    }
   ],
   "source": [
    "df1 = df.drop(['session_id', 'track_id_clean'], axis=1)\n",
    "df1.shape"
   ]
  },
  {
   "cell_type": "code",
   "execution_count": 71,
   "metadata": {
    "colab": {
     "base_uri": "https://localhost:8080/"
    },
    "id": "H4Zgh6TsZ-B9",
    "outputId": "1aa812a6-b6e5-4e28-cf77-db456ec18b0e"
   },
   "outputs": [
    {
     "data": {
      "text/plain": [
       "(167880, 34)"
      ]
     },
     "execution_count": 71,
     "metadata": {
      "tags": []
     },
     "output_type": "execute_result"
    }
   ],
   "source": [
    "dummy_train = pd.get_dummies(df1)\n",
    "dummy_train.shape"
   ]
  },
  {
   "cell_type": "code",
   "execution_count": 72,
   "metadata": {
    "colab": {
     "base_uri": "https://localhost:8080/",
     "height": 224
    },
    "id": "MkneoAjMZ-QL",
    "outputId": "c289460f-81db-4a31-e96d-48f6c52ae847"
   },
   "outputs": [
    {
     "data": {
      "text/html": [
       "<div>\n",
       "<style scoped>\n",
       "    .dataframe tbody tr th:only-of-type {\n",
       "        vertical-align: middle;\n",
       "    }\n",
       "\n",
       "    .dataframe tbody tr th {\n",
       "        vertical-align: top;\n",
       "    }\n",
       "\n",
       "    .dataframe thead th {\n",
       "        text-align: right;\n",
       "    }\n",
       "</style>\n",
       "<table border=\"1\" class=\"dataframe\">\n",
       "  <thead>\n",
       "    <tr style=\"text-align: right;\">\n",
       "      <th></th>\n",
       "      <th>session_position</th>\n",
       "      <th>session_length</th>\n",
       "      <th>context_switch</th>\n",
       "      <th>no_pause_before_play</th>\n",
       "      <th>short_pause_before_play</th>\n",
       "      <th>long_pause_before_play</th>\n",
       "      <th>hist_user_behavior_n_seekfwd</th>\n",
       "      <th>hist_user_behavior_n_seekback</th>\n",
       "      <th>hist_user_behavior_is_shuffle</th>\n",
       "      <th>hour_of_day</th>\n",
       "      <th>premium</th>\n",
       "      <th>skip</th>\n",
       "      <th>context_type_catalog</th>\n",
       "      <th>context_type_charts</th>\n",
       "      <th>context_type_editorial_playlist</th>\n",
       "      <th>context_type_personalized_playlist</th>\n",
       "      <th>context_type_radio</th>\n",
       "      <th>context_type_user_collection</th>\n",
       "      <th>hist_user_behavior_reason_start_appload</th>\n",
       "      <th>hist_user_behavior_reason_start_backbtn</th>\n",
       "      <th>hist_user_behavior_reason_start_clickrow</th>\n",
       "      <th>hist_user_behavior_reason_start_endplay</th>\n",
       "      <th>hist_user_behavior_reason_start_fwdbtn</th>\n",
       "      <th>hist_user_behavior_reason_start_playbtn</th>\n",
       "      <th>hist_user_behavior_reason_start_remote</th>\n",
       "      <th>hist_user_behavior_reason_start_trackdone</th>\n",
       "      <th>hist_user_behavior_reason_start_trackerror</th>\n",
       "      <th>hist_user_behavior_reason_end_backbtn</th>\n",
       "      <th>hist_user_behavior_reason_end_clickrow</th>\n",
       "      <th>hist_user_behavior_reason_end_endplay</th>\n",
       "      <th>hist_user_behavior_reason_end_fwdbtn</th>\n",
       "      <th>hist_user_behavior_reason_end_logout</th>\n",
       "      <th>hist_user_behavior_reason_end_remote</th>\n",
       "      <th>hist_user_behavior_reason_end_trackdone</th>\n",
       "    </tr>\n",
       "  </thead>\n",
       "  <tbody>\n",
       "    <tr>\n",
       "      <th>0</th>\n",
       "      <td>1.0</td>\n",
       "      <td>20.0</td>\n",
       "      <td>0.0</td>\n",
       "      <td>0.0</td>\n",
       "      <td>0.0</td>\n",
       "      <td>0.0</td>\n",
       "      <td>0.0</td>\n",
       "      <td>0.0</td>\n",
       "      <td>1</td>\n",
       "      <td>16.0</td>\n",
       "      <td>1</td>\n",
       "      <td>0</td>\n",
       "      <td>0</td>\n",
       "      <td>0</td>\n",
       "      <td>1</td>\n",
       "      <td>0</td>\n",
       "      <td>0</td>\n",
       "      <td>0</td>\n",
       "      <td>0</td>\n",
       "      <td>0</td>\n",
       "      <td>0</td>\n",
       "      <td>0</td>\n",
       "      <td>0</td>\n",
       "      <td>0</td>\n",
       "      <td>0</td>\n",
       "      <td>1</td>\n",
       "      <td>0</td>\n",
       "      <td>0</td>\n",
       "      <td>0</td>\n",
       "      <td>0</td>\n",
       "      <td>0</td>\n",
       "      <td>0</td>\n",
       "      <td>0</td>\n",
       "      <td>1</td>\n",
       "    </tr>\n",
       "    <tr>\n",
       "      <th>1</th>\n",
       "      <td>2.0</td>\n",
       "      <td>20.0</td>\n",
       "      <td>0.0</td>\n",
       "      <td>1.0</td>\n",
       "      <td>0.0</td>\n",
       "      <td>0.0</td>\n",
       "      <td>0.0</td>\n",
       "      <td>0.0</td>\n",
       "      <td>1</td>\n",
       "      <td>16.0</td>\n",
       "      <td>1</td>\n",
       "      <td>0</td>\n",
       "      <td>0</td>\n",
       "      <td>0</td>\n",
       "      <td>1</td>\n",
       "      <td>0</td>\n",
       "      <td>0</td>\n",
       "      <td>0</td>\n",
       "      <td>0</td>\n",
       "      <td>0</td>\n",
       "      <td>0</td>\n",
       "      <td>0</td>\n",
       "      <td>0</td>\n",
       "      <td>0</td>\n",
       "      <td>0</td>\n",
       "      <td>1</td>\n",
       "      <td>0</td>\n",
       "      <td>0</td>\n",
       "      <td>0</td>\n",
       "      <td>0</td>\n",
       "      <td>0</td>\n",
       "      <td>0</td>\n",
       "      <td>0</td>\n",
       "      <td>1</td>\n",
       "    </tr>\n",
       "    <tr>\n",
       "      <th>2</th>\n",
       "      <td>3.0</td>\n",
       "      <td>20.0</td>\n",
       "      <td>0.0</td>\n",
       "      <td>1.0</td>\n",
       "      <td>0.0</td>\n",
       "      <td>0.0</td>\n",
       "      <td>0.0</td>\n",
       "      <td>0.0</td>\n",
       "      <td>1</td>\n",
       "      <td>16.0</td>\n",
       "      <td>1</td>\n",
       "      <td>0</td>\n",
       "      <td>0</td>\n",
       "      <td>0</td>\n",
       "      <td>1</td>\n",
       "      <td>0</td>\n",
       "      <td>0</td>\n",
       "      <td>0</td>\n",
       "      <td>0</td>\n",
       "      <td>0</td>\n",
       "      <td>0</td>\n",
       "      <td>0</td>\n",
       "      <td>0</td>\n",
       "      <td>0</td>\n",
       "      <td>0</td>\n",
       "      <td>1</td>\n",
       "      <td>0</td>\n",
       "      <td>0</td>\n",
       "      <td>0</td>\n",
       "      <td>0</td>\n",
       "      <td>0</td>\n",
       "      <td>0</td>\n",
       "      <td>0</td>\n",
       "      <td>1</td>\n",
       "    </tr>\n",
       "    <tr>\n",
       "      <th>3</th>\n",
       "      <td>4.0</td>\n",
       "      <td>20.0</td>\n",
       "      <td>0.0</td>\n",
       "      <td>1.0</td>\n",
       "      <td>0.0</td>\n",
       "      <td>0.0</td>\n",
       "      <td>0.0</td>\n",
       "      <td>0.0</td>\n",
       "      <td>1</td>\n",
       "      <td>16.0</td>\n",
       "      <td>1</td>\n",
       "      <td>0</td>\n",
       "      <td>0</td>\n",
       "      <td>0</td>\n",
       "      <td>1</td>\n",
       "      <td>0</td>\n",
       "      <td>0</td>\n",
       "      <td>0</td>\n",
       "      <td>0</td>\n",
       "      <td>0</td>\n",
       "      <td>0</td>\n",
       "      <td>0</td>\n",
       "      <td>0</td>\n",
       "      <td>0</td>\n",
       "      <td>0</td>\n",
       "      <td>1</td>\n",
       "      <td>0</td>\n",
       "      <td>0</td>\n",
       "      <td>0</td>\n",
       "      <td>0</td>\n",
       "      <td>0</td>\n",
       "      <td>0</td>\n",
       "      <td>0</td>\n",
       "      <td>1</td>\n",
       "    </tr>\n",
       "    <tr>\n",
       "      <th>4</th>\n",
       "      <td>5.0</td>\n",
       "      <td>20.0</td>\n",
       "      <td>0.0</td>\n",
       "      <td>1.0</td>\n",
       "      <td>0.0</td>\n",
       "      <td>0.0</td>\n",
       "      <td>0.0</td>\n",
       "      <td>0.0</td>\n",
       "      <td>1</td>\n",
       "      <td>16.0</td>\n",
       "      <td>1</td>\n",
       "      <td>0</td>\n",
       "      <td>0</td>\n",
       "      <td>0</td>\n",
       "      <td>1</td>\n",
       "      <td>0</td>\n",
       "      <td>0</td>\n",
       "      <td>0</td>\n",
       "      <td>0</td>\n",
       "      <td>0</td>\n",
       "      <td>0</td>\n",
       "      <td>0</td>\n",
       "      <td>0</td>\n",
       "      <td>0</td>\n",
       "      <td>0</td>\n",
       "      <td>1</td>\n",
       "      <td>0</td>\n",
       "      <td>0</td>\n",
       "      <td>0</td>\n",
       "      <td>0</td>\n",
       "      <td>0</td>\n",
       "      <td>0</td>\n",
       "      <td>0</td>\n",
       "      <td>1</td>\n",
       "    </tr>\n",
       "  </tbody>\n",
       "</table>\n",
       "</div>"
      ],
      "text/plain": [
       "   session_position  ...  hist_user_behavior_reason_end_trackdone\n",
       "0               1.0  ...                                        1\n",
       "1               2.0  ...                                        1\n",
       "2               3.0  ...                                        1\n",
       "3               4.0  ...                                        1\n",
       "4               5.0  ...                                        1\n",
       "\n",
       "[5 rows x 34 columns]"
      ]
     },
     "execution_count": 72,
     "metadata": {
      "tags": []
     },
     "output_type": "execute_result"
    }
   ],
   "source": [
    "dummy_train.head()"
   ]
  },
  {
   "cell_type": "code",
   "execution_count": 72,
   "metadata": {
    "id": "KCu-oxmuZ-cf"
   },
   "outputs": [],
   "source": []
  },
  {
   "cell_type": "markdown",
   "metadata": {
    "id": "YFu0dveBzTqU"
   },
   "source": [
    "## Analysing Track Features "
   ]
  },
  {
   "cell_type": "code",
   "execution_count": 73,
   "metadata": {
    "colab": {
     "base_uri": "https://localhost:8080/",
     "height": 479
    },
    "id": "v7lxCvOTF_eO",
    "outputId": "502d461a-4eca-48eb-e4cd-2e21e0d6fb42"
   },
   "outputs": [
    {
     "data": {
      "text/html": [
       "<div>\n",
       "<style scoped>\n",
       "    .dataframe tbody tr th:only-of-type {\n",
       "        vertical-align: middle;\n",
       "    }\n",
       "\n",
       "    .dataframe tbody tr th {\n",
       "        vertical-align: top;\n",
       "    }\n",
       "\n",
       "    .dataframe thead th {\n",
       "        text-align: right;\n",
       "    }\n",
       "</style>\n",
       "<table border=\"1\" class=\"dataframe\">\n",
       "  <thead>\n",
       "    <tr style=\"text-align: right;\">\n",
       "      <th></th>\n",
       "      <th>track_id</th>\n",
       "      <th>duration</th>\n",
       "      <th>release_year</th>\n",
       "      <th>us_popularity_estimate</th>\n",
       "      <th>acousticness</th>\n",
       "      <th>beat_strength</th>\n",
       "      <th>bounciness</th>\n",
       "      <th>danceability</th>\n",
       "      <th>dyn_range_mean</th>\n",
       "      <th>energy</th>\n",
       "      <th>flatness</th>\n",
       "      <th>instrumentalness</th>\n",
       "      <th>key</th>\n",
       "      <th>liveness</th>\n",
       "      <th>loudness</th>\n",
       "      <th>mechanism</th>\n",
       "      <th>mode</th>\n",
       "      <th>organism</th>\n",
       "      <th>speechiness</th>\n",
       "      <th>tempo</th>\n",
       "      <th>time_signature</th>\n",
       "      <th>valence</th>\n",
       "      <th>acoustic_vector_0</th>\n",
       "      <th>acoustic_vector_1</th>\n",
       "      <th>acoustic_vector_2</th>\n",
       "      <th>acoustic_vector_3</th>\n",
       "      <th>acoustic_vector_4</th>\n",
       "      <th>acoustic_vector_5</th>\n",
       "      <th>acoustic_vector_6</th>\n",
       "      <th>acoustic_vector_7</th>\n",
       "    </tr>\n",
       "  </thead>\n",
       "  <tbody>\n",
       "    <tr>\n",
       "      <th>0</th>\n",
       "      <td>t_2e8f4b71-8a0b-4b9c-b7d8-fb5208e87f9f</td>\n",
       "      <td>326.013336</td>\n",
       "      <td>1971</td>\n",
       "      <td>99.582885</td>\n",
       "      <td>0.716209</td>\n",
       "      <td>0.366495</td>\n",
       "      <td>0.332605</td>\n",
       "      <td>0.439835</td>\n",
       "      <td>5.805774</td>\n",
       "      <td>0.238847</td>\n",
       "      <td>1.010700</td>\n",
       "      <td>6.533861e-01</td>\n",
       "      <td>0</td>\n",
       "      <td>0.769258</td>\n",
       "      <td>-17.094</td>\n",
       "      <td>0.199170</td>\n",
       "      <td>major</td>\n",
       "      <td>0.759699</td>\n",
       "      <td>0.033940</td>\n",
       "      <td>100.370003</td>\n",
       "      <td>4</td>\n",
       "      <td>0.223395</td>\n",
       "      <td>0.146012</td>\n",
       "      <td>-0.706908</td>\n",
       "      <td>0.259496</td>\n",
       "      <td>0.481157</td>\n",
       "      <td>0.238427</td>\n",
       "      <td>-0.098389</td>\n",
       "      <td>-0.254960</td>\n",
       "      <td>-0.227383</td>\n",
       "    </tr>\n",
       "    <tr>\n",
       "      <th>1</th>\n",
       "      <td>t_dae2ec0e-ec7b-4b3e-b60c-4a884d0eccb0</td>\n",
       "      <td>147.813324</td>\n",
       "      <td>1963</td>\n",
       "      <td>97.272035</td>\n",
       "      <td>0.839460</td>\n",
       "      <td>0.362212</td>\n",
       "      <td>0.389829</td>\n",
       "      <td>0.507580</td>\n",
       "      <td>6.845427</td>\n",
       "      <td>0.420476</td>\n",
       "      <td>1.000398</td>\n",
       "      <td>3.941550e-09</td>\n",
       "      <td>0</td>\n",
       "      <td>0.085844</td>\n",
       "      <td>-11.295</td>\n",
       "      <td>0.357639</td>\n",
       "      <td>major</td>\n",
       "      <td>0.747436</td>\n",
       "      <td>0.049856</td>\n",
       "      <td>141.334000</td>\n",
       "      <td>4</td>\n",
       "      <td>0.484702</td>\n",
       "      <td>0.039554</td>\n",
       "      <td>-0.539554</td>\n",
       "      <td>0.105141</td>\n",
       "      <td>0.692589</td>\n",
       "      <td>0.226047</td>\n",
       "      <td>-0.468162</td>\n",
       "      <td>0.164389</td>\n",
       "      <td>-0.769024</td>\n",
       "    </tr>\n",
       "    <tr>\n",
       "      <th>2</th>\n",
       "      <td>t_cf0164dd-1531-4399-bfa6-dec19cd1fedc</td>\n",
       "      <td>110.400002</td>\n",
       "      <td>1974</td>\n",
       "      <td>99.620384</td>\n",
       "      <td>0.054673</td>\n",
       "      <td>0.495002</td>\n",
       "      <td>0.589378</td>\n",
       "      <td>0.552311</td>\n",
       "      <td>9.361949</td>\n",
       "      <td>0.842938</td>\n",
       "      <td>0.957766</td>\n",
       "      <td>1.041595e-01</td>\n",
       "      <td>0</td>\n",
       "      <td>0.407325</td>\n",
       "      <td>-9.310</td>\n",
       "      <td>0.304721</td>\n",
       "      <td>major</td>\n",
       "      <td>0.493154</td>\n",
       "      <td>0.071753</td>\n",
       "      <td>138.889999</td>\n",
       "      <td>4</td>\n",
       "      <td>0.818441</td>\n",
       "      <td>0.083863</td>\n",
       "      <td>-0.242108</td>\n",
       "      <td>-0.014258</td>\n",
       "      <td>0.096396</td>\n",
       "      <td>0.417641</td>\n",
       "      <td>-0.050576</td>\n",
       "      <td>-0.204757</td>\n",
       "      <td>-0.172563</td>\n",
       "    </tr>\n",
       "    <tr>\n",
       "      <th>3</th>\n",
       "      <td>t_0f90acc7-d5c5-4e53-901d-55610fbd090c</td>\n",
       "      <td>237.653336</td>\n",
       "      <td>1988</td>\n",
       "      <td>96.796830</td>\n",
       "      <td>0.042606</td>\n",
       "      <td>0.389634</td>\n",
       "      <td>0.359044</td>\n",
       "      <td>0.585673</td>\n",
       "      <td>6.068578</td>\n",
       "      <td>0.665398</td>\n",
       "      <td>0.947322</td>\n",
       "      <td>1.444963e-05</td>\n",
       "      <td>0</td>\n",
       "      <td>0.251502</td>\n",
       "      <td>-12.159</td>\n",
       "      <td>0.702948</td>\n",
       "      <td>major</td>\n",
       "      <td>0.212197</td>\n",
       "      <td>0.029425</td>\n",
       "      <td>133.139008</td>\n",
       "      <td>4</td>\n",
       "      <td>0.594829</td>\n",
       "      <td>0.192498</td>\n",
       "      <td>0.340039</td>\n",
       "      <td>0.034846</td>\n",
       "      <td>-0.389794</td>\n",
       "      <td>0.518381</td>\n",
       "      <td>0.185008</td>\n",
       "      <td>-0.079907</td>\n",
       "      <td>-0.016978</td>\n",
       "    </tr>\n",
       "    <tr>\n",
       "      <th>4</th>\n",
       "      <td>t_36b9ad02-095a-443d-a697-6c7285d9410a</td>\n",
       "      <td>174.600006</td>\n",
       "      <td>1987</td>\n",
       "      <td>97.905891</td>\n",
       "      <td>0.249982</td>\n",
       "      <td>0.513640</td>\n",
       "      <td>0.485435</td>\n",
       "      <td>0.635095</td>\n",
       "      <td>7.198735</td>\n",
       "      <td>0.408715</td>\n",
       "      <td>1.014063</td>\n",
       "      <td>5.266880e-01</td>\n",
       "      <td>0</td>\n",
       "      <td>0.218370</td>\n",
       "      <td>-13.813</td>\n",
       "      <td>0.888889</td>\n",
       "      <td>major</td>\n",
       "      <td>0.193438</td>\n",
       "      <td>0.032178</td>\n",
       "      <td>152.212006</td>\n",
       "      <td>4</td>\n",
       "      <td>0.591289</td>\n",
       "      <td>0.270586</td>\n",
       "      <td>-0.411061</td>\n",
       "      <td>0.165898</td>\n",
       "      <td>0.225652</td>\n",
       "      <td>0.335518</td>\n",
       "      <td>-0.036643</td>\n",
       "      <td>-0.016300</td>\n",
       "      <td>-0.446870</td>\n",
       "    </tr>\n",
       "  </tbody>\n",
       "</table>\n",
       "</div>"
      ],
      "text/plain": [
       "                                 track_id  ...  acoustic_vector_7\n",
       "0  t_2e8f4b71-8a0b-4b9c-b7d8-fb5208e87f9f  ...          -0.227383\n",
       "1  t_dae2ec0e-ec7b-4b3e-b60c-4a884d0eccb0  ...          -0.769024\n",
       "2  t_cf0164dd-1531-4399-bfa6-dec19cd1fedc  ...          -0.172563\n",
       "3  t_0f90acc7-d5c5-4e53-901d-55610fbd090c  ...          -0.016978\n",
       "4  t_36b9ad02-095a-443d-a697-6c7285d9410a  ...          -0.446870\n",
       "\n",
       "[5 rows x 30 columns]"
      ]
     },
     "execution_count": 73,
     "metadata": {
      "tags": []
     },
     "output_type": "execute_result"
    }
   ],
   "source": [
    "# there are two different files of track features so the aim is to merge both of them then analyse data: \n",
    "tf = pd.read_csv('/content/drive/MyDrive/tf_000000000000.csv')\n",
    "tf.head()"
   ]
  },
  {
   "cell_type": "code",
   "execution_count": 74,
   "metadata": {
    "colab": {
     "base_uri": "https://localhost:8080/",
     "height": 479
    },
    "id": "BMfwh5-oF_g4",
    "outputId": "ae651eef-b091-4209-ae6e-01638be2fc3f"
   },
   "outputs": [
    {
     "data": {
      "text/html": [
       "<div>\n",
       "<style scoped>\n",
       "    .dataframe tbody tr th:only-of-type {\n",
       "        vertical-align: middle;\n",
       "    }\n",
       "\n",
       "    .dataframe tbody tr th {\n",
       "        vertical-align: top;\n",
       "    }\n",
       "\n",
       "    .dataframe thead th {\n",
       "        text-align: right;\n",
       "    }\n",
       "</style>\n",
       "<table border=\"1\" class=\"dataframe\">\n",
       "  <thead>\n",
       "    <tr style=\"text-align: right;\">\n",
       "      <th></th>\n",
       "      <th>track_id</th>\n",
       "      <th>duration</th>\n",
       "      <th>release_year</th>\n",
       "      <th>us_popularity_estimate</th>\n",
       "      <th>acousticness</th>\n",
       "      <th>beat_strength</th>\n",
       "      <th>bounciness</th>\n",
       "      <th>danceability</th>\n",
       "      <th>dyn_range_mean</th>\n",
       "      <th>energy</th>\n",
       "      <th>flatness</th>\n",
       "      <th>instrumentalness</th>\n",
       "      <th>key</th>\n",
       "      <th>liveness</th>\n",
       "      <th>loudness</th>\n",
       "      <th>mechanism</th>\n",
       "      <th>mode</th>\n",
       "      <th>organism</th>\n",
       "      <th>speechiness</th>\n",
       "      <th>tempo</th>\n",
       "      <th>time_signature</th>\n",
       "      <th>valence</th>\n",
       "      <th>acoustic_vector_0</th>\n",
       "      <th>acoustic_vector_1</th>\n",
       "      <th>acoustic_vector_2</th>\n",
       "      <th>acoustic_vector_3</th>\n",
       "      <th>acoustic_vector_4</th>\n",
       "      <th>acoustic_vector_5</th>\n",
       "      <th>acoustic_vector_6</th>\n",
       "      <th>acoustic_vector_7</th>\n",
       "    </tr>\n",
       "  </thead>\n",
       "  <tbody>\n",
       "    <tr>\n",
       "      <th>0</th>\n",
       "      <td>t_8e88a9ea-1451-44ff-8fae-8bbad75b55c8</td>\n",
       "      <td>364.906677</td>\n",
       "      <td>1979</td>\n",
       "      <td>90.965232</td>\n",
       "      <td>0.851046</td>\n",
       "      <td>0.363622</td>\n",
       "      <td>0.300117</td>\n",
       "      <td>0.465182</td>\n",
       "      <td>5.150449</td>\n",
       "      <td>0.127037</td>\n",
       "      <td>1.054217</td>\n",
       "      <td>2.748115e-07</td>\n",
       "      <td>0</td>\n",
       "      <td>0.096354</td>\n",
       "      <td>-18.855</td>\n",
       "      <td>0.406516</td>\n",
       "      <td>major</td>\n",
       "      <td>0.733656</td>\n",
       "      <td>0.031645</td>\n",
       "      <td>132.020996</td>\n",
       "      <td>4</td>\n",
       "      <td>0.211844</td>\n",
       "      <td>0.042945</td>\n",
       "      <td>-0.433785</td>\n",
       "      <td>0.115645</td>\n",
       "      <td>0.456437</td>\n",
       "      <td>0.400481</td>\n",
       "      <td>-0.259629</td>\n",
       "      <td>-0.002503</td>\n",
       "      <td>-0.757088</td>\n",
       "    </tr>\n",
       "    <tr>\n",
       "      <th>1</th>\n",
       "      <td>t_65d18266-940a-4f27-9df5-fc9fee10b406</td>\n",
       "      <td>106.160004</td>\n",
       "      <td>1987</td>\n",
       "      <td>96.794376</td>\n",
       "      <td>0.250302</td>\n",
       "      <td>0.440026</td>\n",
       "      <td>0.414878</td>\n",
       "      <td>0.563041</td>\n",
       "      <td>6.605741</td>\n",
       "      <td>0.529062</td>\n",
       "      <td>0.962033</td>\n",
       "      <td>3.822885e-06</td>\n",
       "      <td>0</td>\n",
       "      <td>0.047301</td>\n",
       "      <td>-14.182</td>\n",
       "      <td>0.397906</td>\n",
       "      <td>major</td>\n",
       "      <td>0.461069</td>\n",
       "      <td>0.048545</td>\n",
       "      <td>126.434998</td>\n",
       "      <td>4</td>\n",
       "      <td>0.736954</td>\n",
       "      <td>-0.069781</td>\n",
       "      <td>-0.360500</td>\n",
       "      <td>0.170185</td>\n",
       "      <td>0.475511</td>\n",
       "      <td>0.501377</td>\n",
       "      <td>-0.199189</td>\n",
       "      <td>0.063746</td>\n",
       "      <td>-0.648822</td>\n",
       "    </tr>\n",
       "    <tr>\n",
       "      <th>2</th>\n",
       "      <td>t_59ef344c-10bc-415e-8a80-f97b46ee8bc8</td>\n",
       "      <td>275.906677</td>\n",
       "      <td>1985</td>\n",
       "      <td>98.495282</td>\n",
       "      <td>0.376435</td>\n",
       "      <td>0.659612</td>\n",
       "      <td>0.650850</td>\n",
       "      <td>0.696868</td>\n",
       "      <td>9.034748</td>\n",
       "      <td>0.378950</td>\n",
       "      <td>1.028740</td>\n",
       "      <td>1.942323e-03</td>\n",
       "      <td>0</td>\n",
       "      <td>0.112578</td>\n",
       "      <td>-13.783</td>\n",
       "      <td>0.376093</td>\n",
       "      <td>major</td>\n",
       "      <td>0.515249</td>\n",
       "      <td>0.027752</td>\n",
       "      <td>87.459999</td>\n",
       "      <td>4</td>\n",
       "      <td>0.703813</td>\n",
       "      <td>0.137408</td>\n",
       "      <td>-0.325600</td>\n",
       "      <td>0.162500</td>\n",
       "      <td>0.209357</td>\n",
       "      <td>0.556263</td>\n",
       "      <td>-0.047349</td>\n",
       "      <td>-0.201937</td>\n",
       "      <td>-0.722556</td>\n",
       "    </tr>\n",
       "    <tr>\n",
       "      <th>3</th>\n",
       "      <td>t_ba702bde-7de3-418f-95f6-5c1af618e28c</td>\n",
       "      <td>314.626678</td>\n",
       "      <td>1960</td>\n",
       "      <td>92.442730</td>\n",
       "      <td>0.710315</td>\n",
       "      <td>0.553800</td>\n",
       "      <td>0.617168</td>\n",
       "      <td>0.601151</td>\n",
       "      <td>9.409214</td>\n",
       "      <td>0.413531</td>\n",
       "      <td>1.009348</td>\n",
       "      <td>5.948958e-01</td>\n",
       "      <td>0</td>\n",
       "      <td>0.254762</td>\n",
       "      <td>-13.531</td>\n",
       "      <td>0.195933</td>\n",
       "      <td>major</td>\n",
       "      <td>0.758640</td>\n",
       "      <td>0.066143</td>\n",
       "      <td>118.060997</td>\n",
       "      <td>4</td>\n",
       "      <td>0.723693</td>\n",
       "      <td>0.461877</td>\n",
       "      <td>-1.031251</td>\n",
       "      <td>0.133070</td>\n",
       "      <td>0.653448</td>\n",
       "      <td>0.139172</td>\n",
       "      <td>-0.265598</td>\n",
       "      <td>-0.257693</td>\n",
       "      <td>-0.093790</td>\n",
       "    </tr>\n",
       "    <tr>\n",
       "      <th>4</th>\n",
       "      <td>t_96e1843d-312b-476d-9e31-ebb14bc478ff</td>\n",
       "      <td>323.133331</td>\n",
       "      <td>1990</td>\n",
       "      <td>96.715096</td>\n",
       "      <td>0.001014</td>\n",
       "      <td>0.318370</td>\n",
       "      <td>0.283095</td>\n",
       "      <td>0.331088</td>\n",
       "      <td>5.358051</td>\n",
       "      <td>0.759440</td>\n",
       "      <td>0.927291</td>\n",
       "      <td>7.619123e-04</td>\n",
       "      <td>0</td>\n",
       "      <td>0.082879</td>\n",
       "      <td>-11.208</td>\n",
       "      <td>0.422735</td>\n",
       "      <td>major</td>\n",
       "      <td>0.408188</td>\n",
       "      <td>0.057926</td>\n",
       "      <td>126.890999</td>\n",
       "      <td>4</td>\n",
       "      <td>0.418748</td>\n",
       "      <td>0.280588</td>\n",
       "      <td>0.362112</td>\n",
       "      <td>-0.345611</td>\n",
       "      <td>-0.461005</td>\n",
       "      <td>0.587766</td>\n",
       "      <td>0.128220</td>\n",
       "      <td>-0.172042</td>\n",
       "      <td>0.341655</td>\n",
       "    </tr>\n",
       "  </tbody>\n",
       "</table>\n",
       "</div>"
      ],
      "text/plain": [
       "                                 track_id  ...  acoustic_vector_7\n",
       "0  t_8e88a9ea-1451-44ff-8fae-8bbad75b55c8  ...          -0.757088\n",
       "1  t_65d18266-940a-4f27-9df5-fc9fee10b406  ...          -0.648822\n",
       "2  t_59ef344c-10bc-415e-8a80-f97b46ee8bc8  ...          -0.722556\n",
       "3  t_ba702bde-7de3-418f-95f6-5c1af618e28c  ...          -0.093790\n",
       "4  t_96e1843d-312b-476d-9e31-ebb14bc478ff  ...           0.341655\n",
       "\n",
       "[5 rows x 30 columns]"
      ]
     },
     "execution_count": 74,
     "metadata": {
      "tags": []
     },
     "output_type": "execute_result"
    }
   ],
   "source": [
    "tf2 = pd.read_csv('/content/drive/MyDrive/tf_000000000001.csv')\n",
    "tf2.head()"
   ]
  },
  {
   "cell_type": "code",
   "execution_count": 75,
   "metadata": {
    "colab": {
     "base_uri": "https://localhost:8080/"
    },
    "id": "tZvxKguhF_jl",
    "outputId": "05049aed-18fd-4cf5-b1ff-90e10d7db639"
   },
   "outputs": [
    {
     "data": {
      "text/plain": [
       "(3706388, 30)"
      ]
     },
     "execution_count": 75,
     "metadata": {
      "tags": []
     },
     "output_type": "execute_result"
    }
   ],
   "source": [
    "# joining two dataframes : \n",
    "track = pd.concat([tf, tf2])\n",
    "track.shape"
   ]
  },
  {
   "cell_type": "markdown",
   "metadata": {
    "id": "3AOYK2lOzTqW"
   },
   "source": [
    "### Inspecting data"
   ]
  },
  {
   "cell_type": "code",
   "execution_count": 76,
   "metadata": {
    "colab": {
     "base_uri": "https://localhost:8080/"
    },
    "id": "UdhcgwTGF_mY",
    "outputId": "d5ce233e-13ef-4e01-f1a0-b35794fad96c"
   },
   "outputs": [
    {
     "name": "stdout",
     "output_type": "stream",
     "text": [
      "<class 'pandas.core.frame.DataFrame'>\n",
      "Int64Index: 3706388 entries, 0 to 1853076\n",
      "Data columns (total 30 columns):\n",
      " #   Column                  Dtype  \n",
      "---  ------                  -----  \n",
      " 0   track_id                object \n",
      " 1   duration                float64\n",
      " 2   release_year            int64  \n",
      " 3   us_popularity_estimate  float64\n",
      " 4   acousticness            float64\n",
      " 5   beat_strength           float64\n",
      " 6   bounciness              float64\n",
      " 7   danceability            float64\n",
      " 8   dyn_range_mean          float64\n",
      " 9   energy                  float64\n",
      " 10  flatness                float64\n",
      " 11  instrumentalness        float64\n",
      " 12  key                     int64  \n",
      " 13  liveness                float64\n",
      " 14  loudness                float64\n",
      " 15  mechanism               float64\n",
      " 16  mode                    object \n",
      " 17  organism                float64\n",
      " 18  speechiness             float64\n",
      " 19  tempo                   float64\n",
      " 20  time_signature          int64  \n",
      " 21  valence                 float64\n",
      " 22  acoustic_vector_0       float64\n",
      " 23  acoustic_vector_1       float64\n",
      " 24  acoustic_vector_2       float64\n",
      " 25  acoustic_vector_3       float64\n",
      " 26  acoustic_vector_4       float64\n",
      " 27  acoustic_vector_5       float64\n",
      " 28  acoustic_vector_6       float64\n",
      " 29  acoustic_vector_7       float64\n",
      "dtypes: float64(25), int64(3), object(2)\n",
      "memory usage: 876.6+ MB\n"
     ]
    }
   ],
   "source": [
    "track.info()"
   ]
  },
  {
   "cell_type": "markdown",
   "metadata": {
    "id": "RsfE8Qh-zTqW"
   },
   "source": [
    "- There are 25 float attrbutes, 2 object and 3 integer attributes "
   ]
  },
  {
   "cell_type": "code",
   "execution_count": 77,
   "metadata": {
    "colab": {
     "base_uri": "https://localhost:8080/"
    },
    "id": "uakARgpoeDto",
    "outputId": "b87defe9-f544-4a48-c119-44e1ed30ca3d"
   },
   "outputs": [
    {
     "data": {
      "text/plain": [
       "0"
      ]
     },
     "execution_count": 77,
     "metadata": {
      "tags": []
     },
     "output_type": "execute_result"
    }
   ],
   "source": [
    "track.duplicated().sum()"
   ]
  },
  {
   "cell_type": "code",
   "execution_count": 78,
   "metadata": {
    "colab": {
     "base_uri": "https://localhost:8080/"
    },
    "id": "6I0HDcH0F_ow",
    "outputId": "f921a270-5dfa-4e39-d669-ba6f9437f419",
    "scrolled": false
   },
   "outputs": [
    {
     "data": {
      "text/plain": [
       "track_id                  0\n",
       "duration                  0\n",
       "release_year              0\n",
       "us_popularity_estimate    0\n",
       "acousticness              0\n",
       "beat_strength             0\n",
       "bounciness                0\n",
       "danceability              0\n",
       "dyn_range_mean            0\n",
       "energy                    0\n",
       "flatness                  0\n",
       "instrumentalness          0\n",
       "key                       0\n",
       "liveness                  0\n",
       "loudness                  0\n",
       "mechanism                 0\n",
       "mode                      0\n",
       "organism                  0\n",
       "speechiness               0\n",
       "tempo                     0\n",
       "time_signature            0\n",
       "valence                   0\n",
       "acoustic_vector_0         0\n",
       "acoustic_vector_1         0\n",
       "acoustic_vector_2         0\n",
       "acoustic_vector_3         0\n",
       "acoustic_vector_4         0\n",
       "acoustic_vector_5         0\n",
       "acoustic_vector_6         0\n",
       "acoustic_vector_7         0\n",
       "dtype: int64"
      ]
     },
     "execution_count": 78,
     "metadata": {
      "tags": []
     },
     "output_type": "execute_result"
    }
   ],
   "source": [
    "track.isna().sum()"
   ]
  },
  {
   "cell_type": "markdown",
   "metadata": {
    "id": "HRsjmIf6zTqX"
   },
   "source": [
    "- There are no duplicate values \n",
    "- There are no null values in track_features dataframe"
   ]
  },
  {
   "cell_type": "markdown",
   "metadata": {
    "id": "14-eW8w6zTqX"
   },
   "source": [
    "### Statistical summary of track features"
   ]
  },
  {
   "cell_type": "code",
   "execution_count": 79,
   "metadata": {
    "colab": {
     "base_uri": "https://localhost:8080/",
     "height": 317
    },
    "id": "jbU653jheCWZ",
    "outputId": "01aac241-f1b8-4073-d294-1cf2338db1a9"
   },
   "outputs": [
    {
     "data": {
      "text/html": [
       "<div>\n",
       "<style scoped>\n",
       "    .dataframe tbody tr th:only-of-type {\n",
       "        vertical-align: middle;\n",
       "    }\n",
       "\n",
       "    .dataframe tbody tr th {\n",
       "        vertical-align: top;\n",
       "    }\n",
       "\n",
       "    .dataframe thead th {\n",
       "        text-align: right;\n",
       "    }\n",
       "</style>\n",
       "<table border=\"1\" class=\"dataframe\">\n",
       "  <thead>\n",
       "    <tr style=\"text-align: right;\">\n",
       "      <th></th>\n",
       "      <th>duration</th>\n",
       "      <th>release_year</th>\n",
       "      <th>us_popularity_estimate</th>\n",
       "      <th>acousticness</th>\n",
       "      <th>beat_strength</th>\n",
       "      <th>bounciness</th>\n",
       "      <th>danceability</th>\n",
       "      <th>dyn_range_mean</th>\n",
       "      <th>energy</th>\n",
       "      <th>flatness</th>\n",
       "      <th>instrumentalness</th>\n",
       "      <th>key</th>\n",
       "      <th>liveness</th>\n",
       "      <th>loudness</th>\n",
       "      <th>mechanism</th>\n",
       "      <th>organism</th>\n",
       "      <th>speechiness</th>\n",
       "      <th>tempo</th>\n",
       "      <th>time_signature</th>\n",
       "      <th>valence</th>\n",
       "      <th>acoustic_vector_0</th>\n",
       "      <th>acoustic_vector_1</th>\n",
       "      <th>acoustic_vector_2</th>\n",
       "      <th>acoustic_vector_3</th>\n",
       "      <th>acoustic_vector_4</th>\n",
       "      <th>acoustic_vector_5</th>\n",
       "      <th>acoustic_vector_6</th>\n",
       "      <th>acoustic_vector_7</th>\n",
       "    </tr>\n",
       "  </thead>\n",
       "  <tbody>\n",
       "    <tr>\n",
       "      <th>count</th>\n",
       "      <td>3.706388e+06</td>\n",
       "      <td>3.706388e+06</td>\n",
       "      <td>3.706388e+06</td>\n",
       "      <td>3.706388e+06</td>\n",
       "      <td>3.706388e+06</td>\n",
       "      <td>3.706388e+06</td>\n",
       "      <td>3.706388e+06</td>\n",
       "      <td>3.706388e+06</td>\n",
       "      <td>3.706388e+06</td>\n",
       "      <td>3.706388e+06</td>\n",
       "      <td>3.706388e+06</td>\n",
       "      <td>3.706388e+06</td>\n",
       "      <td>3.706388e+06</td>\n",
       "      <td>3.706388e+06</td>\n",
       "      <td>3.706388e+06</td>\n",
       "      <td>3.706388e+06</td>\n",
       "      <td>3.706388e+06</td>\n",
       "      <td>3.706388e+06</td>\n",
       "      <td>3.706388e+06</td>\n",
       "      <td>3.706388e+06</td>\n",
       "      <td>3.706388e+06</td>\n",
       "      <td>3.706388e+06</td>\n",
       "      <td>3.706388e+06</td>\n",
       "      <td>3.706388e+06</td>\n",
       "      <td>3.706388e+06</td>\n",
       "      <td>3.706388e+06</td>\n",
       "      <td>3.706388e+06</td>\n",
       "      <td>3.706388e+06</td>\n",
       "    </tr>\n",
       "    <tr>\n",
       "      <th>mean</th>\n",
       "      <td>2.331915e+02</td>\n",
       "      <td>2.009261e+03</td>\n",
       "      <td>9.557394e+01</td>\n",
       "      <td>3.469715e-01</td>\n",
       "      <td>4.617475e-01</td>\n",
       "      <td>4.791122e-01</td>\n",
       "      <td>5.565486e-01</td>\n",
       "      <td>7.848266e+00</td>\n",
       "      <td>5.918491e-01</td>\n",
       "      <td>9.934531e-01</td>\n",
       "      <td>2.070054e-01</td>\n",
       "      <td>5.272434e+00</td>\n",
       "      <td>2.126515e-01</td>\n",
       "      <td>-9.604988e+00</td>\n",
       "      <td>4.996207e-01</td>\n",
       "      <td>4.618936e-01</td>\n",
       "      <td>1.045310e-01</td>\n",
       "      <td>1.200684e+02</td>\n",
       "      <td>3.874560e+00</td>\n",
       "      <td>4.814764e-01</td>\n",
       "      <td>-1.044815e-01</td>\n",
       "      <td>1.553606e-02</td>\n",
       "      <td>5.953425e-02</td>\n",
       "      <td>5.320778e-02</td>\n",
       "      <td>2.273738e-02</td>\n",
       "      <td>6.459076e-04</td>\n",
       "      <td>-2.493560e-02</td>\n",
       "      <td>-1.594925e-03</td>\n",
       "    </tr>\n",
       "    <tr>\n",
       "      <th>std</th>\n",
       "      <td>1.084008e+02</td>\n",
       "      <td>1.103289e+01</td>\n",
       "      <td>2.735566e+00</td>\n",
       "      <td>3.426439e-01</td>\n",
       "      <td>1.717593e-01</td>\n",
       "      <td>1.990264e-01</td>\n",
       "      <td>1.858440e-01</td>\n",
       "      <td>2.680296e+00</td>\n",
       "      <td>2.602815e-01</td>\n",
       "      <td>5.521685e-02</td>\n",
       "      <td>3.447905e-01</td>\n",
       "      <td>3.564020e+00</td>\n",
       "      <td>1.924461e-01</td>\n",
       "      <td>5.732654e+00</td>\n",
       "      <td>2.561809e-01</td>\n",
       "      <td>2.509198e-01</td>\n",
       "      <td>1.385980e-01</td>\n",
       "      <td>3.042757e+01</td>\n",
       "      <td>4.851897e-01</td>\n",
       "      <td>2.725142e-01</td>\n",
       "      <td>4.323750e-01</td>\n",
       "      <td>3.607428e-01</td>\n",
       "      <td>2.804066e-01</td>\n",
       "      <td>3.821163e-01</td>\n",
       "      <td>4.107566e-01</td>\n",
       "      <td>2.118570e-01</td>\n",
       "      <td>3.742747e-01</td>\n",
       "      <td>3.871178e-01</td>\n",
       "    </tr>\n",
       "    <tr>\n",
       "      <th>min</th>\n",
       "      <td>3.000095e+01</td>\n",
       "      <td>1.950000e+03</td>\n",
       "      <td>9.000000e+01</td>\n",
       "      <td>0.000000e+00</td>\n",
       "      <td>0.000000e+00</td>\n",
       "      <td>0.000000e+00</td>\n",
       "      <td>0.000000e+00</td>\n",
       "      <td>0.000000e+00</td>\n",
       "      <td>0.000000e+00</td>\n",
       "      <td>0.000000e+00</td>\n",
       "      <td>0.000000e+00</td>\n",
       "      <td>0.000000e+00</td>\n",
       "      <td>0.000000e+00</td>\n",
       "      <td>-6.000000e+01</td>\n",
       "      <td>0.000000e+00</td>\n",
       "      <td>0.000000e+00</td>\n",
       "      <td>0.000000e+00</td>\n",
       "      <td>0.000000e+00</td>\n",
       "      <td>0.000000e+00</td>\n",
       "      <td>0.000000e+00</td>\n",
       "      <td>-1.174042e+00</td>\n",
       "      <td>-1.185975e+00</td>\n",
       "      <td>-8.858698e-01</td>\n",
       "      <td>-8.994451e-01</td>\n",
       "      <td>-1.081056e+00</td>\n",
       "      <td>-1.063290e+00</td>\n",
       "      <td>-8.022487e-01</td>\n",
       "      <td>-1.178501e+00</td>\n",
       "    </tr>\n",
       "    <tr>\n",
       "      <th>25%</th>\n",
       "      <td>1.767467e+02</td>\n",
       "      <td>2.006000e+03</td>\n",
       "      <td>9.338183e+01</td>\n",
       "      <td>2.667680e-02</td>\n",
       "      <td>3.316528e-01</td>\n",
       "      <td>3.206987e-01</td>\n",
       "      <td>4.326980e-01</td>\n",
       "      <td>5.821963e+00</td>\n",
       "      <td>4.098319e-01</td>\n",
       "      <td>9.691408e-01</td>\n",
       "      <td>2.465405e-07</td>\n",
       "      <td>2.000000e+00</td>\n",
       "      <td>9.680310e-02</td>\n",
       "      <td>-1.171000e+01</td>\n",
       "      <td>2.692308e-01</td>\n",
       "      <td>2.532349e-01</td>\n",
       "      <td>3.627243e-02</td>\n",
       "      <td>9.603400e+01</td>\n",
       "      <td>4.000000e+00</td>\n",
       "      <td>2.519543e-01</td>\n",
       "      <td>-4.085117e-01</td>\n",
       "      <td>-1.757177e-01</td>\n",
       "      <td>-1.471524e-01</td>\n",
       "      <td>-2.348342e-01</td>\n",
       "      <td>-3.122829e-01</td>\n",
       "      <td>-9.018810e-02</td>\n",
       "      <td>-3.155564e-01</td>\n",
       "      <td>-2.704680e-01</td>\n",
       "    </tr>\n",
       "    <tr>\n",
       "      <th>50%</th>\n",
       "      <td>2.179135e+02</td>\n",
       "      <td>2.013000e+03</td>\n",
       "      <td>9.575417e+01</td>\n",
       "      <td>2.205129e-01</td>\n",
       "      <td>4.593159e-01</td>\n",
       "      <td>4.795972e-01</td>\n",
       "      <td>5.727441e-01</td>\n",
       "      <td>7.519920e+00</td>\n",
       "      <td>6.261150e-01</td>\n",
       "      <td>1.002422e+00</td>\n",
       "      <td>2.161874e-04</td>\n",
       "      <td>5.000000e+00</td>\n",
       "      <td>1.294195e-01</td>\n",
       "      <td>-8.084000e+00</td>\n",
       "      <td>4.854369e-01</td>\n",
       "      <td>4.549237e-01</td>\n",
       "      <td>5.012670e-02</td>\n",
       "      <td>1.199480e+02</td>\n",
       "      <td>4.000000e+00</td>\n",
       "      <td>4.736025e-01</td>\n",
       "      <td>-4.000132e-02</td>\n",
       "      <td>8.460746e-02</td>\n",
       "      <td>1.291028e-01</td>\n",
       "      <td>6.207571e-02</td>\n",
       "      <td>-1.709655e-02</td>\n",
       "      <td>4.277601e-02</td>\n",
       "      <td>-9.838638e-02</td>\n",
       "      <td>-4.027091e-03</td>\n",
       "    </tr>\n",
       "    <tr>\n",
       "      <th>75%</th>\n",
       "      <td>2.671733e+02</td>\n",
       "      <td>2.017000e+03</td>\n",
       "      <td>9.792122e+01</td>\n",
       "      <td>6.528423e-01</td>\n",
       "      <td>5.851562e-01</td>\n",
       "      <td>6.339014e-01</td>\n",
       "      <td>6.975901e-01</td>\n",
       "      <td>9.476902e+00</td>\n",
       "      <td>8.073052e-01</td>\n",
       "      <td>1.029172e+00</td>\n",
       "      <td>3.132863e-01</td>\n",
       "      <td>8.000000e+00</td>\n",
       "      <td>2.700362e-01</td>\n",
       "      <td>-5.791000e+00</td>\n",
       "      <td>7.173145e-01</td>\n",
       "      <td>6.480055e-01</td>\n",
       "      <td>1.015356e-01</td>\n",
       "      <td>1.398600e+02</td>\n",
       "      <td>4.000000e+00</td>\n",
       "      <td>7.050039e-01</td>\n",
       "      <td>1.915962e-01</td>\n",
       "      <td>2.832876e-01</td>\n",
       "      <td>2.746523e-01</td>\n",
       "      <td>2.832823e-01</td>\n",
       "      <td>3.724048e-01</td>\n",
       "      <td>1.476096e-01</td>\n",
       "      <td>2.058770e-01</td>\n",
       "      <td>2.218316e-01</td>\n",
       "    </tr>\n",
       "    <tr>\n",
       "      <th>max</th>\n",
       "      <td>1.799999e+03</td>\n",
       "      <td>2.019000e+03</td>\n",
       "      <td>1.000000e+02</td>\n",
       "      <td>9.957964e-01</td>\n",
       "      <td>9.999525e-01</td>\n",
       "      <td>9.862775e-01</td>\n",
       "      <td>9.978067e-01</td>\n",
       "      <td>5.261309e+01</td>\n",
       "      <td>9.999841e-01</td>\n",
       "      <td>1.167801e+00</td>\n",
       "      <td>9.999964e-01</td>\n",
       "      <td>1.100000e+01</td>\n",
       "      <td>1.000000e+00</td>\n",
       "      <td>6.275000e+00</td>\n",
       "      <td>1.000000e+00</td>\n",
       "      <td>9.791129e-01</td>\n",
       "      <td>9.705799e-01</td>\n",
       "      <td>2.499870e+02</td>\n",
       "      <td>5.000000e+00</td>\n",
       "      <td>9.999900e-01</td>\n",
       "      <td>1.000457e+00</td>\n",
       "      <td>8.624035e-01</td>\n",
       "      <td>6.509755e-01</td>\n",
       "      <td>1.202726e+00</td>\n",
       "      <td>1.000955e+00</td>\n",
       "      <td>4.130149e-01</td>\n",
       "      <td>1.092165e+00</td>\n",
       "      <td>1.204228e+00</td>\n",
       "    </tr>\n",
       "  </tbody>\n",
       "</table>\n",
       "</div>"
      ],
      "text/plain": [
       "           duration  release_year  ...  acoustic_vector_6  acoustic_vector_7\n",
       "count  3.706388e+06  3.706388e+06  ...       3.706388e+06       3.706388e+06\n",
       "mean   2.331915e+02  2.009261e+03  ...      -2.493560e-02      -1.594925e-03\n",
       "std    1.084008e+02  1.103289e+01  ...       3.742747e-01       3.871178e-01\n",
       "min    3.000095e+01  1.950000e+03  ...      -8.022487e-01      -1.178501e+00\n",
       "25%    1.767467e+02  2.006000e+03  ...      -3.155564e-01      -2.704680e-01\n",
       "50%    2.179135e+02  2.013000e+03  ...      -9.838638e-02      -4.027091e-03\n",
       "75%    2.671733e+02  2.017000e+03  ...       2.058770e-01       2.218316e-01\n",
       "max    1.799999e+03  2.019000e+03  ...       1.092165e+00       1.204228e+00\n",
       "\n",
       "[8 rows x 28 columns]"
      ]
     },
     "execution_count": 79,
     "metadata": {
      "tags": []
     },
     "output_type": "execute_result"
    }
   ],
   "source": [
    "track.describe()"
   ]
  },
  {
   "cell_type": "code",
   "execution_count": 80,
   "metadata": {
    "colab": {
     "base_uri": "https://localhost:8080/",
     "height": 173
    },
    "id": "gUzal2XyeC2V",
    "outputId": "e50a96e1-bef5-4b3d-e85b-a86441f58c5b"
   },
   "outputs": [
    {
     "data": {
      "text/html": [
       "<div>\n",
       "<style scoped>\n",
       "    .dataframe tbody tr th:only-of-type {\n",
       "        vertical-align: middle;\n",
       "    }\n",
       "\n",
       "    .dataframe tbody tr th {\n",
       "        vertical-align: top;\n",
       "    }\n",
       "\n",
       "    .dataframe thead th {\n",
       "        text-align: right;\n",
       "    }\n",
       "</style>\n",
       "<table border=\"1\" class=\"dataframe\">\n",
       "  <thead>\n",
       "    <tr style=\"text-align: right;\">\n",
       "      <th></th>\n",
       "      <th>track_id</th>\n",
       "      <th>mode</th>\n",
       "    </tr>\n",
       "  </thead>\n",
       "  <tbody>\n",
       "    <tr>\n",
       "      <th>count</th>\n",
       "      <td>3706388</td>\n",
       "      <td>3706388</td>\n",
       "    </tr>\n",
       "    <tr>\n",
       "      <th>unique</th>\n",
       "      <td>3706388</td>\n",
       "      <td>2</td>\n",
       "    </tr>\n",
       "    <tr>\n",
       "      <th>top</th>\n",
       "      <td>t_4e3be382-f13b-4a59-a52f-a6c85e96a31d</td>\n",
       "      <td>major</td>\n",
       "    </tr>\n",
       "    <tr>\n",
       "      <th>freq</th>\n",
       "      <td>1</td>\n",
       "      <td>2414637</td>\n",
       "    </tr>\n",
       "  </tbody>\n",
       "</table>\n",
       "</div>"
      ],
      "text/plain": [
       "                                      track_id     mode\n",
       "count                                  3706388  3706388\n",
       "unique                                 3706388        2\n",
       "top     t_4e3be382-f13b-4a59-a52f-a6c85e96a31d    major\n",
       "freq                                         1  2414637"
      ]
     },
     "execution_count": 80,
     "metadata": {
      "tags": []
     },
     "output_type": "execute_result"
    }
   ],
   "source": [
    "# summary for object columns:\n",
    "track.describe(include='O')"
   ]
  },
  {
   "cell_type": "markdown",
   "metadata": {
    "id": "X0LM-tAWzTqY"
   },
   "source": [
    "### EDA "
   ]
  },
  {
   "cell_type": "code",
   "execution_count": 81,
   "metadata": {
    "colab": {
     "base_uri": "https://localhost:8080/",
     "height": 204
    },
    "id": "qm6UGXNnzTqY",
    "outputId": "f2a961f2-f25f-484a-c7c0-16796a38b44e"
   },
   "outputs": [
    {
     "data": {
      "text/html": [
       "<div>\n",
       "<style scoped>\n",
       "    .dataframe tbody tr th:only-of-type {\n",
       "        vertical-align: middle;\n",
       "    }\n",
       "\n",
       "    .dataframe tbody tr th {\n",
       "        vertical-align: top;\n",
       "    }\n",
       "\n",
       "    .dataframe thead th {\n",
       "        text-align: right;\n",
       "    }\n",
       "</style>\n",
       "<table border=\"1\" class=\"dataframe\">\n",
       "  <thead>\n",
       "    <tr style=\"text-align: right;\">\n",
       "      <th></th>\n",
       "      <th>track_id</th>\n",
       "      <th>release_year</th>\n",
       "      <th>key</th>\n",
       "      <th>mode</th>\n",
       "      <th>time_signature</th>\n",
       "    </tr>\n",
       "  </thead>\n",
       "  <tbody>\n",
       "    <tr>\n",
       "      <th>0</th>\n",
       "      <td>t_2e8f4b71-8a0b-4b9c-b7d8-fb5208e87f9f</td>\n",
       "      <td>1971</td>\n",
       "      <td>0</td>\n",
       "      <td>major</td>\n",
       "      <td>4</td>\n",
       "    </tr>\n",
       "    <tr>\n",
       "      <th>1</th>\n",
       "      <td>t_dae2ec0e-ec7b-4b3e-b60c-4a884d0eccb0</td>\n",
       "      <td>1963</td>\n",
       "      <td>0</td>\n",
       "      <td>major</td>\n",
       "      <td>4</td>\n",
       "    </tr>\n",
       "    <tr>\n",
       "      <th>2</th>\n",
       "      <td>t_cf0164dd-1531-4399-bfa6-dec19cd1fedc</td>\n",
       "      <td>1974</td>\n",
       "      <td>0</td>\n",
       "      <td>major</td>\n",
       "      <td>4</td>\n",
       "    </tr>\n",
       "    <tr>\n",
       "      <th>3</th>\n",
       "      <td>t_0f90acc7-d5c5-4e53-901d-55610fbd090c</td>\n",
       "      <td>1988</td>\n",
       "      <td>0</td>\n",
       "      <td>major</td>\n",
       "      <td>4</td>\n",
       "    </tr>\n",
       "    <tr>\n",
       "      <th>4</th>\n",
       "      <td>t_36b9ad02-095a-443d-a697-6c7285d9410a</td>\n",
       "      <td>1987</td>\n",
       "      <td>0</td>\n",
       "      <td>major</td>\n",
       "      <td>4</td>\n",
       "    </tr>\n",
       "  </tbody>\n",
       "</table>\n",
       "</div>"
      ],
      "text/plain": [
       "                                 track_id  release_year  ...   mode time_signature\n",
       "0  t_2e8f4b71-8a0b-4b9c-b7d8-fb5208e87f9f          1971  ...  major              4\n",
       "1  t_dae2ec0e-ec7b-4b3e-b60c-4a884d0eccb0          1963  ...  major              4\n",
       "2  t_cf0164dd-1531-4399-bfa6-dec19cd1fedc          1974  ...  major              4\n",
       "3  t_0f90acc7-d5c5-4e53-901d-55610fbd090c          1988  ...  major              4\n",
       "4  t_36b9ad02-095a-443d-a697-6c7285d9410a          1987  ...  major              4\n",
       "\n",
       "[5 rows x 5 columns]"
      ]
     },
     "execution_count": 81,
     "metadata": {
      "tags": []
     },
     "output_type": "execute_result"
    }
   ],
   "source": [
    "# extracting columns other than float ie, int and object for eda :\n",
    "tf[[c for c in tf.columns if tf[c].dtype != 'float64']].head()"
   ]
  },
  {
   "cell_type": "code",
   "execution_count": 82,
   "metadata": {
    "colab": {
     "base_uri": "https://localhost:8080/",
     "height": 350
    },
    "id": "6Zo8Q89beDCg",
    "outputId": "daf93599-f1c3-4269-ec3f-c9356df165e4"
   },
   "outputs": [
    {
     "name": "stderr",
     "output_type": "stream",
     "text": [
      "/usr/local/lib/python3.6/dist-packages/seaborn/distributions.py:2557: FutureWarning: `distplot` is a deprecated function and will be removed in a future version. Please adapt your code to use either `displot` (a figure-level function with similar flexibility) or `histplot` (an axes-level function for histograms).\n",
      "  warnings.warn(msg, FutureWarning)\n"
     ]
    },
    {
     "data": {
      "image/png": "[encoded data removed]",
      "text/plain": [
       "<Figure size 432x288 with 1 Axes>"
      ]
     },
     "metadata": {
      "needs_background": "light",
      "tags": []
     },
     "output_type": "display_data"
    }
   ],
   "source": [
    "# distribution of release years : \n",
    "sns.distplot(track.release_year)\n",
    "plt.title(\"Distribution of Release Years\");"
   ]
  },
  {
   "cell_type": "code",
   "execution_count": 83,
   "metadata": {
    "colab": {
     "base_uri": "https://localhost:8080/"
    },
    "id": "3I1KJIhkzTqZ",
    "outputId": "01ce71e3-a511-46f9-8fc4-7df32ddd5a59"
   },
   "outputs": [
    {
     "data": {
      "text/plain": [
       "array([ 0,  1,  2,  3,  4,  5,  6,  7,  8,  9, 10, 11])"
      ]
     },
     "execution_count": 83,
     "metadata": {
      "tags": []
     },
     "output_type": "execute_result"
    }
   ],
   "source": [
    "track['key'].unique()"
   ]
  },
  {
   "cell_type": "code",
   "execution_count": 84,
   "metadata": {
    "colab": {
     "base_uri": "https://localhost:8080/",
     "height": 295
    },
    "id": "aLQ7gDzLeDFn",
    "outputId": "362b59ec-13ac-4d0c-cdf9-e592e6351f68"
   },
   "outputs": [
    {
     "data": {
      "image/png": "[encoded data removed]",
      "text/plain": [
       "<Figure size 432x288 with 1 Axes>"
      ]
     },
     "metadata": {
      "needs_background": "light",
      "tags": []
     },
     "output_type": "display_data"
    }
   ],
   "source": [
    "# we have unique values in keys columns: we have specific Pitch class for these keys(just naming keys acc. to their pitch class)\n",
    "keys = track.key.value_counts().sort_index()\n",
    "sns.barplot(\n",
    "    x=[ \"C\", \"C#\", \"D\", \"D#\", \"E\", \"F\", \"F#\", \"G\", \"G#\", \"A\", \"A#\", \"B\"],\n",
    "    y=keys.values/keys.sum()\n",
    ")\n",
    "plt.title(\"Distribution of Track Keys\")\n",
    "plt.xlabel(\"Key\");"
   ]
  },
  {
   "cell_type": "code",
   "execution_count": 85,
   "metadata": {
    "colab": {
     "base_uri": "https://localhost:8080/"
    },
    "id": "DOhR7WR7eDI9",
    "outputId": "d3228691-ab9c-4738-c3d7-18489bcd35b8"
   },
   "outputs": [
    {
     "data": {
      "text/plain": [
       "major    2414637\n",
       "minor    1291751\n",
       "Name: mode, dtype: int64"
      ]
     },
     "execution_count": 85,
     "metadata": {
      "tags": []
     },
     "output_type": "execute_result"
    }
   ],
   "source": [
    "track['mode'].value_counts()"
   ]
  },
  {
   "cell_type": "code",
   "execution_count": 86,
   "metadata": {
    "colab": {
     "base_uri": "https://localhost:8080/",
     "height": 265
    },
    "id": "xswAGgqzeDOc",
    "outputId": "25e1a3ec-e221-4259-a1df-a424d0c30f88"
   },
   "outputs": [
    {
     "data": {
      "text/plain": [
       "<matplotlib.axes._subplots.AxesSubplot at 0x7f4e1c5f0550>"
      ]
     },
     "execution_count": 86,
     "metadata": {
      "tags": []
     },
     "output_type": "execute_result"
    },
    {
     "data": {
      "image/png": "[encoded data removed]",
      "text/plain": [
       "<Figure size 432x288 with 1 Axes>"
      ]
     },
     "metadata": {
      "tags": []
     },
     "output_type": "display_data"
    }
   ],
   "source": [
    "track['mode'].value_counts().plot(kind='pie', autopct = \"%1.0f%%\")"
   ]
  },
  {
   "cell_type": "code",
   "execution_count": 87,
   "metadata": {
    "id": "9UmqbnPYiT5W"
   },
   "outputs": [],
   "source": [
    "# creating label encoding/one hot encoding of mode column \n",
    "track['mode'] = track['mode'].replace({\n",
    "    'major': 1,\n",
    "    'minor': 0\n",
    "})"
   ]
  },
  {
   "cell_type": "code",
   "execution_count": 88,
   "metadata": {
    "colab": {
     "base_uri": "https://localhost:8080/",
     "height": 362
    },
    "id": "rncIU0uMeDjL",
    "outputId": "1fe7536b-77ce-4dcb-ad61-ed3a9961a9de"
   },
   "outputs": [
    {
     "name": "stderr",
     "output_type": "stream",
     "text": [
      "/usr/local/lib/python3.6/dist-packages/seaborn/_decorators.py:43: FutureWarning: Pass the following variable as a keyword arg: x. From version 0.12, the only valid positional argument will be `data`, and passing other arguments without an explicit keyword will result in an error or misinterpretation.\n",
      "  FutureWarning\n"
     ]
    },
    {
     "data": {
      "text/plain": [
       "<matplotlib.axes._subplots.AxesSubplot at 0x7f4e1c54aa90>"
      ]
     },
     "execution_count": 88,
     "metadata": {
      "tags": []
     },
     "output_type": "execute_result"
    },
    {
     "data": {
      "image/png": "[encoded data removed]",
      "text/plain": [
       "<Figure size 432x288 with 1 Axes>"
      ]
     },
     "metadata": {
      "needs_background": "light",
      "tags": []
     },
     "output_type": "display_data"
    }
   ],
   "source": [
    "sns.countplot(track.time_signature)"
   ]
  },
  {
   "cell_type": "markdown",
   "metadata": {
    "id": "1D598iSjzTqb"
   },
   "source": [
    "### Analysing numerical columns"
   ]
  },
  {
   "cell_type": "code",
   "execution_count": 89,
   "metadata": {
    "colab": {
     "base_uri": "https://localhost:8080/",
     "height": 879
    },
    "id": "Okk_uOx-eDXV",
    "outputId": "2ae55ff7-56d1-4d22-9704-125764513046"
   },
   "outputs": [
    {
     "data": {
      "image/png": "[encoded data removed]",
      "text/plain": [
       "<Figure size 1440x1080 with 30 Axes>"
      ]
     },
     "metadata": {
      "needs_background": "light",
      "tags": []
     },
     "output_type": "display_data"
    }
   ],
   "source": [
    "track.hist(figsize=(20,15));"
   ]
  },
  {
   "cell_type": "markdown",
   "metadata": {
    "id": "7JZaMx8tzTqb"
   },
   "source": [
    "### Correlation matrix  "
   ]
  },
  {
   "cell_type": "code",
   "execution_count": 90,
   "metadata": {
    "colab": {
     "base_uri": "https://localhost:8080/",
     "height": 973
    },
    "id": "9PdNn-hTeDm1",
    "outputId": "8fca0f77-efcd-4802-ca60-5a09d63e816a"
   },
   "outputs": [
    {
     "data": {
      "image/png": "[encoded data removed]",
      "text/plain": [
       "<Figure size 1440x1080 with 2 Axes>"
      ]
     },
     "metadata": {
      "needs_background": "light",
      "tags": []
     },
     "output_type": "display_data"
    }
   ],
   "source": [
    "plt.figure(figsize=(20,15))\n",
    "sns.heatmap(tf.corr(), annot=True);"
   ]
  },
  {
   "cell_type": "markdown",
   "metadata": {
    "id": "-3tJ0eFgzTqc"
   },
   "source": [
    "### Merging track and Training Data on the basis of track_id (primary key):"
   ]
  },
  {
   "cell_type": "code",
   "execution_count": 91,
   "metadata": {
    "colab": {
     "base_uri": "https://localhost:8080/"
    },
    "id": "LxAMbVVjZ48U",
    "outputId": "e087a85e-c5a0-4685-e60d-1215c5eb558d"
   },
   "outputs": [
    {
     "data": {
      "text/plain": [
       "(3706388, 30)"
      ]
     },
     "execution_count": 91,
     "metadata": {
      "tags": []
     },
     "output_type": "execute_result"
    }
   ],
   "source": [
    "track.shape"
   ]
  },
  {
   "cell_type": "code",
   "execution_count": 92,
   "metadata": {
    "colab": {
     "base_uri": "https://localhost:8080/"
    },
    "id": "kZevIM1cZ5zq",
    "outputId": "7c7a8a22-1cac-4d11-a5b4-531137ff2c96"
   },
   "outputs": [
    {
     "data": {
      "text/plain": [
       "(167880, 17)"
      ]
     },
     "execution_count": 92,
     "metadata": {
      "tags": []
     },
     "output_type": "execute_result"
    }
   ],
   "source": [
    "df.shape"
   ]
  },
  {
   "cell_type": "code",
   "execution_count": 93,
   "metadata": {
    "id": "Uqbo8Zo6F_t_"
   },
   "outputs": [],
   "source": [
    "df.rename(columns={'track_id_clean': 'track_id'}, inplace=True)"
   ]
  },
  {
   "cell_type": "code",
   "execution_count": 94,
   "metadata": {
    "colab": {
     "base_uri": "https://localhost:8080/"
    },
    "id": "EdhBtRkxF_wn",
    "outputId": "612b71fc-eae1-4af9-98b2-0d7d4b5440b6"
   },
   "outputs": [
    {
     "data": {
      "text/plain": [
       "(167880, 46)"
      ]
     },
     "execution_count": 94,
     "metadata": {
      "tags": []
     },
     "output_type": "execute_result"
    }
   ],
   "source": [
    "final_train = pd.merge(df, track, on=['track_id'], left_index=True, right_index=False, sort=True)\n",
    "final_train.shape"
   ]
  },
  {
   "cell_type": "code",
   "execution_count": 95,
   "metadata": {
    "id": "kRHRKWr4F_2i"
   },
   "outputs": [],
   "source": [
    "final_train.sort_values(axis=0, by=['session_id','session_position'], inplace=True)\n",
    "final_train.reset_index(drop=True,inplace=True)"
   ]
  },
  {
   "cell_type": "code",
   "execution_count": 96,
   "metadata": {
    "colab": {
     "base_uri": "https://localhost:8080/",
     "height": 479
    },
    "id": "BJfqe02VPlJA",
    "outputId": "6105bcc9-4b3c-4bfe-eb68-1cf98d5b9161"
   },
   "outputs": [
    {
     "data": {
      "text/html": [
       "<div>\n",
       "<style scoped>\n",
       "    .dataframe tbody tr th:only-of-type {\n",
       "        vertical-align: middle;\n",
       "    }\n",
       "\n",
       "    .dataframe tbody tr th {\n",
       "        vertical-align: top;\n",
       "    }\n",
       "\n",
       "    .dataframe thead th {\n",
       "        text-align: right;\n",
       "    }\n",
       "</style>\n",
       "<table border=\"1\" class=\"dataframe\">\n",
       "  <thead>\n",
       "    <tr style=\"text-align: right;\">\n",
       "      <th></th>\n",
       "      <th>session_id</th>\n",
       "      <th>session_position</th>\n",
       "      <th>session_length</th>\n",
       "      <th>track_id</th>\n",
       "      <th>context_switch</th>\n",
       "      <th>no_pause_before_play</th>\n",
       "      <th>short_pause_before_play</th>\n",
       "      <th>long_pause_before_play</th>\n",
       "      <th>hist_user_behavior_n_seekfwd</th>\n",
       "      <th>hist_user_behavior_n_seekback</th>\n",
       "      <th>hist_user_behavior_is_shuffle</th>\n",
       "      <th>hour_of_day</th>\n",
       "      <th>premium</th>\n",
       "      <th>context_type</th>\n",
       "      <th>hist_user_behavior_reason_start</th>\n",
       "      <th>hist_user_behavior_reason_end</th>\n",
       "      <th>skip</th>\n",
       "      <th>duration</th>\n",
       "      <th>release_year</th>\n",
       "      <th>us_popularity_estimate</th>\n",
       "      <th>acousticness</th>\n",
       "      <th>beat_strength</th>\n",
       "      <th>bounciness</th>\n",
       "      <th>danceability</th>\n",
       "      <th>dyn_range_mean</th>\n",
       "      <th>energy</th>\n",
       "      <th>flatness</th>\n",
       "      <th>instrumentalness</th>\n",
       "      <th>key</th>\n",
       "      <th>liveness</th>\n",
       "      <th>loudness</th>\n",
       "      <th>mechanism</th>\n",
       "      <th>mode</th>\n",
       "      <th>organism</th>\n",
       "      <th>speechiness</th>\n",
       "      <th>tempo</th>\n",
       "      <th>time_signature</th>\n",
       "      <th>valence</th>\n",
       "      <th>acoustic_vector_0</th>\n",
       "      <th>acoustic_vector_1</th>\n",
       "      <th>acoustic_vector_2</th>\n",
       "      <th>acoustic_vector_3</th>\n",
       "      <th>acoustic_vector_4</th>\n",
       "      <th>acoustic_vector_5</th>\n",
       "      <th>acoustic_vector_6</th>\n",
       "      <th>acoustic_vector_7</th>\n",
       "    </tr>\n",
       "  </thead>\n",
       "  <tbody>\n",
       "    <tr>\n",
       "      <th>0</th>\n",
       "      <td>0_00006f66-33e5-4de7-a324-2d18e439fc1e</td>\n",
       "      <td>1.0</td>\n",
       "      <td>20.0</td>\n",
       "      <td>t_0479f24c-27d2-46d6-a00c-7ec928f2b539</td>\n",
       "      <td>0.0</td>\n",
       "      <td>0.0</td>\n",
       "      <td>0.0</td>\n",
       "      <td>0.0</td>\n",
       "      <td>0.0</td>\n",
       "      <td>0.0</td>\n",
       "      <td>1</td>\n",
       "      <td>16.0</td>\n",
       "      <td>1</td>\n",
       "      <td>editorial_playlist</td>\n",
       "      <td>trackdone</td>\n",
       "      <td>trackdone</td>\n",
       "      <td>0</td>\n",
       "      <td>180.066666</td>\n",
       "      <td>2018</td>\n",
       "      <td>99.968133</td>\n",
       "      <td>0.015848</td>\n",
       "      <td>0.438551</td>\n",
       "      <td>0.473455</td>\n",
       "      <td>0.653119</td>\n",
       "      <td>7.660024</td>\n",
       "      <td>0.553465</td>\n",
       "      <td>1.035007</td>\n",
       "      <td>3.484468e-03</td>\n",
       "      <td>1</td>\n",
       "      <td>0.678553</td>\n",
       "      <td>-6.577</td>\n",
       "      <td>0.546784</td>\n",
       "      <td>1</td>\n",
       "      <td>0.320668</td>\n",
       "      <td>0.069717</td>\n",
       "      <td>134.024994</td>\n",
       "      <td>4</td>\n",
       "      <td>0.152255</td>\n",
       "      <td>-0.815775</td>\n",
       "      <td>0.386409</td>\n",
       "      <td>0.230160</td>\n",
       "      <td>0.028028</td>\n",
       "      <td>-0.333373</td>\n",
       "      <td>0.015452</td>\n",
       "      <td>-0.353590</td>\n",
       "      <td>0.205826</td>\n",
       "    </tr>\n",
       "    <tr>\n",
       "      <th>1</th>\n",
       "      <td>0_00006f66-33e5-4de7-a324-2d18e439fc1e</td>\n",
       "      <td>2.0</td>\n",
       "      <td>20.0</td>\n",
       "      <td>t_9099cd7b-c238-47b7-9381-f23f2c1d1043</td>\n",
       "      <td>0.0</td>\n",
       "      <td>1.0</td>\n",
       "      <td>0.0</td>\n",
       "      <td>0.0</td>\n",
       "      <td>0.0</td>\n",
       "      <td>0.0</td>\n",
       "      <td>1</td>\n",
       "      <td>16.0</td>\n",
       "      <td>1</td>\n",
       "      <td>editorial_playlist</td>\n",
       "      <td>trackdone</td>\n",
       "      <td>trackdone</td>\n",
       "      <td>0</td>\n",
       "      <td>236.796371</td>\n",
       "      <td>2018</td>\n",
       "      <td>99.896728</td>\n",
       "      <td>0.061811</td>\n",
       "      <td>0.654804</td>\n",
       "      <td>0.735661</td>\n",
       "      <td>0.877393</td>\n",
       "      <td>11.308750</td>\n",
       "      <td>0.726828</td>\n",
       "      <td>1.025636</td>\n",
       "      <td>1.031315e-07</td>\n",
       "      <td>7</td>\n",
       "      <td>0.104322</td>\n",
       "      <td>-5.319</td>\n",
       "      <td>0.824766</td>\n",
       "      <td>0</td>\n",
       "      <td>0.131391</td>\n",
       "      <td>0.061158</td>\n",
       "      <td>130.037994</td>\n",
       "      <td>4</td>\n",
       "      <td>0.337152</td>\n",
       "      <td>-0.713646</td>\n",
       "      <td>0.363718</td>\n",
       "      <td>0.310315</td>\n",
       "      <td>-0.042222</td>\n",
       "      <td>-0.383164</td>\n",
       "      <td>0.066357</td>\n",
       "      <td>-0.365308</td>\n",
       "      <td>0.157920</td>\n",
       "    </tr>\n",
       "    <tr>\n",
       "      <th>2</th>\n",
       "      <td>0_00006f66-33e5-4de7-a324-2d18e439fc1e</td>\n",
       "      <td>3.0</td>\n",
       "      <td>20.0</td>\n",
       "      <td>t_fc5df5ba-5396-49a7-8b29-35d0d28249e0</td>\n",
       "      <td>0.0</td>\n",
       "      <td>1.0</td>\n",
       "      <td>0.0</td>\n",
       "      <td>0.0</td>\n",
       "      <td>0.0</td>\n",
       "      <td>0.0</td>\n",
       "      <td>1</td>\n",
       "      <td>16.0</td>\n",
       "      <td>1</td>\n",
       "      <td>editorial_playlist</td>\n",
       "      <td>trackdone</td>\n",
       "      <td>trackdone</td>\n",
       "      <td>0</td>\n",
       "      <td>231.266663</td>\n",
       "      <td>2018</td>\n",
       "      <td>99.999976</td>\n",
       "      <td>0.354116</td>\n",
       "      <td>0.532155</td>\n",
       "      <td>0.540411</td>\n",
       "      <td>0.679719</td>\n",
       "      <td>8.065802</td>\n",
       "      <td>0.563009</td>\n",
       "      <td>1.029465</td>\n",
       "      <td>2.659035e-08</td>\n",
       "      <td>10</td>\n",
       "      <td>0.135776</td>\n",
       "      <td>-5.843</td>\n",
       "      <td>0.774327</td>\n",
       "      <td>1</td>\n",
       "      <td>0.296923</td>\n",
       "      <td>0.045354</td>\n",
       "      <td>145.028000</td>\n",
       "      <td>4</td>\n",
       "      <td>0.373862</td>\n",
       "      <td>-0.742541</td>\n",
       "      <td>0.375599</td>\n",
       "      <td>0.252660</td>\n",
       "      <td>-0.049007</td>\n",
       "      <td>-0.299745</td>\n",
       "      <td>0.063341</td>\n",
       "      <td>-0.486689</td>\n",
       "      <td>0.181604</td>\n",
       "    </tr>\n",
       "    <tr>\n",
       "      <th>3</th>\n",
       "      <td>0_00006f66-33e5-4de7-a324-2d18e439fc1e</td>\n",
       "      <td>4.0</td>\n",
       "      <td>20.0</td>\n",
       "      <td>t_23cff8d6-d874-4b20-83dc-94e450e8aa20</td>\n",
       "      <td>0.0</td>\n",
       "      <td>1.0</td>\n",
       "      <td>0.0</td>\n",
       "      <td>0.0</td>\n",
       "      <td>0.0</td>\n",
       "      <td>0.0</td>\n",
       "      <td>1</td>\n",
       "      <td>16.0</td>\n",
       "      <td>1</td>\n",
       "      <td>editorial_playlist</td>\n",
       "      <td>trackdone</td>\n",
       "      <td>trackdone</td>\n",
       "      <td>0</td>\n",
       "      <td>169.826675</td>\n",
       "      <td>2018</td>\n",
       "      <td>99.995038</td>\n",
       "      <td>0.769225</td>\n",
       "      <td>0.641756</td>\n",
       "      <td>0.729224</td>\n",
       "      <td>0.864881</td>\n",
       "      <td>11.287586</td>\n",
       "      <td>0.529484</td>\n",
       "      <td>0.993520</td>\n",
       "      <td>6.598388e-06</td>\n",
       "      <td>1</td>\n",
       "      <td>0.103722</td>\n",
       "      <td>-7.756</td>\n",
       "      <td>0.630996</td>\n",
       "      <td>1</td>\n",
       "      <td>0.603271</td>\n",
       "      <td>0.229936</td>\n",
       "      <td>111.982002</td>\n",
       "      <td>4</td>\n",
       "      <td>0.649420</td>\n",
       "      <td>-0.705116</td>\n",
       "      <td>0.317562</td>\n",
       "      <td>0.289141</td>\n",
       "      <td>-0.038920</td>\n",
       "      <td>-0.393358</td>\n",
       "      <td>0.092719</td>\n",
       "      <td>-0.364418</td>\n",
       "      <td>0.285603</td>\n",
       "    </tr>\n",
       "    <tr>\n",
       "      <th>4</th>\n",
       "      <td>0_00006f66-33e5-4de7-a324-2d18e439fc1e</td>\n",
       "      <td>5.0</td>\n",
       "      <td>20.0</td>\n",
       "      <td>t_64f3743c-f624-46bb-a579-0f3f9a07a123</td>\n",
       "      <td>0.0</td>\n",
       "      <td>1.0</td>\n",
       "      <td>0.0</td>\n",
       "      <td>0.0</td>\n",
       "      <td>0.0</td>\n",
       "      <td>0.0</td>\n",
       "      <td>1</td>\n",
       "      <td>16.0</td>\n",
       "      <td>1</td>\n",
       "      <td>editorial_playlist</td>\n",
       "      <td>trackdone</td>\n",
       "      <td>trackdone</td>\n",
       "      <td>0</td>\n",
       "      <td>210.545258</td>\n",
       "      <td>2018</td>\n",
       "      <td>99.998498</td>\n",
       "      <td>0.006602</td>\n",
       "      <td>0.732428</td>\n",
       "      <td>0.794881</td>\n",
       "      <td>0.857778</td>\n",
       "      <td>12.181586</td>\n",
       "      <td>0.650057</td>\n",
       "      <td>1.000571</td>\n",
       "      <td>2.066649e-06</td>\n",
       "      <td>8</td>\n",
       "      <td>0.120842</td>\n",
       "      <td>-4.919</td>\n",
       "      <td>0.759465</td>\n",
       "      <td>1</td>\n",
       "      <td>0.170148</td>\n",
       "      <td>0.240980</td>\n",
       "      <td>147.031006</td>\n",
       "      <td>4</td>\n",
       "      <td>0.652921</td>\n",
       "      <td>-0.868489</td>\n",
       "      <td>0.331280</td>\n",
       "      <td>0.210478</td>\n",
       "      <td>0.084740</td>\n",
       "      <td>-0.333287</td>\n",
       "      <td>-0.025706</td>\n",
       "      <td>-0.510350</td>\n",
       "      <td>0.182315</td>\n",
       "    </tr>\n",
       "  </tbody>\n",
       "</table>\n",
       "</div>"
      ],
      "text/plain": [
       "                               session_id  ...  acoustic_vector_7\n",
       "0  0_00006f66-33e5-4de7-a324-2d18e439fc1e  ...           0.205826\n",
       "1  0_00006f66-33e5-4de7-a324-2d18e439fc1e  ...           0.157920\n",
       "2  0_00006f66-33e5-4de7-a324-2d18e439fc1e  ...           0.181604\n",
       "3  0_00006f66-33e5-4de7-a324-2d18e439fc1e  ...           0.285603\n",
       "4  0_00006f66-33e5-4de7-a324-2d18e439fc1e  ...           0.182315\n",
       "\n",
       "[5 rows x 46 columns]"
      ]
     },
     "execution_count": 96,
     "metadata": {
      "tags": []
     },
     "output_type": "execute_result"
    }
   ],
   "source": [
    "final_train.head()"
   ]
  },
  {
   "cell_type": "code",
   "execution_count": 97,
   "metadata": {
    "colab": {
     "base_uri": "https://localhost:8080/"
    },
    "id": "RLo8gufMeQ82",
    "outputId": "82b53fc5-0600-488b-a129-54e1f975fd5c"
   },
   "outputs": [
    {
     "data": {
      "text/plain": [
       "(167880, 58)"
      ]
     },
     "execution_count": 97,
     "metadata": {
      "tags": []
     },
     "output_type": "execute_result"
    }
   ],
   "source": [
    "ft = final_train.drop(columns=[\"session_id\",\"track_id\",\"key\", 'time_signature'])\n",
    "ft = pd.get_dummies(ft, drop_first=True)\n",
    "ft.shape"
   ]
  },
  {
   "cell_type": "code",
   "execution_count": 98,
   "metadata": {
    "colab": {
     "base_uri": "https://localhost:8080/"
    },
    "id": "F6kRqjHHeRHe",
    "outputId": "83858eee-c12a-4761-c157-a096e572223f"
   },
   "outputs": [
    {
     "name": "stdout",
     "output_type": "stream",
     "text": [
      "<class 'pandas.core.frame.DataFrame'>\n",
      "RangeIndex: 167880 entries, 0 to 167879\n",
      "Data columns (total 58 columns):\n",
      " #   Column                                      Non-Null Count   Dtype  \n",
      "---  ------                                      --------------   -----  \n",
      " 0   session_position                            167880 non-null  float64\n",
      " 1   session_length                              167880 non-null  float64\n",
      " 2   context_switch                              167880 non-null  float64\n",
      " 3   no_pause_before_play                        167880 non-null  float64\n",
      " 4   short_pause_before_play                     167880 non-null  float64\n",
      " 5   long_pause_before_play                      167880 non-null  float64\n",
      " 6   hist_user_behavior_n_seekfwd                167880 non-null  float64\n",
      " 7   hist_user_behavior_n_seekback               167880 non-null  float64\n",
      " 8   hist_user_behavior_is_shuffle               167880 non-null  int64  \n",
      " 9   hour_of_day                                 167880 non-null  float64\n",
      " 10  premium                                     167880 non-null  int64  \n",
      " 11  skip                                        167880 non-null  int64  \n",
      " 12  duration                                    167880 non-null  float64\n",
      " 13  release_year                                167880 non-null  int64  \n",
      " 14  us_popularity_estimate                      167880 non-null  float64\n",
      " 15  acousticness                                167880 non-null  float64\n",
      " 16  beat_strength                               167880 non-null  float64\n",
      " 17  bounciness                                  167880 non-null  float64\n",
      " 18  danceability                                167880 non-null  float64\n",
      " 19  dyn_range_mean                              167880 non-null  float64\n",
      " 20  energy                                      167880 non-null  float64\n",
      " 21  flatness                                    167880 non-null  float64\n",
      " 22  instrumentalness                            167880 non-null  float64\n",
      " 23  liveness                                    167880 non-null  float64\n",
      " 24  loudness                                    167880 non-null  float64\n",
      " 25  mechanism                                   167880 non-null  float64\n",
      " 26  mode                                        167880 non-null  int64  \n",
      " 27  organism                                    167880 non-null  float64\n",
      " 28  speechiness                                 167880 non-null  float64\n",
      " 29  tempo                                       167880 non-null  float64\n",
      " 30  valence                                     167880 non-null  float64\n",
      " 31  acoustic_vector_0                           167880 non-null  float64\n",
      " 32  acoustic_vector_1                           167880 non-null  float64\n",
      " 33  acoustic_vector_2                           167880 non-null  float64\n",
      " 34  acoustic_vector_3                           167880 non-null  float64\n",
      " 35  acoustic_vector_4                           167880 non-null  float64\n",
      " 36  acoustic_vector_5                           167880 non-null  float64\n",
      " 37  acoustic_vector_6                           167880 non-null  float64\n",
      " 38  acoustic_vector_7                           167880 non-null  float64\n",
      " 39  context_type_charts                         167880 non-null  uint8  \n",
      " 40  context_type_editorial_playlist             167880 non-null  uint8  \n",
      " 41  context_type_personalized_playlist          167880 non-null  uint8  \n",
      " 42  context_type_radio                          167880 non-null  uint8  \n",
      " 43  context_type_user_collection                167880 non-null  uint8  \n",
      " 44  hist_user_behavior_reason_start_backbtn     167880 non-null  uint8  \n",
      " 45  hist_user_behavior_reason_start_clickrow    167880 non-null  uint8  \n",
      " 46  hist_user_behavior_reason_start_endplay     167880 non-null  uint8  \n",
      " 47  hist_user_behavior_reason_start_fwdbtn      167880 non-null  uint8  \n",
      " 48  hist_user_behavior_reason_start_playbtn     167880 non-null  uint8  \n",
      " 49  hist_user_behavior_reason_start_remote      167880 non-null  uint8  \n",
      " 50  hist_user_behavior_reason_start_trackdone   167880 non-null  uint8  \n",
      " 51  hist_user_behavior_reason_start_trackerror  167880 non-null  uint8  \n",
      " 52  hist_user_behavior_reason_end_clickrow      167880 non-null  uint8  \n",
      " 53  hist_user_behavior_reason_end_endplay       167880 non-null  uint8  \n",
      " 54  hist_user_behavior_reason_end_fwdbtn        167880 non-null  uint8  \n",
      " 55  hist_user_behavior_reason_end_logout        167880 non-null  uint8  \n",
      " 56  hist_user_behavior_reason_end_remote        167880 non-null  uint8  \n",
      " 57  hist_user_behavior_reason_end_trackdone     167880 non-null  uint8  \n",
      "dtypes: float64(34), int64(5), uint8(19)\n",
      "memory usage: 53.0 MB\n"
     ]
    }
   ],
   "source": [
    "ft.info()"
   ]
  },
  {
   "cell_type": "code",
   "execution_count": 98,
   "metadata": {
    "id": "pX-ldgQhd5xw"
   },
   "outputs": [],
   "source": []
  },
  {
   "cell_type": "markdown",
   "metadata": {
    "id": "KFXylX4hzTqj"
   },
   "source": [
    "### Modeling with only Training Data "
   ]
  },
  {
   "cell_type": "code",
   "execution_count": 99,
   "metadata": {
    "colab": {
     "base_uri": "https://localhost:8080/",
     "height": 131
    },
    "id": "WTbPn231d63O",
    "outputId": "8a06972a-7436-4442-dc31-4750f8550ded"
   },
   "outputs": [
    {
     "data": {
      "text/html": [
       "<div>\n",
       "<style scoped>\n",
       "    .dataframe tbody tr th:only-of-type {\n",
       "        vertical-align: middle;\n",
       "    }\n",
       "\n",
       "    .dataframe tbody tr th {\n",
       "        vertical-align: top;\n",
       "    }\n",
       "\n",
       "    .dataframe thead th {\n",
       "        text-align: right;\n",
       "    }\n",
       "</style>\n",
       "<table border=\"1\" class=\"dataframe\">\n",
       "  <thead>\n",
       "    <tr style=\"text-align: right;\">\n",
       "      <th></th>\n",
       "      <th>session_position</th>\n",
       "      <th>session_length</th>\n",
       "      <th>context_switch</th>\n",
       "      <th>no_pause_before_play</th>\n",
       "      <th>short_pause_before_play</th>\n",
       "      <th>long_pause_before_play</th>\n",
       "      <th>hist_user_behavior_n_seekfwd</th>\n",
       "      <th>hist_user_behavior_n_seekback</th>\n",
       "      <th>hist_user_behavior_is_shuffle</th>\n",
       "      <th>hour_of_day</th>\n",
       "      <th>premium</th>\n",
       "      <th>skip</th>\n",
       "      <th>context_type_catalog</th>\n",
       "      <th>context_type_charts</th>\n",
       "      <th>context_type_editorial_playlist</th>\n",
       "      <th>context_type_personalized_playlist</th>\n",
       "      <th>context_type_radio</th>\n",
       "      <th>context_type_user_collection</th>\n",
       "      <th>hist_user_behavior_reason_start_appload</th>\n",
       "      <th>hist_user_behavior_reason_start_backbtn</th>\n",
       "      <th>hist_user_behavior_reason_start_clickrow</th>\n",
       "      <th>hist_user_behavior_reason_start_endplay</th>\n",
       "      <th>hist_user_behavior_reason_start_fwdbtn</th>\n",
       "      <th>hist_user_behavior_reason_start_playbtn</th>\n",
       "      <th>hist_user_behavior_reason_start_remote</th>\n",
       "      <th>hist_user_behavior_reason_start_trackdone</th>\n",
       "      <th>hist_user_behavior_reason_start_trackerror</th>\n",
       "      <th>hist_user_behavior_reason_end_backbtn</th>\n",
       "      <th>hist_user_behavior_reason_end_clickrow</th>\n",
       "      <th>hist_user_behavior_reason_end_endplay</th>\n",
       "      <th>hist_user_behavior_reason_end_fwdbtn</th>\n",
       "      <th>hist_user_behavior_reason_end_logout</th>\n",
       "      <th>hist_user_behavior_reason_end_remote</th>\n",
       "      <th>hist_user_behavior_reason_end_trackdone</th>\n",
       "    </tr>\n",
       "  </thead>\n",
       "  <tbody>\n",
       "    <tr>\n",
       "      <th>0</th>\n",
       "      <td>1.0</td>\n",
       "      <td>20.0</td>\n",
       "      <td>0.0</td>\n",
       "      <td>0.0</td>\n",
       "      <td>0.0</td>\n",
       "      <td>0.0</td>\n",
       "      <td>0.0</td>\n",
       "      <td>0.0</td>\n",
       "      <td>1</td>\n",
       "      <td>16.0</td>\n",
       "      <td>1</td>\n",
       "      <td>0</td>\n",
       "      <td>0</td>\n",
       "      <td>0</td>\n",
       "      <td>1</td>\n",
       "      <td>0</td>\n",
       "      <td>0</td>\n",
       "      <td>0</td>\n",
       "      <td>0</td>\n",
       "      <td>0</td>\n",
       "      <td>0</td>\n",
       "      <td>0</td>\n",
       "      <td>0</td>\n",
       "      <td>0</td>\n",
       "      <td>0</td>\n",
       "      <td>1</td>\n",
       "      <td>0</td>\n",
       "      <td>0</td>\n",
       "      <td>0</td>\n",
       "      <td>0</td>\n",
       "      <td>0</td>\n",
       "      <td>0</td>\n",
       "      <td>0</td>\n",
       "      <td>1</td>\n",
       "    </tr>\n",
       "    <tr>\n",
       "      <th>1</th>\n",
       "      <td>2.0</td>\n",
       "      <td>20.0</td>\n",
       "      <td>0.0</td>\n",
       "      <td>1.0</td>\n",
       "      <td>0.0</td>\n",
       "      <td>0.0</td>\n",
       "      <td>0.0</td>\n",
       "      <td>0.0</td>\n",
       "      <td>1</td>\n",
       "      <td>16.0</td>\n",
       "      <td>1</td>\n",
       "      <td>0</td>\n",
       "      <td>0</td>\n",
       "      <td>0</td>\n",
       "      <td>1</td>\n",
       "      <td>0</td>\n",
       "      <td>0</td>\n",
       "      <td>0</td>\n",
       "      <td>0</td>\n",
       "      <td>0</td>\n",
       "      <td>0</td>\n",
       "      <td>0</td>\n",
       "      <td>0</td>\n",
       "      <td>0</td>\n",
       "      <td>0</td>\n",
       "      <td>1</td>\n",
       "      <td>0</td>\n",
       "      <td>0</td>\n",
       "      <td>0</td>\n",
       "      <td>0</td>\n",
       "      <td>0</td>\n",
       "      <td>0</td>\n",
       "      <td>0</td>\n",
       "      <td>1</td>\n",
       "    </tr>\n",
       "  </tbody>\n",
       "</table>\n",
       "</div>"
      ],
      "text/plain": [
       "   session_position  ...  hist_user_behavior_reason_end_trackdone\n",
       "0               1.0  ...                                        1\n",
       "1               2.0  ...                                        1\n",
       "\n",
       "[2 rows x 34 columns]"
      ]
     },
     "execution_count": 99,
     "metadata": {
      "tags": []
     },
     "output_type": "execute_result"
    }
   ],
   "source": [
    "dummy_train.head(2)"
   ]
  },
  {
   "cell_type": "code",
   "execution_count": 100,
   "metadata": {
    "colab": {
     "base_uri": "https://localhost:8080/"
    },
    "id": "iahgWVAelWB3",
    "outputId": "1e0a15f4-9949-4978-dea9-e6a04dee6c36"
   },
   "outputs": [
    {
     "data": {
      "text/plain": [
       "(167880, 34)"
      ]
     },
     "execution_count": 100,
     "metadata": {
      "tags": []
     },
     "output_type": "execute_result"
    }
   ],
   "source": [
    "dummy_train.shape"
   ]
  },
  {
   "cell_type": "markdown",
   "metadata": {
    "id": "Ic6MkKN9zTqk"
   },
   "source": [
    "### Train Test Split "
   ]
  },
  {
   "cell_type": "code",
   "execution_count": 101,
   "metadata": {
    "colab": {
     "base_uri": "https://localhost:8080/"
    },
    "id": "rON7kFs6eE4U",
    "outputId": "d606986b-4693-4f58-99f2-124cabafa170"
   },
   "outputs": [
    {
     "name": "stderr",
     "output_type": "stream",
     "text": [
      "/usr/local/lib/python3.6/dist-packages/sklearn/utils/deprecation.py:87: FutureWarning: Function safe_indexing is deprecated; safe_indexing is deprecated in version 0.22 and will be removed in version 0.24.\n",
      "  warnings.warn(msg, category=FutureWarning)\n"
     ]
    }
   ],
   "source": [
    "X = dummy_train.drop(columns=[\"skip\"])\n",
    "y = dummy_train.skip\n",
    "\n",
    "X_resampled, Y_resampled = SMOTE(sampling_strategy=1.0, random_state=2).fit_sample(X, y)"
   ]
  },
  {
   "cell_type": "code",
   "execution_count": 102,
   "metadata": {
    "id": "4naS5O4d40nn"
   },
   "outputs": [],
   "source": [
    "X_train, X_test, y_train, y_test = train_test_split(\n",
    "    X_resampled, Y_resampled,\n",
    "    test_size=0.2,\n",
    "    random_state=2\n",
    ")\n",
    "X_train, X_val, y_train, y_val = train_test_split(\n",
    "    X_train,\n",
    "    y_train,\n",
    "    test_size=0.2,\n",
    "    random_state=2\n",
    ")   "
   ]
  },
  {
   "cell_type": "markdown",
   "metadata": {
    "id": "qR7tzCX0zTqk"
   },
   "source": [
    "### Standardsing Data"
   ]
  },
  {
   "cell_type": "code",
   "execution_count": 103,
   "metadata": {
    "colab": {
     "base_uri": "https://localhost:8080/"
    },
    "id": "R0G3fU5MeFEZ",
    "outputId": "1faf812d-8ffd-4797-e88f-0612b335737f"
   },
   "outputs": [
    {
     "name": "stdout",
     "output_type": "stream",
     "text": [
      "Log Train score: 0.9896689314563947\n",
      "Log Val score:   0.9885041435307905\n",
      "Log Test score:  0.9885042076832072\n"
     ]
    }
   ],
   "source": [
    "scaler = StandardScaler()\n",
    "sX_train = scaler.fit_transform(X_train)\n",
    "sX_val = scaler.transform(X_val)\n",
    "sX_test = scaler.transform(X_test)\n",
    "\n",
    "\n",
    "# Applying LOgistic Regression\n",
    "log = LogisticRegressionCV(\n",
    "    cv=3\n",
    ").fit(\n",
    "    sX_train,\n",
    "    y_train\n",
    ")\n",
    "\n",
    "print(\"Log Train score: %s\" % log.score(sX_train,y_train))\n",
    "print(\"Log Val score:   %s\" % log.score(sX_val,y_val))\n",
    "print(\"Log Test score:  %s\" % log.score(sX_test,y_test))"
   ]
  },
  {
   "cell_type": "markdown",
   "metadata": {
    "id": "EpXWtOP7zTql"
   },
   "source": [
    "###  Applying Random Forest"
   ]
  },
  {
   "cell_type": "code",
   "execution_count": 104,
   "metadata": {
    "colab": {
     "base_uri": "https://localhost:8080/"
    },
    "id": "MIq7Td9aeFHv",
    "outputId": "9e2f417e-817b-485a-856d-472c890920ef"
   },
   "outputs": [
    {
     "name": "stdout",
     "output_type": "stream",
     "text": [
      "RFC Train score: 0.9976840548572067\n",
      "RFC Val score:   0.989592343536371\n",
      "RFC Test score:  0.9900444206343891\n"
     ]
    }
   ],
   "source": [
    "rfc = RandomForestClassifier(\n",
    "    n_estimators=100\n",
    ").fit(\n",
    "    X_train,\n",
    "    y_train\n",
    ")\n",
    "\n",
    "print(\"RFC Train score: %s\" % rfc.score(X_train,y_train))\n",
    "print(\"RFC Val score:   %s\" % rfc.score(X_val,y_val))\n",
    "print(\"RFC Test score:  %s\" % rfc.score(X_test,y_test))"
   ]
  },
  {
   "cell_type": "markdown",
   "metadata": {
    "id": "qjuP_7PNeFLx"
   },
   "source": [
    "### Feature selection using Boruta "
   ]
  },
  {
   "cell_type": "code",
   "execution_count": 105,
   "metadata": {
    "colab": {
     "base_uri": "https://localhost:8080/"
    },
    "id": "Pg7ZyezMqZtt",
    "outputId": "c4f9e3c2-0c41-402a-ed76-794cc09833bf"
   },
   "outputs": [
    {
     "name": "stdout",
     "output_type": "stream",
     "text": [
      "Collecting boruta\n",
      "\u001b[?25l  Downloading https://files.pythonhosted.org/packages/b2/11/583f4eac99d802c79af9217e1eff56027742a69e6c866b295cce6a5a8fc2/Boruta-0.3-py3-none-any.whl (56kB)\n",
      "\r\n",
      "\u001b[K     |█████▉                          | 10kB 16.3MB/s eta 0:00:01\r\n",
      "\u001b[K     |███████████▋                    | 20kB 8.5MB/s eta 0:00:01\r\n",
      "\u001b[K     |█████████████████▍              | 30kB 7.1MB/s eta 0:00:01\r\n",
      "\u001b[K     |███████████████████████▏        | 40kB 6.4MB/s eta 0:00:01\r\n",
      "\u001b[K     |█████████████████████████████   | 51kB 3.8MB/s eta 0:00:01\r\n",
      "\u001b[K     |████████████████████████████████| 61kB 2.8MB/s \n",
      "\u001b[?25hRequirement already satisfied: scikit-learn>=0.17.1 in /usr/local/lib/python3.6/dist-packages (from boruta) (0.22.2.post1)\n",
      "Requirement already satisfied: scipy>=0.17.0 in /usr/local/lib/python3.6/dist-packages (from boruta) (1.4.1)\n",
      "Requirement already satisfied: numpy>=1.10.4 in /usr/local/lib/python3.6/dist-packages (from boruta) (1.19.5)\n",
      "Requirement already satisfied: joblib>=0.11 in /usr/local/lib/python3.6/dist-packages (from scikit-learn>=0.17.1->boruta) (1.0.0)\n",
      "Installing collected packages: boruta\n",
      "Successfully installed boruta-0.3\n"
     ]
    }
   ],
   "source": [
    "!pip install boruta\n",
    "from boruta import BorutaPy"
   ]
  },
  {
   "cell_type": "code",
   "execution_count": 106,
   "metadata": {
    "colab": {
     "base_uri": "https://localhost:8080/"
    },
    "id": "GE8xxY32eFO-",
    "outputId": "fdef993b-5874-49f6-bf3a-fc06e13bd743"
   },
   "outputs": [
    {
     "name": "stdout",
     "output_type": "stream",
     "text": [
      "Iteration: \t1 / 100\n",
      "Confirmed: \t0\n",
      "Tentative: \t33\n",
      "Rejected: \t0\n",
      "Iteration: \t2 / 100\n",
      "Confirmed: \t0\n",
      "Tentative: \t33\n",
      "Rejected: \t0\n",
      "Iteration: \t3 / 100\n",
      "Confirmed: \t0\n",
      "Tentative: \t33\n",
      "Rejected: \t0\n",
      "Iteration: \t4 / 100\n",
      "Confirmed: \t0\n",
      "Tentative: \t33\n",
      "Rejected: \t0\n",
      "Iteration: \t5 / 100\n",
      "Confirmed: \t0\n",
      "Tentative: \t33\n",
      "Rejected: \t0\n",
      "Iteration: \t6 / 100\n",
      "Confirmed: \t0\n",
      "Tentative: \t33\n",
      "Rejected: \t0\n",
      "Iteration: \t7 / 100\n",
      "Confirmed: \t0\n",
      "Tentative: \t33\n",
      "Rejected: \t0\n",
      "Iteration: \t8 / 100\n",
      "Confirmed: \t28\n",
      "Tentative: \t2\n",
      "Rejected: \t3\n",
      "Iteration: \t9 / 100\n",
      "Confirmed: \t28\n",
      "Tentative: \t2\n",
      "Rejected: \t3\n",
      "Iteration: \t10 / 100\n",
      "Confirmed: \t28\n",
      "Tentative: \t2\n",
      "Rejected: \t3\n",
      "Iteration: \t11 / 100\n",
      "Confirmed: \t28\n",
      "Tentative: \t2\n",
      "Rejected: \t3\n",
      "Iteration: \t12 / 100\n",
      "Confirmed: \t28\n",
      "Tentative: \t2\n",
      "Rejected: \t3\n",
      "Iteration: \t13 / 100\n",
      "Confirmed: \t28\n",
      "Tentative: \t2\n",
      "Rejected: \t3\n",
      "Iteration: \t14 / 100\n",
      "Confirmed: \t28\n",
      "Tentative: \t2\n",
      "Rejected: \t3\n",
      "Iteration: \t15 / 100\n",
      "Confirmed: \t28\n",
      "Tentative: \t2\n",
      "Rejected: \t3\n",
      "Iteration: \t16 / 100\n",
      "Confirmed: \t28\n",
      "Tentative: \t2\n",
      "Rejected: \t3\n",
      "Iteration: \t17 / 100\n",
      "Confirmed: \t28\n",
      "Tentative: \t2\n",
      "Rejected: \t3\n",
      "Iteration: \t18 / 100\n",
      "Confirmed: \t28\n",
      "Tentative: \t2\n",
      "Rejected: \t3\n",
      "Iteration: \t19 / 100\n",
      "Confirmed: \t28\n",
      "Tentative: \t2\n",
      "Rejected: \t3\n",
      "Iteration: \t20 / 100\n",
      "Confirmed: \t28\n",
      "Tentative: \t2\n",
      "Rejected: \t3\n",
      "Iteration: \t21 / 100\n",
      "Confirmed: \t28\n",
      "Tentative: \t2\n",
      "Rejected: \t3\n",
      "Iteration: \t22 / 100\n",
      "Confirmed: \t28\n",
      "Tentative: \t2\n",
      "Rejected: \t3\n",
      "Iteration: \t23 / 100\n",
      "Confirmed: \t28\n",
      "Tentative: \t2\n",
      "Rejected: \t3\n",
      "Iteration: \t24 / 100\n",
      "Confirmed: \t28\n",
      "Tentative: \t2\n",
      "Rejected: \t3\n",
      "Iteration: \t25 / 100\n",
      "Confirmed: \t28\n",
      "Tentative: \t2\n",
      "Rejected: \t3\n",
      "Iteration: \t26 / 100\n",
      "Confirmed: \t28\n",
      "Tentative: \t2\n",
      "Rejected: \t3\n",
      "Iteration: \t27 / 100\n",
      "Confirmed: \t28\n",
      "Tentative: \t2\n",
      "Rejected: \t3\n",
      "Iteration: \t28 / 100\n",
      "Confirmed: \t28\n",
      "Tentative: \t2\n",
      "Rejected: \t3\n",
      "Iteration: \t29 / 100\n",
      "Confirmed: \t28\n",
      "Tentative: \t2\n",
      "Rejected: \t3\n",
      "Iteration: \t30 / 100\n",
      "Confirmed: \t28\n",
      "Tentative: \t2\n",
      "Rejected: \t3\n",
      "Iteration: \t31 / 100\n",
      "Confirmed: \t28\n",
      "Tentative: \t2\n",
      "Rejected: \t3\n",
      "Iteration: \t32 / 100\n",
      "Confirmed: \t28\n",
      "Tentative: \t2\n",
      "Rejected: \t3\n",
      "Iteration: \t33 / 100\n",
      "Confirmed: \t28\n",
      "Tentative: \t2\n",
      "Rejected: \t3\n",
      "Iteration: \t34 / 100\n",
      "Confirmed: \t28\n",
      "Tentative: \t2\n",
      "Rejected: \t3\n",
      "Iteration: \t35 / 100\n",
      "Confirmed: \t28\n",
      "Tentative: \t2\n",
      "Rejected: \t3\n",
      "Iteration: \t36 / 100\n",
      "Confirmed: \t28\n",
      "Tentative: \t2\n",
      "Rejected: \t3\n",
      "Iteration: \t37 / 100\n",
      "Confirmed: \t28\n",
      "Tentative: \t2\n",
      "Rejected: \t3\n",
      "Iteration: \t38 / 100\n",
      "Confirmed: \t28\n",
      "Tentative: \t2\n",
      "Rejected: \t3\n",
      "Iteration: \t39 / 100\n",
      "Confirmed: \t28\n",
      "Tentative: \t2\n",
      "Rejected: \t3\n",
      "Iteration: \t40 / 100\n",
      "Confirmed: \t28\n",
      "Tentative: \t2\n",
      "Rejected: \t3\n",
      "Iteration: \t41 / 100\n",
      "Confirmed: \t28\n",
      "Tentative: \t2\n",
      "Rejected: \t3\n",
      "Iteration: \t42 / 100\n",
      "Confirmed: \t28\n",
      "Tentative: \t2\n",
      "Rejected: \t3\n",
      "Iteration: \t43 / 100\n",
      "Confirmed: \t28\n",
      "Tentative: \t2\n",
      "Rejected: \t3\n",
      "Iteration: \t44 / 100\n",
      "Confirmed: \t28\n",
      "Tentative: \t2\n",
      "Rejected: \t3\n",
      "Iteration: \t45 / 100\n",
      "Confirmed: \t28\n",
      "Tentative: \t2\n",
      "Rejected: \t3\n",
      "Iteration: \t46 / 100\n",
      "Confirmed: \t28\n",
      "Tentative: \t2\n",
      "Rejected: \t3\n",
      "Iteration: \t47 / 100\n",
      "Confirmed: \t28\n",
      "Tentative: \t2\n",
      "Rejected: \t3\n",
      "Iteration: \t48 / 100\n",
      "Confirmed: \t28\n",
      "Tentative: \t2\n",
      "Rejected: \t3\n",
      "Iteration: \t49 / 100\n",
      "Confirmed: \t28\n",
      "Tentative: \t2\n",
      "Rejected: \t3\n",
      "Iteration: \t50 / 100\n",
      "Confirmed: \t28\n",
      "Tentative: \t2\n",
      "Rejected: \t3\n",
      "Iteration: \t51 / 100\n",
      "Confirmed: \t28\n",
      "Tentative: \t2\n",
      "Rejected: \t3\n",
      "Iteration: \t52 / 100\n",
      "Confirmed: \t28\n",
      "Tentative: \t2\n",
      "Rejected: \t3\n",
      "Iteration: \t53 / 100\n",
      "Confirmed: \t28\n",
      "Tentative: \t2\n",
      "Rejected: \t3\n",
      "Iteration: \t54 / 100\n",
      "Confirmed: \t28\n",
      "Tentative: \t2\n",
      "Rejected: \t3\n",
      "Iteration: \t55 / 100\n",
      "Confirmed: \t28\n",
      "Tentative: \t2\n",
      "Rejected: \t3\n",
      "Iteration: \t56 / 100\n",
      "Confirmed: \t28\n",
      "Tentative: \t2\n",
      "Rejected: \t3\n",
      "Iteration: \t57 / 100\n",
      "Confirmed: \t28\n",
      "Tentative: \t2\n",
      "Rejected: \t3\n",
      "Iteration: \t58 / 100\n",
      "Confirmed: \t28\n",
      "Tentative: \t2\n",
      "Rejected: \t3\n",
      "Iteration: \t59 / 100\n",
      "Confirmed: \t28\n",
      "Tentative: \t2\n",
      "Rejected: \t3\n",
      "Iteration: \t60 / 100\n",
      "Confirmed: \t28\n",
      "Tentative: \t2\n",
      "Rejected: \t3\n",
      "Iteration: \t61 / 100\n",
      "Confirmed: \t28\n",
      "Tentative: \t2\n",
      "Rejected: \t3\n",
      "Iteration: \t62 / 100\n",
      "Confirmed: \t28\n",
      "Tentative: \t2\n",
      "Rejected: \t3\n",
      "Iteration: \t63 / 100\n",
      "Confirmed: \t28\n",
      "Tentative: \t2\n",
      "Rejected: \t3\n",
      "Iteration: \t64 / 100\n",
      "Confirmed: \t28\n",
      "Tentative: \t2\n",
      "Rejected: \t3\n",
      "Iteration: \t65 / 100\n",
      "Confirmed: \t28\n",
      "Tentative: \t2\n",
      "Rejected: \t3\n",
      "Iteration: \t66 / 100\n",
      "Confirmed: \t28\n",
      "Tentative: \t2\n",
      "Rejected: \t3\n",
      "Iteration: \t67 / 100\n",
      "Confirmed: \t28\n",
      "Tentative: \t2\n",
      "Rejected: \t3\n",
      "Iteration: \t68 / 100\n",
      "Confirmed: \t28\n",
      "Tentative: \t2\n",
      "Rejected: \t3\n",
      "Iteration: \t69 / 100\n",
      "Confirmed: \t28\n",
      "Tentative: \t2\n",
      "Rejected: \t3\n",
      "Iteration: \t70 / 100\n",
      "Confirmed: \t28\n",
      "Tentative: \t2\n",
      "Rejected: \t3\n",
      "Iteration: \t71 / 100\n",
      "Confirmed: \t28\n",
      "Tentative: \t2\n",
      "Rejected: \t3\n",
      "Iteration: \t72 / 100\n",
      "Confirmed: \t28\n",
      "Tentative: \t2\n",
      "Rejected: \t3\n",
      "Iteration: \t73 / 100\n",
      "Confirmed: \t28\n",
      "Tentative: \t2\n",
      "Rejected: \t3\n",
      "Iteration: \t74 / 100\n",
      "Confirmed: \t28\n",
      "Tentative: \t2\n",
      "Rejected: \t3\n",
      "Iteration: \t75 / 100\n",
      "Confirmed: \t28\n",
      "Tentative: \t2\n",
      "Rejected: \t3\n",
      "Iteration: \t76 / 100\n",
      "Confirmed: \t28\n",
      "Tentative: \t2\n",
      "Rejected: \t3\n",
      "Iteration: \t77 / 100\n",
      "Confirmed: \t28\n",
      "Tentative: \t1\n",
      "Rejected: \t4\n",
      "Iteration: \t78 / 100\n",
      "Confirmed: \t28\n",
      "Tentative: \t1\n",
      "Rejected: \t4\n",
      "Iteration: \t79 / 100\n",
      "Confirmed: \t28\n",
      "Tentative: \t1\n",
      "Rejected: \t4\n",
      "Iteration: \t80 / 100\n",
      "Confirmed: \t28\n",
      "Tentative: \t1\n",
      "Rejected: \t4\n",
      "Iteration: \t81 / 100\n",
      "Confirmed: \t28\n",
      "Tentative: \t1\n",
      "Rejected: \t4\n",
      "Iteration: \t82 / 100\n",
      "Confirmed: \t28\n",
      "Tentative: \t1\n",
      "Rejected: \t4\n",
      "Iteration: \t83 / 100\n",
      "Confirmed: \t28\n",
      "Tentative: \t1\n",
      "Rejected: \t4\n",
      "Iteration: \t84 / 100\n",
      "Confirmed: \t28\n",
      "Tentative: \t1\n",
      "Rejected: \t4\n",
      "Iteration: \t85 / 100\n",
      "Confirmed: \t28\n",
      "Tentative: \t1\n",
      "Rejected: \t4\n",
      "Iteration: \t86 / 100\n",
      "Confirmed: \t28\n",
      "Tentative: \t1\n",
      "Rejected: \t4\n",
      "Iteration: \t87 / 100\n",
      "Confirmed: \t28\n",
      "Tentative: \t1\n",
      "Rejected: \t4\n",
      "Iteration: \t88 / 100\n",
      "Confirmed: \t28\n",
      "Tentative: \t1\n",
      "Rejected: \t4\n",
      "Iteration: \t89 / 100\n",
      "Confirmed: \t28\n",
      "Tentative: \t1\n",
      "Rejected: \t4\n",
      "Iteration: \t90 / 100\n",
      "Confirmed: \t28\n",
      "Tentative: \t1\n",
      "Rejected: \t4\n",
      "Iteration: \t91 / 100\n",
      "Confirmed: \t28\n",
      "Tentative: \t1\n",
      "Rejected: \t4\n",
      "Iteration: \t92 / 100\n",
      "Confirmed: \t28\n",
      "Tentative: \t1\n",
      "Rejected: \t4\n",
      "Iteration: \t93 / 100\n",
      "Confirmed: \t28\n",
      "Tentative: \t1\n",
      "Rejected: \t4\n",
      "Iteration: \t94 / 100\n",
      "Confirmed: \t28\n",
      "Tentative: \t1\n",
      "Rejected: \t4\n",
      "Iteration: \t95 / 100\n",
      "Confirmed: \t28\n",
      "Tentative: \t1\n",
      "Rejected: \t4\n",
      "Iteration: \t96 / 100\n",
      "Confirmed: \t28\n",
      "Tentative: \t1\n",
      "Rejected: \t4\n",
      "Iteration: \t97 / 100\n",
      "Confirmed: \t28\n",
      "Tentative: \t1\n",
      "Rejected: \t4\n",
      "Iteration: \t98 / 100\n",
      "Confirmed: \t28\n",
      "Tentative: \t1\n",
      "Rejected: \t4\n",
      "Iteration: \t99 / 100\n",
      "Confirmed: \t28\n",
      "Tentative: \t1\n",
      "Rejected: \t4\n",
      "\n",
      "\n",
      "BorutaPy finished running.\n",
      "\n",
      "Iteration: \t100 / 100\n",
      "Confirmed: \t28\n",
      "Tentative: \t1\n",
      "Rejected: \t4\n"
     ]
    },
    {
     "data": {
      "text/plain": [
       "BorutaPy(alpha=0.05,\n",
       "         estimator=RandomForestClassifier(bootstrap=True, ccp_alpha=0.0,\n",
       "                                          class_weight=None, criterion='gini',\n",
       "                                          max_depth=5, max_features='auto',\n",
       "                                          max_leaf_nodes=None, max_samples=None,\n",
       "                                          min_impurity_decrease=0.0,\n",
       "                                          min_impurity_split=None,\n",
       "                                          min_samples_leaf=1,\n",
       "                                          min_samples_split=2,\n",
       "                                          min_weight_fraction_leaf=0.0,\n",
       "                                          n_estimators=152, n_jobs=None,\n",
       "                                          oob_score=False,\n",
       "                                          random_state=RandomState(MT19937) at 0x7F4E4F4C5DB0,\n",
       "                                          verbose=0, warm_start=False),\n",
       "         max_iter=100, n_estimators='auto', perc=100,\n",
       "         random_state=RandomState(MT19937) at 0x7F4E4F4C5DB0, two_step=True,\n",
       "         verbose=2)"
      ]
     },
     "execution_count": 106,
     "metadata": {
      "tags": []
     },
     "output_type": "execute_result"
    }
   ],
   "source": [
    "rf = RandomForestClassifier(random_state=1, n_estimators=100, max_depth=5)\n",
    "boruta_selector = BorutaPy(rf, n_estimators='auto', verbose=2, random_state=1)   # initialize the boruta selector\n",
    "boruta_selector.fit(np.array(sX_train), np.array(y_train))  "
   ]
  },
  {
   "cell_type": "code",
   "execution_count": 107,
   "metadata": {
    "colab": {
     "base_uri": "https://localhost:8080/"
    },
    "id": "x2u3yWh8eFSY",
    "outputId": "4df87db8-7bc3-4be1-eea1-d65a3bda5c68"
   },
   "outputs": [
    {
     "name": "stdout",
     "output_type": "stream",
     "text": [
      "Selected Features:  [ True  True  True  True  True  True  True  True  True  True  True  True\n",
      "  True  True False  True  True  True  True  True False  True False  True\n",
      "  True False  True False  True  True  True  True  True]\n",
      "Ranking:  [1 1 1 1 1 1 1 1 1 1 1 1 1 1 2 1 1 1 1 1 3 1 4 1 1 5 1 6 1 1 1 1 1]\n",
      "No. of significant features:  28\n"
     ]
    }
   ],
   "source": [
    "print(\"Selected Features: \", boruta_selector.support_)    # check selected features\n",
    "print(\"Ranking: \",boruta_selector.ranking_)               # check ranking of features\n",
    "print(\"No. of significant features: \", boruta_selector.n_features_)"
   ]
  },
  {
   "cell_type": "code",
   "execution_count": null,
   "metadata": {
    "id": "zh7_lCUbCx_v"
   },
   "outputs": [],
   "source": []
  },
  {
   "cell_type": "code",
   "execution_count": 109,
   "metadata": {
    "colab": {
     "base_uri": "https://localhost:8080/",
     "height": 1000
    },
    "id": "HAabqyeoeFVV",
    "outputId": "66c54279-97e7-4692-cd11-9a02ac2143c3"
   },
   "outputs": [
    {
     "data": {
      "text/html": [
       "<div>\n",
       "<style scoped>\n",
       "    .dataframe tbody tr th:only-of-type {\n",
       "        vertical-align: middle;\n",
       "    }\n",
       "\n",
       "    .dataframe tbody tr th {\n",
       "        vertical-align: top;\n",
       "    }\n",
       "\n",
       "    .dataframe thead th {\n",
       "        text-align: right;\n",
       "    }\n",
       "</style>\n",
       "<table border=\"1\" class=\"dataframe\">\n",
       "  <thead>\n",
       "    <tr style=\"text-align: right;\">\n",
       "      <th></th>\n",
       "      <th>Feature</th>\n",
       "      <th>Ranking</th>\n",
       "    </tr>\n",
       "  </thead>\n",
       "  <tbody>\n",
       "    <tr>\n",
       "      <th>0</th>\n",
       "      <td>session_position</td>\n",
       "      <td>1</td>\n",
       "    </tr>\n",
       "    <tr>\n",
       "      <th>30</th>\n",
       "      <td>hist_user_behavior_reason_end_logout</td>\n",
       "      <td>1</td>\n",
       "    </tr>\n",
       "    <tr>\n",
       "      <th>29</th>\n",
       "      <td>hist_user_behavior_reason_end_fwdbtn</td>\n",
       "      <td>1</td>\n",
       "    </tr>\n",
       "    <tr>\n",
       "      <th>28</th>\n",
       "      <td>hist_user_behavior_reason_end_endplay</td>\n",
       "      <td>1</td>\n",
       "    </tr>\n",
       "    <tr>\n",
       "      <th>26</th>\n",
       "      <td>hist_user_behavior_reason_end_backbtn</td>\n",
       "      <td>1</td>\n",
       "    </tr>\n",
       "    <tr>\n",
       "      <th>24</th>\n",
       "      <td>hist_user_behavior_reason_start_trackdone</td>\n",
       "      <td>1</td>\n",
       "    </tr>\n",
       "    <tr>\n",
       "      <th>23</th>\n",
       "      <td>hist_user_behavior_reason_start_remote</td>\n",
       "      <td>1</td>\n",
       "    </tr>\n",
       "    <tr>\n",
       "      <th>21</th>\n",
       "      <td>hist_user_behavior_reason_start_fwdbtn</td>\n",
       "      <td>1</td>\n",
       "    </tr>\n",
       "    <tr>\n",
       "      <th>19</th>\n",
       "      <td>hist_user_behavior_reason_start_clickrow</td>\n",
       "      <td>1</td>\n",
       "    </tr>\n",
       "    <tr>\n",
       "      <th>18</th>\n",
       "      <td>hist_user_behavior_reason_start_backbtn</td>\n",
       "      <td>1</td>\n",
       "    </tr>\n",
       "    <tr>\n",
       "      <th>17</th>\n",
       "      <td>hist_user_behavior_reason_start_appload</td>\n",
       "      <td>1</td>\n",
       "    </tr>\n",
       "    <tr>\n",
       "      <th>31</th>\n",
       "      <td>hist_user_behavior_reason_end_remote</td>\n",
       "      <td>1</td>\n",
       "    </tr>\n",
       "    <tr>\n",
       "      <th>15</th>\n",
       "      <td>context_type_radio</td>\n",
       "      <td>1</td>\n",
       "    </tr>\n",
       "    <tr>\n",
       "      <th>16</th>\n",
       "      <td>context_type_user_collection</td>\n",
       "      <td>1</td>\n",
       "    </tr>\n",
       "    <tr>\n",
       "      <th>6</th>\n",
       "      <td>hist_user_behavior_n_seekfwd</td>\n",
       "      <td>1</td>\n",
       "    </tr>\n",
       "    <tr>\n",
       "      <th>1</th>\n",
       "      <td>session_length</td>\n",
       "      <td>1</td>\n",
       "    </tr>\n",
       "    <tr>\n",
       "      <th>2</th>\n",
       "      <td>context_switch</td>\n",
       "      <td>1</td>\n",
       "    </tr>\n",
       "    <tr>\n",
       "      <th>3</th>\n",
       "      <td>no_pause_before_play</td>\n",
       "      <td>1</td>\n",
       "    </tr>\n",
       "    <tr>\n",
       "      <th>4</th>\n",
       "      <td>short_pause_before_play</td>\n",
       "      <td>1</td>\n",
       "    </tr>\n",
       "    <tr>\n",
       "      <th>5</th>\n",
       "      <td>long_pause_before_play</td>\n",
       "      <td>1</td>\n",
       "    </tr>\n",
       "    <tr>\n",
       "      <th>13</th>\n",
       "      <td>context_type_editorial_playlist</td>\n",
       "      <td>1</td>\n",
       "    </tr>\n",
       "    <tr>\n",
       "      <th>32</th>\n",
       "      <td>hist_user_behavior_reason_end_trackdone</td>\n",
       "      <td>1</td>\n",
       "    </tr>\n",
       "    <tr>\n",
       "      <th>8</th>\n",
       "      <td>hist_user_behavior_is_shuffle</td>\n",
       "      <td>1</td>\n",
       "    </tr>\n",
       "    <tr>\n",
       "      <th>9</th>\n",
       "      <td>hour_of_day</td>\n",
       "      <td>1</td>\n",
       "    </tr>\n",
       "    <tr>\n",
       "      <th>10</th>\n",
       "      <td>premium</td>\n",
       "      <td>1</td>\n",
       "    </tr>\n",
       "    <tr>\n",
       "      <th>11</th>\n",
       "      <td>context_type_catalog</td>\n",
       "      <td>1</td>\n",
       "    </tr>\n",
       "    <tr>\n",
       "      <th>12</th>\n",
       "      <td>context_type_charts</td>\n",
       "      <td>1</td>\n",
       "    </tr>\n",
       "    <tr>\n",
       "      <th>7</th>\n",
       "      <td>hist_user_behavior_n_seekback</td>\n",
       "      <td>1</td>\n",
       "    </tr>\n",
       "    <tr>\n",
       "      <th>14</th>\n",
       "      <td>context_type_personalized_playlist</td>\n",
       "      <td>2</td>\n",
       "    </tr>\n",
       "    <tr>\n",
       "      <th>20</th>\n",
       "      <td>hist_user_behavior_reason_start_endplay</td>\n",
       "      <td>3</td>\n",
       "    </tr>\n",
       "    <tr>\n",
       "      <th>22</th>\n",
       "      <td>hist_user_behavior_reason_start_playbtn</td>\n",
       "      <td>4</td>\n",
       "    </tr>\n",
       "    <tr>\n",
       "      <th>25</th>\n",
       "      <td>hist_user_behavior_reason_start_trackerror</td>\n",
       "      <td>5</td>\n",
       "    </tr>\n",
       "    <tr>\n",
       "      <th>27</th>\n",
       "      <td>hist_user_behavior_reason_end_clickrow</td>\n",
       "      <td>6</td>\n",
       "    </tr>\n",
       "  </tbody>\n",
       "</table>\n",
       "</div>"
      ],
      "text/plain": [
       "                                       Feature  Ranking\n",
       "0                             session_position        1\n",
       "30        hist_user_behavior_reason_end_logout        1\n",
       "29        hist_user_behavior_reason_end_fwdbtn        1\n",
       "28       hist_user_behavior_reason_end_endplay        1\n",
       "26       hist_user_behavior_reason_end_backbtn        1\n",
       "24   hist_user_behavior_reason_start_trackdone        1\n",
       "23      hist_user_behavior_reason_start_remote        1\n",
       "21      hist_user_behavior_reason_start_fwdbtn        1\n",
       "19    hist_user_behavior_reason_start_clickrow        1\n",
       "18     hist_user_behavior_reason_start_backbtn        1\n",
       "17     hist_user_behavior_reason_start_appload        1\n",
       "31        hist_user_behavior_reason_end_remote        1\n",
       "15                          context_type_radio        1\n",
       "16                context_type_user_collection        1\n",
       "6                 hist_user_behavior_n_seekfwd        1\n",
       "1                               session_length        1\n",
       "2                               context_switch        1\n",
       "3                         no_pause_before_play        1\n",
       "4                      short_pause_before_play        1\n",
       "5                       long_pause_before_play        1\n",
       "13             context_type_editorial_playlist        1\n",
       "32     hist_user_behavior_reason_end_trackdone        1\n",
       "8                hist_user_behavior_is_shuffle        1\n",
       "9                                  hour_of_day        1\n",
       "10                                     premium        1\n",
       "11                        context_type_catalog        1\n",
       "12                         context_type_charts        1\n",
       "7                hist_user_behavior_n_seekback        1\n",
       "14          context_type_personalized_playlist        2\n",
       "20     hist_user_behavior_reason_start_endplay        3\n",
       "22     hist_user_behavior_reason_start_playbtn        4\n",
       "25  hist_user_behavior_reason_start_trackerror        5\n",
       "27      hist_user_behavior_reason_end_clickrow        6"
      ]
     },
     "execution_count": 109,
     "metadata": {
      "tags": []
     },
     "output_type": "execute_result"
    }
   ],
   "source": [
    "selected_rf_features = pd.DataFrame({'Feature':list(X.columns),\n",
    "                                      'Ranking':boruta_selector.ranking_})\n",
    "selected_rf_features.sort_values(by='Ranking')"
   ]
  },
  {
   "cell_type": "code",
   "execution_count": 110,
   "metadata": {
    "id": "PlHYPFPieFY0"
   },
   "outputs": [],
   "source": [
    "X_important_train = boruta_selector.transform(np.array(X_train))\n",
    "X_important_val = boruta_selector.transform(np.array(X_val))\n",
    "X_important_test = boruta_selector.transform(np.array(X_test))"
   ]
  },
  {
   "cell_type": "markdown",
   "metadata": {
    "id": "DSkCf8HQzTqn"
   },
   "source": [
    "### Creating model with important features (selected by boruta)"
   ]
  },
  {
   "cell_type": "code",
   "execution_count": 111,
   "metadata": {
    "colab": {
     "base_uri": "https://localhost:8080/"
    },
    "id": "mzvjR7gIeFbJ",
    "outputId": "45dafaa6-5137-4322-d7a1-4466a48d2e06"
   },
   "outputs": [
    {
     "data": {
      "text/plain": [
       "RandomForestClassifier(bootstrap=True, ccp_alpha=0.0, class_weight=None,\n",
       "                       criterion='gini', max_depth=None, max_features='auto',\n",
       "                       max_leaf_nodes=None, max_samples=None,\n",
       "                       min_impurity_decrease=0.0, min_impurity_split=None,\n",
       "                       min_samples_leaf=1, min_samples_split=2,\n",
       "                       min_weight_fraction_leaf=0.0, n_estimators=100,\n",
       "                       n_jobs=-1, oob_score=False, random_state=1, verbose=0,\n",
       "                       warm_start=False)"
      ]
     },
     "execution_count": 111,
     "metadata": {
      "tags": []
     },
     "output_type": "execute_result"
    }
   ],
   "source": [
    "rf_important = RandomForestClassifier(random_state=1, n_estimators=100, n_jobs = -1)\n",
    "rf_important.fit(X_important_train, y_train)"
   ]
  },
  {
   "cell_type": "code",
   "execution_count": 113,
   "metadata": {
    "colab": {
     "base_uri": "https://localhost:8080/"
    },
    "id": "yO5T9tFGn82v",
    "outputId": "04560b76-99f4-4d8d-dc66-7cbaf8b96129"
   },
   "outputs": [
    {
     "name": "stdout",
     "output_type": "stream",
     "text": [
      "RFC Train score: 0.9976770791188248\n",
      "RFC Val score:   0.9898713691788276\n",
      "RFC Test score:  0.9901113864148753\n"
     ]
    }
   ],
   "source": [
    "print(\"RFC Train score: %s\" % rf_important.score(X_important_train, y_train))\n",
    "print(\"RFC Val score:   %s\" % rf_important.score(X_important_val, y_val))\n",
    "print(\"RFC Test score:  %s\" % rf_important.score(X_important_test, y_test)) "
   ]
  },
  {
   "cell_type": "markdown",
   "metadata": {
    "id": "9qFdPAMKzTqo"
   },
   "source": [
    "### Applying XG Boost"
   ]
  },
  {
   "cell_type": "code",
   "execution_count": 114,
   "metadata": {
    "colab": {
     "base_uri": "https://localhost:8080/"
    },
    "id": "IMt1jlJAeFdY",
    "outputId": "eafd3896-f019-4acb-b795-072d062b0ca6"
   },
   "outputs": [
    {
     "name": "stdout",
     "output_type": "stream",
     "text": [
      "[0]\tvalidation_0-error:0.008092\tvalidation_1-error:0.009571\n",
      "Multiple eval metrics have been passed: 'validation_1-error' will be used for early stopping.\n",
      "\n",
      "Will train until validation_1-error hasn't improved in 10 rounds.\n",
      "[1]\tvalidation_0-error:0.00812\tvalidation_1-error:0.00971\n",
      "[2]\tvalidation_0-error:0.008064\tvalidation_1-error:0.009571\n",
      "[3]\tvalidation_0-error:0.00812\tvalidation_1-error:0.00971\n",
      "[4]\tvalidation_0-error:0.008064\tvalidation_1-error:0.009571\n",
      "[5]\tvalidation_0-error:0.008029\tvalidation_1-error:0.009682\n",
      "[6]\tvalidation_0-error:0.008029\tvalidation_1-error:0.009682\n",
      "[7]\tvalidation_0-error:0.008029\tvalidation_1-error:0.009682\n",
      "[8]\tvalidation_0-error:0.008029\tvalidation_1-error:0.009682\n",
      "[9]\tvalidation_0-error:0.008029\tvalidation_1-error:0.009682\n",
      "[10]\tvalidation_0-error:0.008029\tvalidation_1-error:0.009682\n",
      "Stopping. Best iteration:\n",
      "[0]\tvalidation_0-error:0.008092\tvalidation_1-error:0.009571\n",
      "\n"
     ]
    },
    {
     "data": {
      "text/plain": [
       "XGBClassifier(base_score=0.5, booster='gbtree', colsample_bylevel=1,\n",
       "              colsample_bynode=1, colsample_bytree=1, gamma=0,\n",
       "              learning_rate=0.1, max_delta_step=0, max_depth=3,\n",
       "              min_child_weight=1, missing=None, n_estimators=100, n_jobs=1,\n",
       "              nthread=None, objective='binary:logistic', random_state=0,\n",
       "              reg_alpha=0, reg_lambda=1, scale_pos_weight=1, seed=None,\n",
       "              silent=None, subsample=1, verbosity=1)"
      ]
     },
     "execution_count": 114,
     "metadata": {
      "tags": []
     },
     "output_type": "execute_result"
    }
   ],
   "source": [
    "xg = xgb.XGBClassifier()\n",
    "xg.fit(X_important_train, y_train,\n",
    "       eval_set=[(X_important_train, y_train),(X_important_val, y_val)],\n",
    "       early_stopping_rounds=10, verbose=True)   "
   ]
  },
  {
   "cell_type": "code",
   "execution_count": 115,
   "metadata": {
    "colab": {
     "base_uri": "https://localhost:8080/"
    },
    "id": "2oecJ_-keFge",
    "outputId": "ee2362a0-1471-46dc-f0c6-4bf15053372d"
   },
   "outputs": [
    {
     "name": "stdout",
     "output_type": "stream",
     "text": [
      "XGB Train score: 0.9919081434769871\n",
      "XGB Val score:   0.9904294204637406\n",
      "XGB Test score:  0.9910712292685104\n"
     ]
    }
   ],
   "source": [
    "print(\"XGB Train score: %s\" % xg.score(X_important_train,y_train))\n",
    "print(\"XGB Val score:   %s\" % xg.score(X_important_val,y_val))\n",
    "print(\"XGB Test score:  %s\" % xg.score(X_important_test,y_test))"
   ]
  },
  {
   "cell_type": "markdown",
   "metadata": {
    "id": "CkTgqhO3eFi8"
   },
   "source": [
    "### Testing  Model on the Data (given by technocolabs) "
   ]
  },
  {
   "cell_type": "code",
   "execution_count": 116,
   "metadata": {
    "colab": {
     "base_uri": "https://localhost:8080/"
    },
    "id": "T0-5cxlAeFlB",
    "outputId": "bbb1281c-1167-4d74-bb8f-9aadc238dd02"
   },
   "outputs": [
    {
     "data": {
      "text/plain": [
       "(202371, 40)"
      ]
     },
     "execution_count": 116,
     "metadata": {
      "tags": []
     },
     "output_type": "execute_result"
    }
   ],
   "source": [
    "# loading test data \n",
    "ts1 = pd.read_csv('/content/drive/MyDrive/test_data.csv')\n",
    "ts2 = pd.read_csv('/content/drive/MyDrive/test_data_20.csv')\n",
    "\n",
    "test_set = pd.concat([ts1,ts2])\n",
    "test_set.shape"
   ]
  },
  {
   "cell_type": "code",
   "execution_count": 117,
   "metadata": {
    "colab": {
     "base_uri": "https://localhost:8080/",
     "height": 233
    },
    "id": "6kOgbhRXjVyp",
    "outputId": "337b9725-82d0-4f38-dc16-fb783a628585"
   },
   "outputs": [
    {
     "data": {
      "text/html": [
       "<div>\n",
       "<style scoped>\n",
       "    .dataframe tbody tr th:only-of-type {\n",
       "        vertical-align: middle;\n",
       "    }\n",
       "\n",
       "    .dataframe tbody tr th {\n",
       "        vertical-align: top;\n",
       "    }\n",
       "\n",
       "    .dataframe thead th {\n",
       "        text-align: right;\n",
       "    }\n",
       "</style>\n",
       "<table border=\"1\" class=\"dataframe\">\n",
       "  <thead>\n",
       "    <tr style=\"text-align: right;\">\n",
       "      <th></th>\n",
       "      <th>session_id</th>\n",
       "      <th>session_position</th>\n",
       "      <th>session_length</th>\n",
       "      <th>track_id_clean</th>\n",
       "      <th>skip_1</th>\n",
       "      <th>skip_2</th>\n",
       "      <th>skip_3</th>\n",
       "      <th>not_skipped</th>\n",
       "      <th>context_switch</th>\n",
       "      <th>no_pause_before_play</th>\n",
       "      <th>short_pause_before_play</th>\n",
       "      <th>long_pause_before_play</th>\n",
       "      <th>hist_user_behavior_n_seekfwd</th>\n",
       "      <th>hist_user_behavior_n_seekback</th>\n",
       "      <th>hist_user_behavior_is_shuffle</th>\n",
       "      <th>hour_of_day</th>\n",
       "      <th>premium</th>\n",
       "      <th>context_type_catalog</th>\n",
       "      <th>context_type_charts</th>\n",
       "      <th>context_type_editorial_playlist</th>\n",
       "      <th>context_type_personalized_playlist</th>\n",
       "      <th>context_type_radio</th>\n",
       "      <th>context_type_user_collection</th>\n",
       "      <th>hist_user_behavior_reason_start_appload</th>\n",
       "      <th>hist_user_behavior_reason_start_backbtn</th>\n",
       "      <th>hist_user_behavior_reason_start_clickrow</th>\n",
       "      <th>hist_user_behavior_reason_start_endplay</th>\n",
       "      <th>hist_user_behavior_reason_start_fwdbtn</th>\n",
       "      <th>hist_user_behavior_reason_start_playbtn</th>\n",
       "      <th>hist_user_behavior_reason_start_remote</th>\n",
       "      <th>hist_user_behavior_reason_start_trackdone</th>\n",
       "      <th>hist_user_behavior_reason_start_trackerror</th>\n",
       "      <th>hist_user_behavior_reason_end_appload</th>\n",
       "      <th>hist_user_behavior_reason_end_backbtn</th>\n",
       "      <th>hist_user_behavior_reason_end_clickrow</th>\n",
       "      <th>hist_user_behavior_reason_end_endplay</th>\n",
       "      <th>hist_user_behavior_reason_end_fwdbtn</th>\n",
       "      <th>hist_user_behavior_reason_end_logout</th>\n",
       "      <th>hist_user_behavior_reason_end_remote</th>\n",
       "      <th>hist_user_behavior_reason_end_trackdone</th>\n",
       "    </tr>\n",
       "  </thead>\n",
       "  <tbody>\n",
       "    <tr>\n",
       "      <th>0</th>\n",
       "      <td>63_0008bbc4-6368-4bf2-83d8-d7f5bf8e0df3</td>\n",
       "      <td>0.000000</td>\n",
       "      <td>0.5</td>\n",
       "      <td>t_c7703c28-9da6-41f3-89b7-1a86ff1ee6be</td>\n",
       "      <td>0</td>\n",
       "      <td>0</td>\n",
       "      <td>1</td>\n",
       "      <td>0</td>\n",
       "      <td>0</td>\n",
       "      <td>0</td>\n",
       "      <td>0</td>\n",
       "      <td>0</td>\n",
       "      <td>-0.164915</td>\n",
       "      <td>-0.165319</td>\n",
       "      <td>0</td>\n",
       "      <td>0.434783</td>\n",
       "      <td>1</td>\n",
       "      <td>1</td>\n",
       "      <td>0</td>\n",
       "      <td>0</td>\n",
       "      <td>0</td>\n",
       "      <td>0</td>\n",
       "      <td>0</td>\n",
       "      <td>0</td>\n",
       "      <td>0</td>\n",
       "      <td>1</td>\n",
       "      <td>0</td>\n",
       "      <td>0</td>\n",
       "      <td>0</td>\n",
       "      <td>0</td>\n",
       "      <td>0</td>\n",
       "      <td>0</td>\n",
       "      <td>0</td>\n",
       "      <td>0</td>\n",
       "      <td>0</td>\n",
       "      <td>1</td>\n",
       "      <td>0</td>\n",
       "      <td>0</td>\n",
       "      <td>0</td>\n",
       "      <td>0</td>\n",
       "    </tr>\n",
       "    <tr>\n",
       "      <th>1</th>\n",
       "      <td>63_0008bbc4-6368-4bf2-83d8-d7f5bf8e0df3</td>\n",
       "      <td>0.052632</td>\n",
       "      <td>0.5</td>\n",
       "      <td>t_c7703c28-9da6-41f3-89b7-1a86ff1ee6be</td>\n",
       "      <td>0</td>\n",
       "      <td>0</td>\n",
       "      <td>0</td>\n",
       "      <td>1</td>\n",
       "      <td>1</td>\n",
       "      <td>1</td>\n",
       "      <td>0</td>\n",
       "      <td>0</td>\n",
       "      <td>-0.164915</td>\n",
       "      <td>-0.165319</td>\n",
       "      <td>0</td>\n",
       "      <td>0.434783</td>\n",
       "      <td>1</td>\n",
       "      <td>0</td>\n",
       "      <td>0</td>\n",
       "      <td>0</td>\n",
       "      <td>0</td>\n",
       "      <td>0</td>\n",
       "      <td>1</td>\n",
       "      <td>0</td>\n",
       "      <td>0</td>\n",
       "      <td>1</td>\n",
       "      <td>0</td>\n",
       "      <td>0</td>\n",
       "      <td>0</td>\n",
       "      <td>0</td>\n",
       "      <td>0</td>\n",
       "      <td>0</td>\n",
       "      <td>0</td>\n",
       "      <td>0</td>\n",
       "      <td>0</td>\n",
       "      <td>0</td>\n",
       "      <td>0</td>\n",
       "      <td>0</td>\n",
       "      <td>0</td>\n",
       "      <td>1</td>\n",
       "    </tr>\n",
       "  </tbody>\n",
       "</table>\n",
       "</div>"
      ],
      "text/plain": [
       "                                session_id  ...  hist_user_behavior_reason_end_trackdone\n",
       "0  63_0008bbc4-6368-4bf2-83d8-d7f5bf8e0df3  ...                                        0\n",
       "1  63_0008bbc4-6368-4bf2-83d8-d7f5bf8e0df3  ...                                        1\n",
       "\n",
       "[2 rows x 40 columns]"
      ]
     },
     "execution_count": 117,
     "metadata": {
      "tags": []
     },
     "output_type": "execute_result"
    }
   ],
   "source": [
    "test_set.head(2)"
   ]
  },
  {
   "cell_type": "code",
   "execution_count": 118,
   "metadata": {
    "id": "3gnZoSJfoSCm"
   },
   "outputs": [],
   "source": [
    "test_set['skip'] =  test_set['not_skipped'].replace({ 0 : 1, 1 : 0 })\n",
    "y_test_data = test_set.skip"
   ]
  },
  {
   "cell_type": "code",
   "execution_count": 119,
   "metadata": {
    "colab": {
     "base_uri": "https://localhost:8080/"
    },
    "id": "V4P4_GRQjeEB",
    "outputId": "97fe972c-a651-4831-f4b2-ba24b6a8bf49"
   },
   "outputs": [
    {
     "data": {
      "text/plain": [
       "(202371, 33)"
      ]
     },
     "execution_count": 119,
     "metadata": {
      "tags": []
     },
     "output_type": "execute_result"
    }
   ],
   "source": [
    "t1 = test_set.drop(['skip_1','skip_2','skip', 'skip_3',\t'not_skipped', 'session_id', 'track_id_clean','hist_user_behavior_reason_end_appload'], \n",
    "              axis=1)\n",
    "t1.shape"
   ]
  },
  {
   "cell_type": "markdown",
   "metadata": {
    "id": "QFtiPxpRzTqr"
   },
   "source": [
    "#### Loading Validation data"
   ]
  },
  {
   "cell_type": "code",
   "execution_count": 120,
   "metadata": {
    "colab": {
     "base_uri": "https://localhost:8080/"
    },
    "id": "f5f2THRKeFnO",
    "outputId": "7bc48c4a-976b-4e75-9c15-6093258b971b"
   },
   "outputs": [
    {
     "data": {
      "text/plain": [
       "(203816, 40)"
      ]
     },
     "execution_count": 120,
     "metadata": {
      "tags": []
     },
     "output_type": "execute_result"
    }
   ],
   "source": [
    "vs1 = pd.read_csv('/content/drive/MyDrive/val_data.csv')\n",
    "vs2 = pd.read_csv('/content/drive/MyDrive/val_data_20.csv')\n",
    "\n",
    "val_set = pd.concat([vs1,vs2])\n",
    "val_set.shape"
   ]
  },
  {
   "cell_type": "code",
   "execution_count": 121,
   "metadata": {
    "id": "QyqYuw6BpL6_"
   },
   "outputs": [],
   "source": [
    "val_set['skip'] =  val_set['not_skipped'].replace({ 0 : 1, 1 : 0 })\n",
    "y_val_data = val_set.skip"
   ]
  },
  {
   "cell_type": "code",
   "execution_count": 122,
   "metadata": {
    "colab": {
     "base_uri": "https://localhost:8080/"
    },
    "id": "t0i3s7LVeFri",
    "outputId": "c41ac479-5e1e-42ba-cc5f-4f51e9863494"
   },
   "outputs": [
    {
     "data": {
      "text/plain": [
       "(203816, 33)"
      ]
     },
     "execution_count": 122,
     "metadata": {
      "tags": []
     },
     "output_type": "execute_result"
    }
   ],
   "source": [
    "v1 = val_set.drop(['skip_1','skip_2','skip', 'skip_3',\t'not_skipped', 'session_id', 'track_id_clean', 'hist_user_behavior_reason_end_appload'],\n",
    "             axis=1)\n",
    "v1.shape"
   ]
  },
  {
   "cell_type": "markdown",
   "metadata": {
    "id": "IprN4LYYeFt4"
   },
   "source": [
    "### Selecting relevent features from Test and Validation set by using Boruta "
   ]
  },
  {
   "cell_type": "code",
   "execution_count": 123,
   "metadata": {
    "id": "2_1-ZECneFwX"
   },
   "outputs": [],
   "source": [
    "X_val_set = boruta_selector.transform(np.array(v1))\n",
    "X_test_set = boruta_selector.transform(np.array(t1))"
   ]
  },
  {
   "cell_type": "markdown",
   "metadata": {
    "id": "ppGI3xVvzTqt"
   },
   "source": [
    "### Validation and test score on unseen data"
   ]
  },
  {
   "cell_type": "code",
   "execution_count": 124,
   "metadata": {
    "colab": {
     "base_uri": "https://localhost:8080/"
    },
    "id": "srqaQVWQeFy7",
    "outputId": "8466df0b-832c-40a1-ed86-8a138d9cd292"
   },
   "outputs": [
    {
     "name": "stdout",
     "output_type": "stream",
     "text": [
      "XGB Val score:   0.9888281587314048\n",
      "XGB Test score:  0.988866981929229\n"
     ]
    }
   ],
   "source": [
    "print(\"XGB Val score:   %s\" % xg.score(X_val_set, y_val_data))\n",
    "print(\"XGB Test score:  %s\" % xg.score(X_test_set, y_test_data))"
   ]
  },
  {
   "cell_type": "code",
   "execution_count": 125,
   "metadata": {
    "colab": {
     "base_uri": "https://localhost:8080/"
    },
    "id": "wYz8BYDNeF23",
    "outputId": "80da7a0b-56f3-4ad5-c812-174ffe3533cd"
   },
   "outputs": [
    {
     "name": "stdout",
     "output_type": "stream",
     "text": [
      "RF Val score:   0.9890685716528633\n",
      "RF Test score:  0.9890596972886432\n"
     ]
    }
   ],
   "source": [
    "print(\"RF Val score:   %s\" % rf_important.score(X_val_set, y_val_data))\n",
    "print(\"RF Test score:  %s\" % rf_important.score(X_test_set, y_test_data))"
   ]
  },
  {
   "cell_type": "code",
   "execution_count": 125,
   "metadata": {
    "id": "Hd6OzIlxzTqu"
   },
   "outputs": [],
   "source": []
  },
  {
   "cell_type": "markdown",
   "metadata": {
    "id": "K73IZaCuptTI"
   },
   "source": [
    "### Creating Model with final data (merged data-- ie track + train data)"
   ]
  },
  {
   "cell_type": "code",
   "execution_count": 126,
   "metadata": {
    "colab": {
     "base_uri": "https://localhost:8080/",
     "height": 131
    },
    "id": "k4IpF0hRqAJm",
    "outputId": "8564370e-04f2-418e-923b-89b64851bc37"
   },
   "outputs": [
    {
     "data": {
      "text/html": [
       "<div>\n",
       "<style scoped>\n",
       "    .dataframe tbody tr th:only-of-type {\n",
       "        vertical-align: middle;\n",
       "    }\n",
       "\n",
       "    .dataframe tbody tr th {\n",
       "        vertical-align: top;\n",
       "    }\n",
       "\n",
       "    .dataframe thead th {\n",
       "        text-align: right;\n",
       "    }\n",
       "</style>\n",
       "<table border=\"1\" class=\"dataframe\">\n",
       "  <thead>\n",
       "    <tr style=\"text-align: right;\">\n",
       "      <th></th>\n",
       "      <th>session_position</th>\n",
       "      <th>session_length</th>\n",
       "      <th>context_switch</th>\n",
       "      <th>no_pause_before_play</th>\n",
       "      <th>short_pause_before_play</th>\n",
       "      <th>long_pause_before_play</th>\n",
       "      <th>hist_user_behavior_n_seekfwd</th>\n",
       "      <th>hist_user_behavior_n_seekback</th>\n",
       "      <th>hist_user_behavior_is_shuffle</th>\n",
       "      <th>hour_of_day</th>\n",
       "      <th>premium</th>\n",
       "      <th>skip</th>\n",
       "      <th>duration</th>\n",
       "      <th>release_year</th>\n",
       "      <th>us_popularity_estimate</th>\n",
       "      <th>acousticness</th>\n",
       "      <th>beat_strength</th>\n",
       "      <th>bounciness</th>\n",
       "      <th>danceability</th>\n",
       "      <th>dyn_range_mean</th>\n",
       "      <th>energy</th>\n",
       "      <th>flatness</th>\n",
       "      <th>instrumentalness</th>\n",
       "      <th>liveness</th>\n",
       "      <th>loudness</th>\n",
       "      <th>mechanism</th>\n",
       "      <th>mode</th>\n",
       "      <th>organism</th>\n",
       "      <th>speechiness</th>\n",
       "      <th>tempo</th>\n",
       "      <th>valence</th>\n",
       "      <th>acoustic_vector_0</th>\n",
       "      <th>acoustic_vector_1</th>\n",
       "      <th>acoustic_vector_2</th>\n",
       "      <th>acoustic_vector_3</th>\n",
       "      <th>acoustic_vector_4</th>\n",
       "      <th>acoustic_vector_5</th>\n",
       "      <th>acoustic_vector_6</th>\n",
       "      <th>acoustic_vector_7</th>\n",
       "      <th>context_type_charts</th>\n",
       "      <th>context_type_editorial_playlist</th>\n",
       "      <th>context_type_personalized_playlist</th>\n",
       "      <th>context_type_radio</th>\n",
       "      <th>context_type_user_collection</th>\n",
       "      <th>hist_user_behavior_reason_start_backbtn</th>\n",
       "      <th>hist_user_behavior_reason_start_clickrow</th>\n",
       "      <th>hist_user_behavior_reason_start_endplay</th>\n",
       "      <th>hist_user_behavior_reason_start_fwdbtn</th>\n",
       "      <th>hist_user_behavior_reason_start_playbtn</th>\n",
       "      <th>hist_user_behavior_reason_start_remote</th>\n",
       "      <th>hist_user_behavior_reason_start_trackdone</th>\n",
       "      <th>hist_user_behavior_reason_start_trackerror</th>\n",
       "      <th>hist_user_behavior_reason_end_clickrow</th>\n",
       "      <th>hist_user_behavior_reason_end_endplay</th>\n",
       "      <th>hist_user_behavior_reason_end_fwdbtn</th>\n",
       "      <th>hist_user_behavior_reason_end_logout</th>\n",
       "      <th>hist_user_behavior_reason_end_remote</th>\n",
       "      <th>hist_user_behavior_reason_end_trackdone</th>\n",
       "    </tr>\n",
       "  </thead>\n",
       "  <tbody>\n",
       "    <tr>\n",
       "      <th>0</th>\n",
       "      <td>1.0</td>\n",
       "      <td>20.0</td>\n",
       "      <td>0.0</td>\n",
       "      <td>0.0</td>\n",
       "      <td>0.0</td>\n",
       "      <td>0.0</td>\n",
       "      <td>0.0</td>\n",
       "      <td>0.0</td>\n",
       "      <td>1</td>\n",
       "      <td>16.0</td>\n",
       "      <td>1</td>\n",
       "      <td>0</td>\n",
       "      <td>180.066666</td>\n",
       "      <td>2018</td>\n",
       "      <td>99.968133</td>\n",
       "      <td>0.015848</td>\n",
       "      <td>0.438551</td>\n",
       "      <td>0.473455</td>\n",
       "      <td>0.653119</td>\n",
       "      <td>7.660024</td>\n",
       "      <td>0.553465</td>\n",
       "      <td>1.035007</td>\n",
       "      <td>3.484468e-03</td>\n",
       "      <td>0.678553</td>\n",
       "      <td>-6.577</td>\n",
       "      <td>0.546784</td>\n",
       "      <td>1</td>\n",
       "      <td>0.320668</td>\n",
       "      <td>0.069717</td>\n",
       "      <td>134.024994</td>\n",
       "      <td>0.152255</td>\n",
       "      <td>-0.815775</td>\n",
       "      <td>0.386409</td>\n",
       "      <td>0.230160</td>\n",
       "      <td>0.028028</td>\n",
       "      <td>-0.333373</td>\n",
       "      <td>0.015452</td>\n",
       "      <td>-0.353590</td>\n",
       "      <td>0.205826</td>\n",
       "      <td>0</td>\n",
       "      <td>1</td>\n",
       "      <td>0</td>\n",
       "      <td>0</td>\n",
       "      <td>0</td>\n",
       "      <td>0</td>\n",
       "      <td>0</td>\n",
       "      <td>0</td>\n",
       "      <td>0</td>\n",
       "      <td>0</td>\n",
       "      <td>0</td>\n",
       "      <td>1</td>\n",
       "      <td>0</td>\n",
       "      <td>0</td>\n",
       "      <td>0</td>\n",
       "      <td>0</td>\n",
       "      <td>0</td>\n",
       "      <td>0</td>\n",
       "      <td>1</td>\n",
       "    </tr>\n",
       "    <tr>\n",
       "      <th>1</th>\n",
       "      <td>2.0</td>\n",
       "      <td>20.0</td>\n",
       "      <td>0.0</td>\n",
       "      <td>1.0</td>\n",
       "      <td>0.0</td>\n",
       "      <td>0.0</td>\n",
       "      <td>0.0</td>\n",
       "      <td>0.0</td>\n",
       "      <td>1</td>\n",
       "      <td>16.0</td>\n",
       "      <td>1</td>\n",
       "      <td>0</td>\n",
       "      <td>236.796371</td>\n",
       "      <td>2018</td>\n",
       "      <td>99.896728</td>\n",
       "      <td>0.061811</td>\n",
       "      <td>0.654804</td>\n",
       "      <td>0.735661</td>\n",
       "      <td>0.877393</td>\n",
       "      <td>11.308750</td>\n",
       "      <td>0.726828</td>\n",
       "      <td>1.025636</td>\n",
       "      <td>1.031315e-07</td>\n",
       "      <td>0.104322</td>\n",
       "      <td>-5.319</td>\n",
       "      <td>0.824766</td>\n",
       "      <td>0</td>\n",
       "      <td>0.131391</td>\n",
       "      <td>0.061158</td>\n",
       "      <td>130.037994</td>\n",
       "      <td>0.337152</td>\n",
       "      <td>-0.713646</td>\n",
       "      <td>0.363718</td>\n",
       "      <td>0.310315</td>\n",
       "      <td>-0.042222</td>\n",
       "      <td>-0.383164</td>\n",
       "      <td>0.066357</td>\n",
       "      <td>-0.365308</td>\n",
       "      <td>0.157920</td>\n",
       "      <td>0</td>\n",
       "      <td>1</td>\n",
       "      <td>0</td>\n",
       "      <td>0</td>\n",
       "      <td>0</td>\n",
       "      <td>0</td>\n",
       "      <td>0</td>\n",
       "      <td>0</td>\n",
       "      <td>0</td>\n",
       "      <td>0</td>\n",
       "      <td>0</td>\n",
       "      <td>1</td>\n",
       "      <td>0</td>\n",
       "      <td>0</td>\n",
       "      <td>0</td>\n",
       "      <td>0</td>\n",
       "      <td>0</td>\n",
       "      <td>0</td>\n",
       "      <td>1</td>\n",
       "    </tr>\n",
       "  </tbody>\n",
       "</table>\n",
       "</div>"
      ],
      "text/plain": [
       "   session_position  ...  hist_user_behavior_reason_end_trackdone\n",
       "0               1.0  ...                                        1\n",
       "1               2.0  ...                                        1\n",
       "\n",
       "[2 rows x 58 columns]"
      ]
     },
     "execution_count": 126,
     "metadata": {
      "tags": []
     },
     "output_type": "execute_result"
    }
   ],
   "source": [
    "ft.head(2)"
   ]
  },
  {
   "cell_type": "code",
   "execution_count": 127,
   "metadata": {
    "id": "z9BDyrR_bZwo"
   },
   "outputs": [],
   "source": [
    "X = ft.drop(columns=[\"skip\"])\n",
    "y = ft.skip"
   ]
  },
  {
   "cell_type": "code",
   "execution_count": 128,
   "metadata": {
    "colab": {
     "base_uri": "https://localhost:8080/"
    },
    "id": "yru-l7Vvyn36",
    "outputId": "51cf68f5-c718-4d90-9334-7e28e1d197ca"
   },
   "outputs": [
    {
     "name": "stderr",
     "output_type": "stream",
     "text": [
      "/usr/local/lib/python3.6/dist-packages/sklearn/utils/deprecation.py:87: FutureWarning: Function safe_indexing is deprecated; safe_indexing is deprecated in version 0.22 and will be removed in version 0.24.\n",
      "  warnings.warn(msg, category=FutureWarning)\n"
     ]
    }
   ],
   "source": [
    "X_resampled, Y_resampled = SMOTE(sampling_strategy=1.0, random_state=2).fit_sample(X, y)"
   ]
  },
  {
   "cell_type": "code",
   "execution_count": 129,
   "metadata": {
    "id": "26As2d6NyZ08"
   },
   "outputs": [],
   "source": [
    "X_train, X_test, y_train, y_test = train_test_split(\n",
    "    X_resampled, Y_resampled,\n",
    "    test_size=0.2,\n",
    "    random_state=2\n",
    ")\n",
    "X_train, X_val, y_train, y_val = train_test_split(\n",
    "    X_train,\n",
    "    y_train,\n",
    "    test_size=0.2,\n",
    "    random_state=2\n",
    ")"
   ]
  },
  {
   "cell_type": "markdown",
   "metadata": {
    "id": "e9VpF4L-bk1v"
   },
   "source": [
    "### Scaling Data"
   ]
  },
  {
   "cell_type": "code",
   "execution_count": 130,
   "metadata": {
    "colab": {
     "base_uri": "https://localhost:8080/"
    },
    "id": "FRaWo6xMbk4r",
    "outputId": "d021c24c-5886-49a9-c3ee-b389964a2b57"
   },
   "outputs": [
    {
     "name": "stdout",
     "output_type": "stream",
     "text": [
      "Log Train score: 0.9893968776595002\n",
      "Log Val score:   0.9881972153240883\n",
      "Log Test score:  0.9879908033661465\n"
     ]
    }
   ],
   "source": [
    "scaler = StandardScaler()\n",
    "sX_train = scaler.fit_transform(X_train)\n",
    "sX_val = scaler.transform(X_val)\n",
    "sX_test = scaler.transform(X_test)\n",
    "\n",
    "\n",
    "# Applying Logistic Regression\n",
    "log = LogisticRegressionCV(\n",
    "    cv=3\n",
    ").fit(\n",
    "    sX_train,\n",
    "    y_train\n",
    ")\n",
    "\n",
    "print(\"Log Train score: %s\" % log.score(sX_train,y_train))\n",
    "print(\"Log Val score:   %s\" % log.score(sX_val,y_val))\n",
    "print(\"Log Test score:  %s\" % log.score(sX_test,y_test))"
   ]
  },
  {
   "cell_type": "markdown",
   "metadata": {
    "id": "9HeORT4vzTqv"
   },
   "source": [
    "### Applying Random forest Classifier"
   ]
  },
  {
   "cell_type": "code",
   "execution_count": 131,
   "metadata": {
    "colab": {
     "base_uri": "https://localhost:8080/"
    },
    "id": "EobUKLK_bk7A",
    "outputId": "273a29e8-3e25-4417-e3c7-6102c929c0b0"
   },
   "outputs": [
    {
     "name": "stdout",
     "output_type": "stream",
     "text": [
      "RFC Train score: 0.9999581455697085\n",
      "RFC Val score:   0.9917129384190407\n",
      "RFC Test score:  0.9920980379026317\n"
     ]
    }
   ],
   "source": [
    "rfc = RandomForestClassifier(\n",
    "    n_estimators=100\n",
    ").fit(\n",
    "    X_train,\n",
    "    y_train\n",
    ")\n",
    "\n",
    "print(\"RFC Train score: %s\" % rfc.score(X_train,y_train))\n",
    "print(\"RFC Val score:   %s\" % rfc.score(X_val,y_val))\n",
    "print(\"RFC Test score:  %s\" % rfc.score(X_test,y_test))"
   ]
  },
  {
   "cell_type": "markdown",
   "metadata": {
    "id": "gny0X9hhzTqv"
   },
   "source": [
    "### Feature selction using Boruta"
   ]
  },
  {
   "cell_type": "code",
   "execution_count": 132,
   "metadata": {
    "colab": {
     "base_uri": "https://localhost:8080/"
    },
    "id": "oMM3y-LAblGF",
    "outputId": "6fd96c68-a3dc-4a98-d2f2-ac2880135625"
   },
   "outputs": [
    {
     "name": "stdout",
     "output_type": "stream",
     "text": [
      "Iteration: \t1 / 100\n",
      "Confirmed: \t0\n",
      "Tentative: \t57\n",
      "Rejected: \t0\n",
      "Iteration: \t2 / 100\n",
      "Confirmed: \t0\n",
      "Tentative: \t57\n",
      "Rejected: \t0\n",
      "Iteration: \t3 / 100\n",
      "Confirmed: \t0\n",
      "Tentative: \t57\n",
      "Rejected: \t0\n",
      "Iteration: \t4 / 100\n",
      "Confirmed: \t0\n",
      "Tentative: \t57\n",
      "Rejected: \t0\n",
      "Iteration: \t5 / 100\n",
      "Confirmed: \t0\n",
      "Tentative: \t57\n",
      "Rejected: \t0\n",
      "Iteration: \t6 / 100\n",
      "Confirmed: \t0\n",
      "Tentative: \t57\n",
      "Rejected: \t0\n",
      "Iteration: \t7 / 100\n",
      "Confirmed: \t0\n",
      "Tentative: \t57\n",
      "Rejected: \t0\n",
      "Iteration: \t8 / 100\n",
      "Confirmed: \t41\n",
      "Tentative: \t16\n",
      "Rejected: \t0\n",
      "Iteration: \t9 / 100\n",
      "Confirmed: \t41\n",
      "Tentative: \t12\n",
      "Rejected: \t4\n",
      "Iteration: \t10 / 100\n",
      "Confirmed: \t41\n",
      "Tentative: \t12\n",
      "Rejected: \t4\n",
      "Iteration: \t11 / 100\n",
      "Confirmed: \t41\n",
      "Tentative: \t12\n",
      "Rejected: \t4\n",
      "Iteration: \t12 / 100\n",
      "Confirmed: \t44\n",
      "Tentative: \t9\n",
      "Rejected: \t4\n",
      "Iteration: \t13 / 100\n",
      "Confirmed: \t44\n",
      "Tentative: \t9\n",
      "Rejected: \t4\n",
      "Iteration: \t14 / 100\n",
      "Confirmed: \t44\n",
      "Tentative: \t9\n",
      "Rejected: \t4\n",
      "Iteration: \t15 / 100\n",
      "Confirmed: \t44\n",
      "Tentative: \t9\n",
      "Rejected: \t4\n",
      "Iteration: \t16 / 100\n",
      "Confirmed: \t45\n",
      "Tentative: \t8\n",
      "Rejected: \t4\n",
      "Iteration: \t17 / 100\n",
      "Confirmed: \t45\n",
      "Tentative: \t8\n",
      "Rejected: \t4\n",
      "Iteration: \t18 / 100\n",
      "Confirmed: \t45\n",
      "Tentative: \t8\n",
      "Rejected: \t4\n",
      "Iteration: \t19 / 100\n",
      "Confirmed: \t46\n",
      "Tentative: \t7\n",
      "Rejected: \t4\n",
      "Iteration: \t20 / 100\n",
      "Confirmed: \t46\n",
      "Tentative: \t7\n",
      "Rejected: \t4\n",
      "Iteration: \t21 / 100\n",
      "Confirmed: \t46\n",
      "Tentative: \t7\n",
      "Rejected: \t4\n",
      "Iteration: \t22 / 100\n",
      "Confirmed: \t47\n",
      "Tentative: \t6\n",
      "Rejected: \t4\n",
      "Iteration: \t23 / 100\n",
      "Confirmed: \t47\n",
      "Tentative: \t6\n",
      "Rejected: \t4\n",
      "Iteration: \t24 / 100\n",
      "Confirmed: \t47\n",
      "Tentative: \t6\n",
      "Rejected: \t4\n",
      "Iteration: \t25 / 100\n",
      "Confirmed: \t47\n",
      "Tentative: \t6\n",
      "Rejected: \t4\n",
      "Iteration: \t26 / 100\n",
      "Confirmed: \t48\n",
      "Tentative: \t5\n",
      "Rejected: \t4\n",
      "Iteration: \t27 / 100\n",
      "Confirmed: \t48\n",
      "Tentative: \t5\n",
      "Rejected: \t4\n",
      "Iteration: \t28 / 100\n",
      "Confirmed: \t48\n",
      "Tentative: \t5\n",
      "Rejected: \t4\n",
      "Iteration: \t29 / 100\n",
      "Confirmed: \t49\n",
      "Tentative: \t4\n",
      "Rejected: \t4\n",
      "Iteration: \t30 / 100\n",
      "Confirmed: \t49\n",
      "Tentative: \t4\n",
      "Rejected: \t4\n",
      "Iteration: \t31 / 100\n",
      "Confirmed: \t49\n",
      "Tentative: \t4\n",
      "Rejected: \t4\n",
      "Iteration: \t32 / 100\n",
      "Confirmed: \t49\n",
      "Tentative: \t4\n",
      "Rejected: \t4\n",
      "Iteration: \t33 / 100\n",
      "Confirmed: \t49\n",
      "Tentative: \t4\n",
      "Rejected: \t4\n",
      "Iteration: \t34 / 100\n",
      "Confirmed: \t49\n",
      "Tentative: \t4\n",
      "Rejected: \t4\n",
      "Iteration: \t35 / 100\n",
      "Confirmed: \t49\n",
      "Tentative: \t4\n",
      "Rejected: \t4\n",
      "Iteration: \t36 / 100\n",
      "Confirmed: \t49\n",
      "Tentative: \t4\n",
      "Rejected: \t4\n",
      "Iteration: \t37 / 100\n",
      "Confirmed: \t49\n",
      "Tentative: \t4\n",
      "Rejected: \t4\n",
      "Iteration: \t38 / 100\n",
      "Confirmed: \t49\n",
      "Tentative: \t4\n",
      "Rejected: \t4\n",
      "Iteration: \t39 / 100\n",
      "Confirmed: \t49\n",
      "Tentative: \t4\n",
      "Rejected: \t4\n",
      "Iteration: \t40 / 100\n",
      "Confirmed: \t50\n",
      "Tentative: \t3\n",
      "Rejected: \t4\n",
      "Iteration: \t41 / 100\n",
      "Confirmed: \t50\n",
      "Tentative: \t3\n",
      "Rejected: \t4\n",
      "Iteration: \t42 / 100\n",
      "Confirmed: \t50\n",
      "Tentative: \t3\n",
      "Rejected: \t4\n",
      "Iteration: \t43 / 100\n",
      "Confirmed: \t50\n",
      "Tentative: \t3\n",
      "Rejected: \t4\n",
      "Iteration: \t44 / 100\n",
      "Confirmed: \t50\n",
      "Tentative: \t3\n",
      "Rejected: \t4\n",
      "Iteration: \t45 / 100\n",
      "Confirmed: \t50\n",
      "Tentative: \t3\n",
      "Rejected: \t4\n",
      "Iteration: \t46 / 100\n",
      "Confirmed: \t50\n",
      "Tentative: \t3\n",
      "Rejected: \t4\n",
      "Iteration: \t47 / 100\n",
      "Confirmed: \t50\n",
      "Tentative: \t3\n",
      "Rejected: \t4\n",
      "Iteration: \t48 / 100\n",
      "Confirmed: \t50\n",
      "Tentative: \t3\n",
      "Rejected: \t4\n",
      "Iteration: \t49 / 100\n",
      "Confirmed: \t50\n",
      "Tentative: \t3\n",
      "Rejected: \t4\n",
      "Iteration: \t50 / 100\n",
      "Confirmed: \t50\n",
      "Tentative: \t3\n",
      "Rejected: \t4\n",
      "Iteration: \t51 / 100\n",
      "Confirmed: \t50\n",
      "Tentative: \t3\n",
      "Rejected: \t4\n",
      "Iteration: \t52 / 100\n",
      "Confirmed: \t50\n",
      "Tentative: \t3\n",
      "Rejected: \t4\n",
      "Iteration: \t53 / 100\n",
      "Confirmed: \t50\n",
      "Tentative: \t3\n",
      "Rejected: \t4\n",
      "Iteration: \t54 / 100\n",
      "Confirmed: \t50\n",
      "Tentative: \t3\n",
      "Rejected: \t4\n",
      "Iteration: \t55 / 100\n",
      "Confirmed: \t50\n",
      "Tentative: \t3\n",
      "Rejected: \t4\n",
      "Iteration: \t56 / 100\n",
      "Confirmed: \t50\n",
      "Tentative: \t3\n",
      "Rejected: \t4\n",
      "Iteration: \t57 / 100\n",
      "Confirmed: \t51\n",
      "Tentative: \t2\n",
      "Rejected: \t4\n",
      "Iteration: \t58 / 100\n",
      "Confirmed: \t51\n",
      "Tentative: \t2\n",
      "Rejected: \t4\n",
      "Iteration: \t59 / 100\n",
      "Confirmed: \t51\n",
      "Tentative: \t2\n",
      "Rejected: \t4\n",
      "Iteration: \t60 / 100\n",
      "Confirmed: \t51\n",
      "Tentative: \t2\n",
      "Rejected: \t4\n",
      "Iteration: \t61 / 100\n",
      "Confirmed: \t51\n",
      "Tentative: \t2\n",
      "Rejected: \t4\n",
      "Iteration: \t62 / 100\n",
      "Confirmed: \t51\n",
      "Tentative: \t2\n",
      "Rejected: \t4\n",
      "Iteration: \t63 / 100\n",
      "Confirmed: \t51\n",
      "Tentative: \t2\n",
      "Rejected: \t4\n",
      "Iteration: \t64 / 100\n",
      "Confirmed: \t51\n",
      "Tentative: \t2\n",
      "Rejected: \t4\n",
      "Iteration: \t65 / 100\n",
      "Confirmed: \t51\n",
      "Tentative: \t2\n",
      "Rejected: \t4\n",
      "Iteration: \t66 / 100\n",
      "Confirmed: \t51\n",
      "Tentative: \t2\n",
      "Rejected: \t4\n",
      "Iteration: \t67 / 100\n",
      "Confirmed: \t51\n",
      "Tentative: \t2\n",
      "Rejected: \t4\n",
      "Iteration: \t68 / 100\n",
      "Confirmed: \t51\n",
      "Tentative: \t2\n",
      "Rejected: \t4\n",
      "Iteration: \t69 / 100\n",
      "Confirmed: \t51\n",
      "Tentative: \t2\n",
      "Rejected: \t4\n",
      "Iteration: \t70 / 100\n",
      "Confirmed: \t51\n",
      "Tentative: \t2\n",
      "Rejected: \t4\n",
      "Iteration: \t71 / 100\n",
      "Confirmed: \t51\n",
      "Tentative: \t2\n",
      "Rejected: \t4\n",
      "Iteration: \t72 / 100\n",
      "Confirmed: \t51\n",
      "Tentative: \t2\n",
      "Rejected: \t4\n",
      "Iteration: \t73 / 100\n",
      "Confirmed: \t51\n",
      "Tentative: \t2\n",
      "Rejected: \t4\n",
      "Iteration: \t74 / 100\n",
      "Confirmed: \t51\n",
      "Tentative: \t2\n",
      "Rejected: \t4\n",
      "Iteration: \t75 / 100\n",
      "Confirmed: \t51\n",
      "Tentative: \t2\n",
      "Rejected: \t4\n",
      "Iteration: \t76 / 100\n",
      "Confirmed: \t51\n",
      "Tentative: \t2\n",
      "Rejected: \t4\n",
      "Iteration: \t77 / 100\n",
      "Confirmed: \t51\n",
      "Tentative: \t1\n",
      "Rejected: \t5\n",
      "Iteration: \t78 / 100\n",
      "Confirmed: \t51\n",
      "Tentative: \t1\n",
      "Rejected: \t5\n",
      "Iteration: \t79 / 100\n",
      "Confirmed: \t51\n",
      "Tentative: \t1\n",
      "Rejected: \t5\n",
      "Iteration: \t80 / 100\n",
      "Confirmed: \t51\n",
      "Tentative: \t1\n",
      "Rejected: \t5\n",
      "Iteration: \t81 / 100\n",
      "Confirmed: \t51\n",
      "Tentative: \t1\n",
      "Rejected: \t5\n",
      "Iteration: \t82 / 100\n",
      "Confirmed: \t51\n",
      "Tentative: \t1\n",
      "Rejected: \t5\n",
      "Iteration: \t83 / 100\n",
      "Confirmed: \t51\n",
      "Tentative: \t1\n",
      "Rejected: \t5\n",
      "Iteration: \t84 / 100\n",
      "Confirmed: \t51\n",
      "Tentative: \t1\n",
      "Rejected: \t5\n",
      "Iteration: \t85 / 100\n",
      "Confirmed: \t51\n",
      "Tentative: \t1\n",
      "Rejected: \t5\n",
      "Iteration: \t86 / 100\n",
      "Confirmed: \t51\n",
      "Tentative: \t1\n",
      "Rejected: \t5\n",
      "Iteration: \t87 / 100\n",
      "Confirmed: \t51\n",
      "Tentative: \t1\n",
      "Rejected: \t5\n",
      "Iteration: \t88 / 100\n",
      "Confirmed: \t51\n",
      "Tentative: \t1\n",
      "Rejected: \t5\n",
      "Iteration: \t89 / 100\n",
      "Confirmed: \t51\n",
      "Tentative: \t1\n",
      "Rejected: \t5\n",
      "Iteration: \t90 / 100\n",
      "Confirmed: \t51\n",
      "Tentative: \t1\n",
      "Rejected: \t5\n",
      "Iteration: \t91 / 100\n",
      "Confirmed: \t51\n",
      "Tentative: \t1\n",
      "Rejected: \t5\n",
      "Iteration: \t92 / 100\n",
      "Confirmed: \t51\n",
      "Tentative: \t1\n",
      "Rejected: \t5\n",
      "Iteration: \t93 / 100\n",
      "Confirmed: \t51\n",
      "Tentative: \t1\n",
      "Rejected: \t5\n",
      "Iteration: \t94 / 100\n",
      "Confirmed: \t51\n",
      "Tentative: \t1\n",
      "Rejected: \t5\n",
      "Iteration: \t95 / 100\n",
      "Confirmed: \t52\n",
      "Tentative: \t0\n",
      "Rejected: \t5\n",
      "\n",
      "\n",
      "BorutaPy finished running.\n",
      "\n",
      "Iteration: \t96 / 100\n",
      "Confirmed: \t52\n",
      "Tentative: \t0\n",
      "Rejected: \t5\n"
     ]
    },
    {
     "data": {
      "text/plain": [
       "BorutaPy(alpha=0.05,\n",
       "         estimator=RandomForestClassifier(bootstrap=True, ccp_alpha=0.0,\n",
       "                                          class_weight=None, criterion='gini',\n",
       "                                          max_depth=5, max_features='auto',\n",
       "                                          max_leaf_nodes=None, max_samples=None,\n",
       "                                          min_impurity_decrease=0.0,\n",
       "                                          min_impurity_split=None,\n",
       "                                          min_samples_leaf=1,\n",
       "                                          min_samples_split=2,\n",
       "                                          min_weight_fraction_leaf=0.0,\n",
       "                                          n_estimators=203, n_jobs=None,\n",
       "                                          oob_score=False,\n",
       "                                          random_state=RandomState(MT19937) at 0x7F4E4F4C5CA8,\n",
       "                                          verbose=0, warm_start=False),\n",
       "         max_iter=100, n_estimators='auto', perc=100,\n",
       "         random_state=RandomState(MT19937) at 0x7F4E4F4C5CA8, two_step=True,\n",
       "         verbose=2)"
      ]
     },
     "execution_count": 132,
     "metadata": {
      "tags": []
     },
     "output_type": "execute_result"
    }
   ],
   "source": [
    "rf = RandomForestClassifier(random_state=1, n_estimators=100, max_depth=5)\n",
    "boruta_selector = BorutaPy(rf, n_estimators='auto', verbose=2, random_state=1)   # initialize the boruta selector\n",
    "boruta_selector.fit(np.array(sX_train), np.array(y_train))"
   ]
  },
  {
   "cell_type": "code",
   "execution_count": 133,
   "metadata": {
    "colab": {
     "base_uri": "https://localhost:8080/"
    },
    "id": "nRA1QVCvblJI",
    "outputId": "e0b29fc8-06bb-40f4-eaa7-3e53f1efd607"
   },
   "outputs": [
    {
     "name": "stdout",
     "output_type": "stream",
     "text": [
      "Selected Features:  [ True  True  True  True  True  True  True  True  True  True  True  True\n",
      "  True  True  True  True  True  True  True  True  True  True  True  True\n",
      "  True  True  True  True False  True  True  True  True  True  True  True\n",
      "  True  True  True  True  True  True  True  True  True False  True False\n",
      "  True  True False False  True  True  True  True  True]\n",
      "Ranking:  [1 1 1 1 1 1 1 1 1 1 1 1 1 1 1 1 1 1 1 1 1 1 1 1 1 1 1 1 2 1 1 1 1 1 1 1 1\n",
      " 1 1 1 1 1 1 1 1 3 1 4 1 1 5 6 1 1 1 1 1]\n",
      "No. of significant features:  52\n"
     ]
    }
   ],
   "source": [
    "print(\"Selected Features: \", boruta_selector.support_)    # check selected features\n",
    "print(\"Ranking: \",boruta_selector.ranking_)               # check ranking of features\n",
    "print(\"No. of significant features: \", boruta_selector.n_features_)"
   ]
  },
  {
   "cell_type": "code",
   "execution_count": 134,
   "metadata": {
    "colab": {
     "base_uri": "https://localhost:8080/",
     "height": 1000
    },
    "id": "NWGPVOG1bld6",
    "outputId": "c58dbcbf-4b4a-4c51-8388-a8a61721f61e"
   },
   "outputs": [
    {
     "data": {
      "text/html": [
       "<div>\n",
       "<style scoped>\n",
       "    .dataframe tbody tr th:only-of-type {\n",
       "        vertical-align: middle;\n",
       "    }\n",
       "\n",
       "    .dataframe tbody tr th {\n",
       "        vertical-align: top;\n",
       "    }\n",
       "\n",
       "    .dataframe thead th {\n",
       "        text-align: right;\n",
       "    }\n",
       "</style>\n",
       "<table border=\"1\" class=\"dataframe\">\n",
       "  <thead>\n",
       "    <tr style=\"text-align: right;\">\n",
       "      <th></th>\n",
       "      <th>Feature</th>\n",
       "      <th>Ranking</th>\n",
       "    </tr>\n",
       "  </thead>\n",
       "  <tbody>\n",
       "    <tr>\n",
       "      <th>0</th>\n",
       "      <td>session_position</td>\n",
       "      <td>1</td>\n",
       "    </tr>\n",
       "    <tr>\n",
       "      <th>55</th>\n",
       "      <td>hist_user_behavior_reason_end_remote</td>\n",
       "      <td>1</td>\n",
       "    </tr>\n",
       "    <tr>\n",
       "      <th>29</th>\n",
       "      <td>valence</td>\n",
       "      <td>1</td>\n",
       "    </tr>\n",
       "    <tr>\n",
       "      <th>30</th>\n",
       "      <td>acoustic_vector_0</td>\n",
       "      <td>1</td>\n",
       "    </tr>\n",
       "    <tr>\n",
       "      <th>31</th>\n",
       "      <td>acoustic_vector_1</td>\n",
       "      <td>1</td>\n",
       "    </tr>\n",
       "    <tr>\n",
       "      <th>32</th>\n",
       "      <td>acoustic_vector_2</td>\n",
       "      <td>1</td>\n",
       "    </tr>\n",
       "    <tr>\n",
       "      <th>33</th>\n",
       "      <td>acoustic_vector_3</td>\n",
       "      <td>1</td>\n",
       "    </tr>\n",
       "    <tr>\n",
       "      <th>34</th>\n",
       "      <td>acoustic_vector_4</td>\n",
       "      <td>1</td>\n",
       "    </tr>\n",
       "    <tr>\n",
       "      <th>35</th>\n",
       "      <td>acoustic_vector_5</td>\n",
       "      <td>1</td>\n",
       "    </tr>\n",
       "    <tr>\n",
       "      <th>36</th>\n",
       "      <td>acoustic_vector_6</td>\n",
       "      <td>1</td>\n",
       "    </tr>\n",
       "    <tr>\n",
       "      <th>37</th>\n",
       "      <td>acoustic_vector_7</td>\n",
       "      <td>1</td>\n",
       "    </tr>\n",
       "    <tr>\n",
       "      <th>38</th>\n",
       "      <td>context_type_charts</td>\n",
       "      <td>1</td>\n",
       "    </tr>\n",
       "    <tr>\n",
       "      <th>39</th>\n",
       "      <td>context_type_editorial_playlist</td>\n",
       "      <td>1</td>\n",
       "    </tr>\n",
       "    <tr>\n",
       "      <th>40</th>\n",
       "      <td>context_type_personalized_playlist</td>\n",
       "      <td>1</td>\n",
       "    </tr>\n",
       "    <tr>\n",
       "      <th>41</th>\n",
       "      <td>context_type_radio</td>\n",
       "      <td>1</td>\n",
       "    </tr>\n",
       "    <tr>\n",
       "      <th>42</th>\n",
       "      <td>context_type_user_collection</td>\n",
       "      <td>1</td>\n",
       "    </tr>\n",
       "    <tr>\n",
       "      <th>43</th>\n",
       "      <td>hist_user_behavior_reason_start_backbtn</td>\n",
       "      <td>1</td>\n",
       "    </tr>\n",
       "    <tr>\n",
       "      <th>44</th>\n",
       "      <td>hist_user_behavior_reason_start_clickrow</td>\n",
       "      <td>1</td>\n",
       "    </tr>\n",
       "    <tr>\n",
       "      <th>46</th>\n",
       "      <td>hist_user_behavior_reason_start_fwdbtn</td>\n",
       "      <td>1</td>\n",
       "    </tr>\n",
       "    <tr>\n",
       "      <th>48</th>\n",
       "      <td>hist_user_behavior_reason_start_remote</td>\n",
       "      <td>1</td>\n",
       "    </tr>\n",
       "    <tr>\n",
       "      <th>49</th>\n",
       "      <td>hist_user_behavior_reason_start_trackdone</td>\n",
       "      <td>1</td>\n",
       "    </tr>\n",
       "    <tr>\n",
       "      <th>52</th>\n",
       "      <td>hist_user_behavior_reason_end_endplay</td>\n",
       "      <td>1</td>\n",
       "    </tr>\n",
       "    <tr>\n",
       "      <th>53</th>\n",
       "      <td>hist_user_behavior_reason_end_fwdbtn</td>\n",
       "      <td>1</td>\n",
       "    </tr>\n",
       "    <tr>\n",
       "      <th>54</th>\n",
       "      <td>hist_user_behavior_reason_end_logout</td>\n",
       "      <td>1</td>\n",
       "    </tr>\n",
       "    <tr>\n",
       "      <th>27</th>\n",
       "      <td>speechiness</td>\n",
       "      <td>1</td>\n",
       "    </tr>\n",
       "    <tr>\n",
       "      <th>26</th>\n",
       "      <td>organism</td>\n",
       "      <td>1</td>\n",
       "    </tr>\n",
       "    <tr>\n",
       "      <th>56</th>\n",
       "      <td>hist_user_behavior_reason_end_trackdone</td>\n",
       "      <td>1</td>\n",
       "    </tr>\n",
       "    <tr>\n",
       "      <th>24</th>\n",
       "      <td>mechanism</td>\n",
       "      <td>1</td>\n",
       "    </tr>\n",
       "    <tr>\n",
       "      <th>1</th>\n",
       "      <td>session_length</td>\n",
       "      <td>1</td>\n",
       "    </tr>\n",
       "    <tr>\n",
       "      <th>2</th>\n",
       "      <td>context_switch</td>\n",
       "      <td>1</td>\n",
       "    </tr>\n",
       "    <tr>\n",
       "      <th>3</th>\n",
       "      <td>no_pause_before_play</td>\n",
       "      <td>1</td>\n",
       "    </tr>\n",
       "    <tr>\n",
       "      <th>4</th>\n",
       "      <td>short_pause_before_play</td>\n",
       "      <td>1</td>\n",
       "    </tr>\n",
       "    <tr>\n",
       "      <th>5</th>\n",
       "      <td>long_pause_before_play</td>\n",
       "      <td>1</td>\n",
       "    </tr>\n",
       "    <tr>\n",
       "      <th>6</th>\n",
       "      <td>hist_user_behavior_n_seekfwd</td>\n",
       "      <td>1</td>\n",
       "    </tr>\n",
       "    <tr>\n",
       "      <th>7</th>\n",
       "      <td>hist_user_behavior_n_seekback</td>\n",
       "      <td>1</td>\n",
       "    </tr>\n",
       "    <tr>\n",
       "      <th>8</th>\n",
       "      <td>hist_user_behavior_is_shuffle</td>\n",
       "      <td>1</td>\n",
       "    </tr>\n",
       "    <tr>\n",
       "      <th>9</th>\n",
       "      <td>hour_of_day</td>\n",
       "      <td>1</td>\n",
       "    </tr>\n",
       "    <tr>\n",
       "      <th>25</th>\n",
       "      <td>mode</td>\n",
       "      <td>1</td>\n",
       "    </tr>\n",
       "    <tr>\n",
       "      <th>11</th>\n",
       "      <td>duration</td>\n",
       "      <td>1</td>\n",
       "    </tr>\n",
       "    <tr>\n",
       "      <th>10</th>\n",
       "      <td>premium</td>\n",
       "      <td>1</td>\n",
       "    </tr>\n",
       "    <tr>\n",
       "      <th>13</th>\n",
       "      <td>us_popularity_estimate</td>\n",
       "      <td>1</td>\n",
       "    </tr>\n",
       "    <tr>\n",
       "      <th>23</th>\n",
       "      <td>loudness</td>\n",
       "      <td>1</td>\n",
       "    </tr>\n",
       "    <tr>\n",
       "      <th>22</th>\n",
       "      <td>liveness</td>\n",
       "      <td>1</td>\n",
       "    </tr>\n",
       "    <tr>\n",
       "      <th>21</th>\n",
       "      <td>instrumentalness</td>\n",
       "      <td>1</td>\n",
       "    </tr>\n",
       "    <tr>\n",
       "      <th>20</th>\n",
       "      <td>flatness</td>\n",
       "      <td>1</td>\n",
       "    </tr>\n",
       "    <tr>\n",
       "      <th>12</th>\n",
       "      <td>release_year</td>\n",
       "      <td>1</td>\n",
       "    </tr>\n",
       "    <tr>\n",
       "      <th>19</th>\n",
       "      <td>energy</td>\n",
       "      <td>1</td>\n",
       "    </tr>\n",
       "    <tr>\n",
       "      <th>17</th>\n",
       "      <td>danceability</td>\n",
       "      <td>1</td>\n",
       "    </tr>\n",
       "    <tr>\n",
       "      <th>16</th>\n",
       "      <td>bounciness</td>\n",
       "      <td>1</td>\n",
       "    </tr>\n",
       "    <tr>\n",
       "      <th>15</th>\n",
       "      <td>beat_strength</td>\n",
       "      <td>1</td>\n",
       "    </tr>\n",
       "    <tr>\n",
       "      <th>14</th>\n",
       "      <td>acousticness</td>\n",
       "      <td>1</td>\n",
       "    </tr>\n",
       "    <tr>\n",
       "      <th>18</th>\n",
       "      <td>dyn_range_mean</td>\n",
       "      <td>1</td>\n",
       "    </tr>\n",
       "    <tr>\n",
       "      <th>28</th>\n",
       "      <td>tempo</td>\n",
       "      <td>2</td>\n",
       "    </tr>\n",
       "    <tr>\n",
       "      <th>45</th>\n",
       "      <td>hist_user_behavior_reason_start_endplay</td>\n",
       "      <td>3</td>\n",
       "    </tr>\n",
       "    <tr>\n",
       "      <th>47</th>\n",
       "      <td>hist_user_behavior_reason_start_playbtn</td>\n",
       "      <td>4</td>\n",
       "    </tr>\n",
       "    <tr>\n",
       "      <th>50</th>\n",
       "      <td>hist_user_behavior_reason_start_trackerror</td>\n",
       "      <td>5</td>\n",
       "    </tr>\n",
       "    <tr>\n",
       "      <th>51</th>\n",
       "      <td>hist_user_behavior_reason_end_clickrow</td>\n",
       "      <td>6</td>\n",
       "    </tr>\n",
       "  </tbody>\n",
       "</table>\n",
       "</div>"
      ],
      "text/plain": [
       "                                       Feature  Ranking\n",
       "0                             session_position        1\n",
       "55        hist_user_behavior_reason_end_remote        1\n",
       "29                                     valence        1\n",
       "30                           acoustic_vector_0        1\n",
       "31                           acoustic_vector_1        1\n",
       "32                           acoustic_vector_2        1\n",
       "33                           acoustic_vector_3        1\n",
       "34                           acoustic_vector_4        1\n",
       "35                           acoustic_vector_5        1\n",
       "36                           acoustic_vector_6        1\n",
       "37                           acoustic_vector_7        1\n",
       "38                         context_type_charts        1\n",
       "39             context_type_editorial_playlist        1\n",
       "40          context_type_personalized_playlist        1\n",
       "41                          context_type_radio        1\n",
       "42                context_type_user_collection        1\n",
       "43     hist_user_behavior_reason_start_backbtn        1\n",
       "44    hist_user_behavior_reason_start_clickrow        1\n",
       "46      hist_user_behavior_reason_start_fwdbtn        1\n",
       "48      hist_user_behavior_reason_start_remote        1\n",
       "49   hist_user_behavior_reason_start_trackdone        1\n",
       "52       hist_user_behavior_reason_end_endplay        1\n",
       "53        hist_user_behavior_reason_end_fwdbtn        1\n",
       "54        hist_user_behavior_reason_end_logout        1\n",
       "27                                 speechiness        1\n",
       "26                                    organism        1\n",
       "56     hist_user_behavior_reason_end_trackdone        1\n",
       "24                                   mechanism        1\n",
       "1                               session_length        1\n",
       "2                               context_switch        1\n",
       "3                         no_pause_before_play        1\n",
       "4                      short_pause_before_play        1\n",
       "5                       long_pause_before_play        1\n",
       "6                 hist_user_behavior_n_seekfwd        1\n",
       "7                hist_user_behavior_n_seekback        1\n",
       "8                hist_user_behavior_is_shuffle        1\n",
       "9                                  hour_of_day        1\n",
       "25                                        mode        1\n",
       "11                                    duration        1\n",
       "10                                     premium        1\n",
       "13                      us_popularity_estimate        1\n",
       "23                                    loudness        1\n",
       "22                                    liveness        1\n",
       "21                            instrumentalness        1\n",
       "20                                    flatness        1\n",
       "12                                release_year        1\n",
       "19                                      energy        1\n",
       "17                                danceability        1\n",
       "16                                  bounciness        1\n",
       "15                               beat_strength        1\n",
       "14                                acousticness        1\n",
       "18                              dyn_range_mean        1\n",
       "28                                       tempo        2\n",
       "45     hist_user_behavior_reason_start_endplay        3\n",
       "47     hist_user_behavior_reason_start_playbtn        4\n",
       "50  hist_user_behavior_reason_start_trackerror        5\n",
       "51      hist_user_behavior_reason_end_clickrow        6"
      ]
     },
     "execution_count": 134,
     "metadata": {
      "tags": []
     },
     "output_type": "execute_result"
    }
   ],
   "source": [
    "selected_rf_features = pd.DataFrame({'Feature':list(X.columns),\n",
    "                                      'Ranking':boruta_selector.ranking_})\n",
    "selected_rf_features.sort_values(by='Ranking')"
   ]
  },
  {
   "cell_type": "markdown",
   "metadata": {
    "id": "YplKCQsPzTqw"
   },
   "source": [
    "### Model with important features"
   ]
  },
  {
   "cell_type": "code",
   "execution_count": 135,
   "metadata": {
    "id": "WYF3lkkTblgj"
   },
   "outputs": [],
   "source": [
    "X_important_train = boruta_selector.transform(np.array(X_train))\n",
    "X_important_val = boruta_selector.transform(np.array(X_val))\n",
    "X_important_test = boruta_selector.transform(np.array(X_test))"
   ]
  },
  {
   "cell_type": "markdown",
   "metadata": {
    "id": "PM5FczIjzTqx"
   },
   "source": [
    "### Random Forest"
   ]
  },
  {
   "cell_type": "code",
   "execution_count": 136,
   "metadata": {
    "colab": {
     "base_uri": "https://localhost:8080/"
    },
    "id": "2Qce3YCNblmk",
    "outputId": "f4b54f24-7784-49c9-9717-b34b82fdd961"
   },
   "outputs": [
    {
     "data": {
      "text/plain": [
       "RandomForestClassifier(bootstrap=True, ccp_alpha=0.0, class_weight=None,\n",
       "                       criterion='gini', max_depth=None, max_features='auto',\n",
       "                       max_leaf_nodes=None, max_samples=None,\n",
       "                       min_impurity_decrease=0.0, min_impurity_split=None,\n",
       "                       min_samples_leaf=1, min_samples_split=2,\n",
       "                       min_weight_fraction_leaf=0.0, n_estimators=100,\n",
       "                       n_jobs=-1, oob_score=False, random_state=1, verbose=0,\n",
       "                       warm_start=False)"
      ]
     },
     "execution_count": 136,
     "metadata": {
      "tags": []
     },
     "output_type": "execute_result"
    }
   ],
   "source": [
    "rf_important = RandomForestClassifier(random_state=1, n_estimators=100, n_jobs = -1)\n",
    "rf_important.fit(X_important_train, y_train)"
   ]
  },
  {
   "cell_type": "code",
   "execution_count": 137,
   "metadata": {
    "colab": {
     "base_uri": "https://localhost:8080/"
    },
    "id": "KycVuSX1blp5",
    "outputId": "1142ad2e-18c7-4b0f-b3f2-947c85f68f60"
   },
   "outputs": [
    {
     "name": "stdout",
     "output_type": "stream",
     "text": [
      "RFC Train score: 0.9999860485232361\n",
      "RFC Val score:   0.991852451240269\n",
      "RFC Test score:  0.9921203598294605\n"
     ]
    }
   ],
   "source": [
    "print(\"RFC Train score: %s\" % rf_important.score(X_important_train, y_train))\n",
    "print(\"RFC Val score:   %s\" % rf_important.score(X_important_val, y_val))\n",
    "print(\"RFC Test score:  %s\" % rf_important.score(X_important_test, y_test)) "
   ]
  },
  {
   "cell_type": "markdown",
   "metadata": {
    "id": "eyXLfgSgzTqy"
   },
   "source": [
    "### XG Boost"
   ]
  },
  {
   "cell_type": "code",
   "execution_count": 138,
   "metadata": {
    "colab": {
     "base_uri": "https://localhost:8080/"
    },
    "id": "XDVHbArBTzVd",
    "outputId": "c3bffad0-5872-4cd5-8b1a-d5729da95316"
   },
   "outputs": [
    {
     "name": "stdout",
     "output_type": "stream",
     "text": [
      "[0]\tvalidation_0-error:0.007973\tvalidation_1-error:0.009654\n",
      "Multiple eval metrics have been passed: 'validation_1-error' will be used for early stopping.\n",
      "\n",
      "Will train until validation_1-error hasn't improved in 10 rounds.\n",
      "[1]\tvalidation_0-error:0.007973\tvalidation_1-error:0.009654\n",
      "[2]\tvalidation_0-error:0.007952\tvalidation_1-error:0.009682\n",
      "[3]\tvalidation_0-error:0.007952\tvalidation_1-error:0.009682\n",
      "[4]\tvalidation_0-error:0.007952\tvalidation_1-error:0.009682\n",
      "[5]\tvalidation_0-error:0.007952\tvalidation_1-error:0.009682\n",
      "[6]\tvalidation_0-error:0.007952\tvalidation_1-error:0.009682\n",
      "[7]\tvalidation_0-error:0.007959\tvalidation_1-error:0.009682\n",
      "[8]\tvalidation_0-error:0.007952\tvalidation_1-error:0.009682\n",
      "[9]\tvalidation_0-error:0.007952\tvalidation_1-error:0.009682\n",
      "[10]\tvalidation_0-error:0.007938\tvalidation_1-error:0.009682\n",
      "Stopping. Best iteration:\n",
      "[0]\tvalidation_0-error:0.007973\tvalidation_1-error:0.009654\n",
      "\n"
     ]
    },
    {
     "data": {
      "text/plain": [
       "XGBClassifier(base_score=0.5, booster='gbtree', colsample_bylevel=1,\n",
       "              colsample_bynode=1, colsample_bytree=1, gamma=0,\n",
       "              learning_rate=0.1, max_delta_step=0, max_depth=3,\n",
       "              min_child_weight=1, missing=None, n_estimators=100, n_jobs=1,\n",
       "              nthread=None, objective='binary:logistic', random_state=0,\n",
       "              reg_alpha=0, reg_lambda=1, scale_pos_weight=1, seed=None,\n",
       "              silent=None, subsample=1, verbosity=1)"
      ]
     },
     "execution_count": 138,
     "metadata": {
      "tags": []
     },
     "output_type": "execute_result"
    }
   ],
   "source": [
    "xg = xgb.XGBClassifier()\n",
    "xg.fit(X_important_train, y_train,\n",
    "       eval_set=[(X_important_train, y_train),(X_important_val, y_val)],\n",
    "       early_stopping_rounds=10, verbose=True)"
   ]
  },
  {
   "cell_type": "code",
   "execution_count": 139,
   "metadata": {
    "colab": {
     "base_uri": "https://localhost:8080/"
    },
    "id": "II-FFs9UT2R3",
    "outputId": "e4867fab-0b9c-4844-d0da-a6cd97916f76"
   },
   "outputs": [
    {
     "name": "stdout",
     "output_type": "stream",
     "text": [
      "XGB Train score: 0.9920267310294795\n",
      "XGB Val score:   0.9903457127710037\n",
      "XGB Test score:  0.9909149757807094\n"
     ]
    }
   ],
   "source": [
    "print(\"XGB Train score: %s\" % xg.score(X_important_train,y_train))\n",
    "print(\"XGB Val score:   %s\" % xg.score(X_important_val,y_val))\n",
    "print(\"XGB Test score:  %s\" % xg.score(X_important_test,y_test)) "
   ]
  },
  {
   "cell_type": "markdown",
   "metadata": {
    "id": "wWa0XyhfzTqy"
   },
   "source": [
    "### LGBM "
   ]
  },
  {
   "cell_type": "code",
   "execution_count": 140,
   "metadata": {
    "colab": {
     "base_uri": "https://localhost:8080/"
    },
    "id": "x0l9cG72UAzy",
    "outputId": "24232c8b-bb0f-47a6-804e-8ad37a23b8a7"
   },
   "outputs": [
    {
     "name": "stdout",
     "output_type": "stream",
     "text": [
      "[1]\ttraining's binary_logloss: 0.600579\tvalid_1's binary_logloss: 0.600919\n",
      "Training until validation scores don't improve for 10 rounds.\n",
      "[2]\ttraining's binary_logloss: 0.524782\tvalid_1's binary_logloss: 0.525417\n",
      "[3]\ttraining's binary_logloss: 0.461593\tvalid_1's binary_logloss: 0.462514\n",
      "[4]\ttraining's binary_logloss: 0.408229\tvalid_1's binary_logloss: 0.409416\n",
      "[5]\ttraining's binary_logloss: 0.362778\tvalid_1's binary_logloss: 0.36425\n",
      "[6]\ttraining's binary_logloss: 0.323563\tvalid_1's binary_logloss: 0.325281\n",
      "[7]\ttraining's binary_logloss: 0.289599\tvalid_1's binary_logloss: 0.291545\n",
      "[8]\ttraining's binary_logloss: 0.260109\tvalid_1's binary_logloss: 0.262291\n",
      "[9]\ttraining's binary_logloss: 0.23418\tvalid_1's binary_logloss: 0.236562\n",
      "[10]\ttraining's binary_logloss: 0.211531\tvalid_1's binary_logloss: 0.214129\n",
      "[11]\ttraining's binary_logloss: 0.191533\tvalid_1's binary_logloss: 0.194321\n",
      "[12]\ttraining's binary_logloss: 0.173899\tvalid_1's binary_logloss: 0.176916\n",
      "[13]\ttraining's binary_logloss: 0.158224\tvalid_1's binary_logloss: 0.161422\n",
      "[14]\ttraining's binary_logloss: 0.144354\tvalid_1's binary_logloss: 0.147777\n",
      "[15]\ttraining's binary_logloss: 0.131936\tvalid_1's binary_logloss: 0.135503\n",
      "[16]\ttraining's binary_logloss: 0.120966\tvalid_1's binary_logloss: 0.124773\n",
      "[17]\ttraining's binary_logloss: 0.11116\tvalid_1's binary_logloss: 0.115123\n",
      "[18]\ttraining's binary_logloss: 0.102418\tvalid_1's binary_logloss: 0.106578\n",
      "[19]\ttraining's binary_logloss: 0.0945559\tvalid_1's binary_logloss: 0.0989075\n",
      "[20]\ttraining's binary_logloss: 0.0875737\tvalid_1's binary_logloss: 0.0921089\n",
      "[21]\ttraining's binary_logloss: 0.0813251\tvalid_1's binary_logloss: 0.0860389\n",
      "[22]\ttraining's binary_logloss: 0.0757125\tvalid_1's binary_logloss: 0.080583\n",
      "[23]\ttraining's binary_logloss: 0.0706705\tvalid_1's binary_logloss: 0.0756929\n",
      "[24]\ttraining's binary_logloss: 0.0662126\tvalid_1's binary_logloss: 0.0714153\n",
      "[25]\ttraining's binary_logloss: 0.0621769\tvalid_1's binary_logloss: 0.0675827\n",
      "[26]\ttraining's binary_logloss: 0.058546\tvalid_1's binary_logloss: 0.0640532\n",
      "[27]\ttraining's binary_logloss: 0.0552797\tvalid_1's binary_logloss: 0.0609545\n",
      "[28]\ttraining's binary_logloss: 0.0523408\tvalid_1's binary_logloss: 0.0582179\n",
      "[29]\ttraining's binary_logloss: 0.0496618\tvalid_1's binary_logloss: 0.0556927\n",
      "[30]\ttraining's binary_logloss: 0.0472747\tvalid_1's binary_logloss: 0.0533812\n",
      "[31]\ttraining's binary_logloss: 0.0450888\tvalid_1's binary_logloss: 0.0512931\n",
      "[32]\ttraining's binary_logloss: 0.0431109\tvalid_1's binary_logloss: 0.0494419\n",
      "[33]\ttraining's binary_logloss: 0.0411543\tvalid_1's binary_logloss: 0.0474826\n",
      "[34]\ttraining's binary_logloss: 0.0395013\tvalid_1's binary_logloss: 0.0459837\n",
      "[35]\ttraining's binary_logloss: 0.0379484\tvalid_1's binary_logloss: 0.0444667\n",
      "[36]\ttraining's binary_logloss: 0.0366194\tvalid_1's binary_logloss: 0.04321\n",
      "[37]\ttraining's binary_logloss: 0.035359\tvalid_1's binary_logloss: 0.0420302\n",
      "[38]\ttraining's binary_logloss: 0.0342533\tvalid_1's binary_logloss: 0.0410332\n",
      "[39]\ttraining's binary_logloss: 0.0332547\tvalid_1's binary_logloss: 0.0400982\n",
      "[40]\ttraining's binary_logloss: 0.0322532\tvalid_1's binary_logloss: 0.0393102\n",
      "[41]\ttraining's binary_logloss: 0.031227\tvalid_1's binary_logloss: 0.0385086\n",
      "[42]\ttraining's binary_logloss: 0.0304339\tvalid_1's binary_logloss: 0.0378824\n",
      "[43]\ttraining's binary_logloss: 0.029658\tvalid_1's binary_logloss: 0.0371854\n",
      "[44]\ttraining's binary_logloss: 0.0288789\tvalid_1's binary_logloss: 0.0365231\n",
      "[45]\ttraining's binary_logloss: 0.0281545\tvalid_1's binary_logloss: 0.0359528\n",
      "[46]\ttraining's binary_logloss: 0.0275573\tvalid_1's binary_logloss: 0.035527\n",
      "[47]\ttraining's binary_logloss: 0.0270347\tvalid_1's binary_logloss: 0.035138\n",
      "[48]\ttraining's binary_logloss: 0.0264745\tvalid_1's binary_logloss: 0.0348514\n",
      "[49]\ttraining's binary_logloss: 0.0259478\tvalid_1's binary_logloss: 0.03432\n",
      "[50]\ttraining's binary_logloss: 0.0254437\tvalid_1's binary_logloss: 0.0339699\n",
      "[51]\ttraining's binary_logloss: 0.024971\tvalid_1's binary_logloss: 0.0336277\n",
      "[52]\ttraining's binary_logloss: 0.0245418\tvalid_1's binary_logloss: 0.033322\n",
      "[53]\ttraining's binary_logloss: 0.0241607\tvalid_1's binary_logloss: 0.0330262\n",
      "[54]\ttraining's binary_logloss: 0.0237512\tvalid_1's binary_logloss: 0.0327769\n",
      "[55]\ttraining's binary_logloss: 0.0234256\tvalid_1's binary_logloss: 0.0324944\n",
      "[56]\ttraining's binary_logloss: 0.0230565\tvalid_1's binary_logloss: 0.0322165\n",
      "[57]\ttraining's binary_logloss: 0.0227182\tvalid_1's binary_logloss: 0.0320426\n",
      "[58]\ttraining's binary_logloss: 0.0224241\tvalid_1's binary_logloss: 0.0318487\n",
      "[59]\ttraining's binary_logloss: 0.0221671\tvalid_1's binary_logloss: 0.0317208\n",
      "[60]\ttraining's binary_logloss: 0.0218483\tvalid_1's binary_logloss: 0.0315611\n",
      "[61]\ttraining's binary_logloss: 0.0215735\tvalid_1's binary_logloss: 0.0313879\n",
      "[62]\ttraining's binary_logloss: 0.0212751\tvalid_1's binary_logloss: 0.0312602\n",
      "[63]\ttraining's binary_logloss: 0.0210489\tvalid_1's binary_logloss: 0.0311226\n",
      "[64]\ttraining's binary_logloss: 0.020828\tvalid_1's binary_logloss: 0.0309638\n",
      "[65]\ttraining's binary_logloss: 0.0205669\tvalid_1's binary_logloss: 0.0310452\n",
      "[66]\ttraining's binary_logloss: 0.0203084\tvalid_1's binary_logloss: 0.0309767\n",
      "[67]\ttraining's binary_logloss: 0.0201031\tvalid_1's binary_logloss: 0.030885\n",
      "[68]\ttraining's binary_logloss: 0.0199239\tvalid_1's binary_logloss: 0.0307727\n",
      "[69]\ttraining's binary_logloss: 0.019766\tvalid_1's binary_logloss: 0.030705\n",
      "[70]\ttraining's binary_logloss: 0.0195693\tvalid_1's binary_logloss: 0.0306574\n",
      "[71]\ttraining's binary_logloss: 0.0193576\tvalid_1's binary_logloss: 0.0305947\n",
      "[72]\ttraining's binary_logloss: 0.0193385\tvalid_1's binary_logloss: 0.0310537\n",
      "[73]\ttraining's binary_logloss: 0.0190858\tvalid_1's binary_logloss: 0.0309107\n",
      "[74]\ttraining's binary_logloss: 0.0188768\tvalid_1's binary_logloss: 0.0308173\n",
      "[75]\ttraining's binary_logloss: 0.018722\tvalid_1's binary_logloss: 0.0307051\n",
      "[76]\ttraining's binary_logloss: 0.0185199\tvalid_1's binary_logloss: 0.0305657\n",
      "[77]\ttraining's binary_logloss: 0.0183919\tvalid_1's binary_logloss: 0.030507\n",
      "[78]\ttraining's binary_logloss: 0.0182091\tvalid_1's binary_logloss: 0.030459\n",
      "[79]\ttraining's binary_logloss: 0.0180603\tvalid_1's binary_logloss: 0.0303905\n",
      "[80]\ttraining's binary_logloss: 0.0179082\tvalid_1's binary_logloss: 0.0303153\n",
      "[81]\ttraining's binary_logloss: 0.0177954\tvalid_1's binary_logloss: 0.0302763\n",
      "[82]\ttraining's binary_logloss: 0.0176181\tvalid_1's binary_logloss: 0.0301456\n",
      "[83]\ttraining's binary_logloss: 0.0174626\tvalid_1's binary_logloss: 0.0300836\n",
      "[84]\ttraining's binary_logloss: 0.0173325\tvalid_1's binary_logloss: 0.0300826\n",
      "[85]\ttraining's binary_logloss: 0.0172329\tvalid_1's binary_logloss: 0.0300286\n",
      "[86]\ttraining's binary_logloss: 0.0170854\tvalid_1's binary_logloss: 0.0299965\n",
      "[87]\ttraining's binary_logloss: 0.0169756\tvalid_1's binary_logloss: 0.0299785\n",
      "[88]\ttraining's binary_logloss: 0.0168269\tvalid_1's binary_logloss: 0.0299547\n",
      "[89]\ttraining's binary_logloss: 0.0191918\tvalid_1's binary_logloss: 0.0350564\n",
      "[90]\ttraining's binary_logloss: 0.0171109\tvalid_1's binary_logloss: 0.0317242\n",
      "[91]\ttraining's binary_logloss: 0.0169298\tvalid_1's binary_logloss: 0.031732\n",
      "[92]\ttraining's binary_logloss: 0.0211831\tvalid_1's binary_logloss: 0.0379258\n",
      "[93]\ttraining's binary_logloss: 0.0170642\tvalid_1's binary_logloss: 0.0326047\n",
      "[94]\ttraining's binary_logloss: 0.016928\tvalid_1's binary_logloss: 0.0326098\n",
      "[95]\ttraining's binary_logloss: 0.016791\tvalid_1's binary_logloss: 0.0325743\n",
      "[96]\ttraining's binary_logloss: 0.0166725\tvalid_1's binary_logloss: 0.0325755\n",
      "[97]\ttraining's binary_logloss: 0.0164939\tvalid_1's binary_logloss: 0.0325574\n",
      "[98]\ttraining's binary_logloss: 0.016358\tvalid_1's binary_logloss: 0.0322212\n",
      "Early stopping, best iteration is:\n",
      "[88]\ttraining's binary_logloss: 0.0168269\tvalid_1's binary_logloss: 0.0299547\n",
      "\n",
      "LGBM Train score: 0.9945170696318205\n",
      "LGBM Val score:   0.9920198666257429\n",
      "LGBM Test score:  0.9921873256099466\n"
     ]
    }
   ],
   "source": [
    "lgbm = LGBMClassifier( ).fit( X_important_train, y_train,\n",
    "       eval_set=[(X_important_train, y_train),(X_important_val, y_val)],\n",
    "       early_stopping_rounds=10, verbose=True)\n",
    "\n",
    "print()\n",
    "print(\"LGBM Train score: %s\" % lgbm.score(X_important_train,y_train))\n",
    "print(\"LGBM Val score:   %s\" % lgbm.score(X_important_val,y_val))\n",
    "print(\"LGBM Test score:  %s\" % lgbm.score(X_important_test,y_test))"
   ]
  },
  {
   "cell_type": "code",
   "execution_count": 141,
   "metadata": {
    "id": "1BaXcjrzzTqz"
   },
   "outputs": [],
   "source": [
    "y_pred = lgbm.predict(X_important_test)"
   ]
  },
  {
   "cell_type": "code",
   "execution_count": 143,
   "metadata": {
    "colab": {
     "base_uri": "https://localhost:8080/",
     "height": 435
    },
    "id": "NwBdgY1IzTqz",
    "outputId": "9bb81d73-ff8c-4def-866c-f0bec59f4d3e"
   },
   "outputs": [
    {
     "name": "stdout",
     "output_type": "stream",
     "text": [
      "              precision    recall  f1-score   support\n",
      "\n",
      "           0       0.99      1.00      0.99     22340\n",
      "           1       1.00      0.99      0.99     22459\n",
      "\n",
      "    accuracy                           0.99     44799\n",
      "   macro avg       0.99      0.99      0.99     44799\n",
      "weighted avg       0.99      0.99      0.99     44799\n",
      "\n"
     ]
    },
    {
     "data": {
      "text/plain": [
       "<matplotlib.axes._subplots.AxesSubplot at 0x7f4e319f8128>"
      ]
     },
     "execution_count": 143,
     "metadata": {
      "tags": []
     },
     "output_type": "execute_result"
    },
    {
     "data": {
      "image/png": "[encoded data removed]",
      "text/plain": [
       "<Figure size 432x288 with 2 Axes>"
      ]
     },
     "metadata": {
      "needs_background": "light",
      "tags": []
     },
     "output_type": "display_data"
    }
   ],
   "source": [
    "# draw classification report and confusion matrix  for LGBM MODEL (BASE MODEL)\n",
    "from sklearn.metrics import classification_report, confusion_matrix\n",
    "\n",
    "print(classification_report(y_test, y_pred))\n",
    "cf = confusion_matrix(y_test, y_pred)\n",
    "sns.heatmap(cf, annot=True)"
   ]
  },
  {
   "cell_type": "code",
   "execution_count": 144,
   "metadata": {
    "id": "3tz9CE-KmKda"
   },
   "outputs": [],
   "source": [
    "import pickle\n",
    "pickle.dump(lgbm, open(\"lbm.pkl\", 'wb'))\n",
    "pickle.dump(xg, open(\"xg.pkl\", 'wb'))\n",
    "pickle.dump(rf_important, open(\"rf.pkl\", 'wb'))"
   ]
  },
  {
   "cell_type": "code",
   "execution_count": null,
   "metadata": {
    "id": "j-KEkP08mJ6x"
   },
   "outputs": [],
   "source": []
  }
 ],
 "metadata": {
  "colab": {
   "collapsed_sections": [],
   "name": "Spotify_Skip_Prediction.ipynb",
   "provenance": []
  },
  "kernelspec": {
   "display_name": "Python 3",
   "language": "python",
   "name": "python3"
  },
  "language_info": {
   "codemirror_mode": {
    "name": "ipython",
    "version": 3
   },
   "file_extension": ".py",
   "mimetype": "text/x-python",
   "name": "python",
   "nbconvert_exporter": "python",
   "pygments_lexer": "ipython3",
   "version": "3.8.3"
  }
 },
 "nbformat": 4,
 "nbformat_minor": 1
}
